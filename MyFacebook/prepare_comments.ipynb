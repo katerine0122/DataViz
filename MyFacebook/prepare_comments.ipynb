{
 "cells": [
  {
   "cell_type": "code",
   "execution_count": 2,
   "metadata": {},
   "outputs": [],
   "source": [
    "import json\n",
    "import csv\n",
    "import re"
   ]
  },
  {
   "cell_type": "markdown",
   "metadata": {},
   "source": [
    "### Leer mis respuestas a otros posts"
   ]
  },
  {
   "cell_type": "code",
   "execution_count": 27,
   "metadata": {},
   "outputs": [],
   "source": [
    "#abrir el json\n",
    "with open (\"./datos/comments.json\", 'r') as f:\n",
    "    data = json.load(f)"
   ]
  },
  {
   "cell_type": "raw",
   "metadata": {},
   "source": [
    "Este es un ejemplo de cómo viene la info\n",
    "\n",
    "{\n",
    "  \"comments\": [\n",
    "    {\n",
    "      \"timestamp\": 1483030841,\n",
    "      \"data\": [\n",
    "        {\n",
    "          \"comment\": {\n",
    "            \"timestamp\": 1483030841,\n",
    "            \"comment\": \"Avisen!! Vivo a la vuelta :p\",\n",
    "            \"author\": \"Pablo Quetzalc\\u00c3\\u00b3atl\"\n",
    "          }\n",
    "        }\n",
    "      ],\n",
    "      \"title\": \"Pablo Quetzalc\\u00c3\\u00b3atl coment\\u00c3\\u00b3 la publicaci\\u00c3\\u00b3n de XXXX.\"\n",
    "    },\n",
    "      {\n",
    "      \"timestamp\": 1480614489,\n",
    "      \"data\": [\n",
    "        {\n",
    "          \"comment\": {\n",
    "            \"timestamp\": 1480614489,\n",
    "            \"comment\": \"\\u00c2\\u00a1Nada que!\",\n",
    "            \"author\": \"Pablo Quetzalc\\u00c3\\u00b3atl\"\n",
    "          }\n",
    "        }\n",
    "      ],\n",
    "      \"title\": \"Pablo Quetzalc\\u00c3\\u00b3atl coment\\u00c3\\u00b3 la publicaci\\u00c3\\u00b3n de XXXX\"\n",
    "    }\n",
    "  ]\n",
    "}"
   ]
  },
  {
   "cell_type": "code",
   "execution_count": 28,
   "metadata": {},
   "outputs": [
    {
     "data": {
      "text/plain": [
       "586"
      ]
     },
     "execution_count": 28,
     "metadata": {},
     "output_type": "execute_result"
    }
   ],
   "source": [
    "\n",
    "# Creo una lista para quedarme la lista final de campos\n",
    "mis_comentarios=[]\n",
    "\n",
    "# comments son diccionarios dentro de la lista data\n",
    "comments = data['comments']\n",
    "\n",
    "# itero sobre la lista para obtener lso datos de cada post\n",
    "for count,element in enumerate(comments):    \n",
    "    try:\n",
    "        #lista para un row\n",
    "        #print(count)\n",
    "        comentario=[]                \n",
    "        \n",
    "        if element['data']:\n",
    "            j = element['data']\n",
    "            l = j[0]['comment']        \n",
    "            #print (element['title'])        \n",
    "            comentario.append(l['timestamp'])\n",
    "            comentario.append(element['title'].encode('latin1').decode('utf8'))\n",
    "            comentario.append(l['comment'].encode('latin1').decode('utf8'))\n",
    "        else:\n",
    "            #print(\"error\")\n",
    "            comentario.append(element['timestamp'])\n",
    "            comentario.append(element['title'].encode('latin1').decode('utf8'))\n",
    "            comentario.append('')\n",
    "\n",
    "        #print (comentario)\n",
    "        mis_comentarios.append(comentario)\n",
    "    \n",
    "    except:\n",
    "        #print (\"error in : \" + str(element))\n",
    "        pass\n",
    " \n",
    "len (mis_comentarios)\n",
    "\n"
   ]
  },
  {
   "cell_type": "code",
   "execution_count": 29,
   "metadata": {},
   "outputs": [],
   "source": [
    "with open (\"./datos/misComentarios.csv\", 'w',encoding='utf-8',newline='') as file:\n",
    "    writer = csv.writer(file,\n",
    "                        quoting=csv.QUOTE_NONNUMERIC)\n",
    "    writer.writerow([\"Timestamp\", \"Title\", \"Comment\"])\n",
    "    writer.writerows(mis_comentarios)\n",
    "    "
   ]
  },
  {
   "cell_type": "markdown",
   "metadata": {},
   "source": [
    "### Leer mis posts"
   ]
  },
  {
   "cell_type": "code",
   "execution_count": 3,
   "metadata": {},
   "outputs": [],
   "source": [
    "with open (\"./datos/your_posts_1.json\",'r') as post_file:\n",
    "    posts=json.load(post_file)"
   ]
  },
  {
   "cell_type": "markdown",
   "metadata": {},
   "source": [
    "Tuve conectado Spotify y Deezer a Facebook durante un tiempo y por eso tengo muchas entradas, que no nos sirven, de este tipo:\n"
   ]
  },
  {
   "cell_type": "raw",
   "metadata": {},
   "source": [
    "{\n",
    "    \"timestamp\": 1509378754,\n",
    "    \"attachments\": [\n",
    "      {\n",
    "        \"data\": [\n",
    "          {\n",
    "            \"external_context\": {\n",
    "              \"name\": \"The Strokes - I Can't Win - Listen on Deezer\",\n",
    "              \"source\": \"Deezer\",\n",
    "              \"url\": \"http://www.deezer.com/en/track/15591112\"\n",
    "            }\n",
    "          }\n",
    "        ]\n",
    "      }\n",
    "    ],\n",
    "    \"data\": [\n",
    "      \n",
    "    ],\n",
    "    \"title\": \"Pablo Quetzalc\\u00c3\\u00b3atl escuch\\u00c3\\u00b3 The Strokes - I Can't Win - Listen on Deezer de The Strokes - Listen on Deezer | Music Streaming en Deezer.\"\n",
    "  }"
   ]
  },
  {
   "cell_type": "markdown",
   "metadata": {},
   "source": [
    "Los posts que nos interesan son como este:"
   ]
  },
  {
   "cell_type": "raw",
   "metadata": {},
   "source": [
    "{\n",
    "    \"timestamp\": 1366125910,\n",
    "    \"attachments\": [\n",
    "      \n",
    "    ],\n",
    "    \"data\": [\n",
    "      {\n",
    "        \"post\": \"We are Mexico Patriots ...\"\n",
    "      },\n",
    "      {\n",
    "        \"update_timestamp\": 1366125910\n",
    "      }\n",
    "    ],\n",
    "    \"title\": \"Pablo Quetzalc\\u00c3\\u00b3atl\"\n",
    "  }"
   ]
  },
  {
   "cell_type": "code",
   "execution_count": 25,
   "metadata": {},
   "outputs": [],
   "source": [
    "# Creo una lista para quedarme la lista final de campos\n",
    "list_posts=[]\n",
    "error_list=[]\n",
    "\n",
    "# El archivo es una lista de deccionarios. Voy a iterar en ella\n",
    "for count, element in enumerate(posts):\n",
    "    try:        \n",
    "        list_single_post =[]\n",
    "        \n",
    "        #asignar el title\n",
    "        if element.get(\"title\"):\n",
    "            title = element['title'].encode('latin1').decode('utf8')\n",
    "        else:\n",
    "            title = \"No Title\"\n",
    "        if element.get(\"timestamp\"):\n",
    "            time_stamp = element['timestamp']\n",
    "        # asignar el post    \n",
    "        if element.get('data'):\n",
    "            data_key = element.get('data')  \n",
    "            #print (type(data_key))\n",
    "            for key in data_key:        \n",
    "                if key.get('post') :\n",
    "                    #print(key)\n",
    "                    post = str(key.get('post')).encode('latin1').decode('utf8')                    \n",
    "                                        \n",
    "\n",
    "                    list_single_post.append(time_stamp)\n",
    "                    list_single_post.append(title)\n",
    "                    list_single_post.append(post)\n",
    "\n",
    "                    list_posts.append(list_single_post)\n",
    "\n",
    "    except Exception as e: # work on python 3.x\n",
    "        print(e)\n",
    "                \n",
    "        "
   ]
  },
  {
   "cell_type": "code",
   "execution_count": 26,
   "metadata": {},
   "outputs": [],
   "source": [
    "with open (\"./datos/misPosts.csv\", 'w',encoding='utf-8',newline='') as file:\n",
    "    writer = csv.writer(file,\n",
    "                        quoting=csv.QUOTE_NONNUMERIC)\n",
    "    writer.writerow([\"Timestamp\", \"Title\", \"Comment\"])\n",
    "    writer.writerows(list_posts)\n",
    "    "
   ]
  },
  {
   "cell_type": "code",
   "execution_count": null,
   "metadata": {},
   "outputs": [],
   "source": [
    "print(error_list)"
   ]
  },
  {
   "cell_type": "code",
   "execution_count": null,
   "metadata": {},
   "outputs": [],
   "source": []
  }
 ],
 "metadata": {
  "kernelspec": {
   "display_name": "Python 3",
   "language": "python",
   "name": "python3"
  },
  "language_info": {
   "codemirror_mode": {
    "name": "ipython",
    "version": 3
   },
   "file_extension": ".py",
   "mimetype": "text/x-python",
   "name": "python",
   "nbconvert_exporter": "python",
   "pygments_lexer": "ipython3",
   "version": "3.7.5"
  }
 },
 "nbformat": 4,
 "nbformat_minor": 4
}
