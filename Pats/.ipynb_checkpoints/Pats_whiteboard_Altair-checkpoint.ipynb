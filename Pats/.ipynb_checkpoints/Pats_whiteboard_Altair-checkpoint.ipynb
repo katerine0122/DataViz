{
 "cells": [
  {
   "cell_type": "code",
   "execution_count": 2,
   "metadata": {},
   "outputs": [
    {
     "name": "stdout",
     "output_type": "stream",
     "text": [
      "4.0.0\n"
     ]
    }
   ],
   "source": [
    "import altair as alt\n",
    "import pandas as pd\n",
    "print(alt.__version__)"
   ]
  },
  {
   "cell_type": "code",
   "execution_count": 8,
   "metadata": {},
   "outputs": [],
   "source": [
    "data = pd.read_csv('./Pats_penalty_plays_2009_2019.csv')"
   ]
  },
  {
   "cell_type": "code",
   "execution_count": 9,
   "metadata": {},
   "outputs": [],
   "source": [
    "data['season']=data['season'].astype(str)"
   ]
  },
  {
   "cell_type": "code",
   "execution_count": 10,
   "metadata": {},
   "outputs": [],
   "source": [
    "#Crear columna para categoría de ganador\n",
    "data[\"game_winner_cat\"]=data[\"winner\"].apply(lambda x: 'NE' if x =='NE' else 'Oponente')\n"
   ]
  },
  {
   "cell_type": "code",
   "execution_count": 11,
   "metadata": {},
   "outputs": [
    {
     "data": {
      "text/html": [
       "<div>\n",
       "<style scoped>\n",
       "    .dataframe tbody tr th:only-of-type {\n",
       "        vertical-align: middle;\n",
       "    }\n",
       "\n",
       "    .dataframe tbody tr th {\n",
       "        vertical-align: top;\n",
       "    }\n",
       "\n",
       "    .dataframe thead th {\n",
       "        text-align: right;\n",
       "    }\n",
       "</style>\n",
       "<table border=\"1\" class=\"dataframe\">\n",
       "  <thead>\n",
       "    <tr style=\"text-align: right;\">\n",
       "      <th></th>\n",
       "      <th>season</th>\n",
       "      <th>home</th>\n",
       "      <th>away</th>\n",
       "      <th>week</th>\n",
       "      <th>score_home</th>\n",
       "      <th>score_away</th>\n",
       "      <th>winner</th>\n",
       "      <th>loser</th>\n",
       "      <th>team_possesion</th>\n",
       "      <th>field_position</th>\n",
       "      <th>...</th>\n",
       "      <th>team_possesion_cat</th>\n",
       "      <th>team_penalty_cat</th>\n",
       "      <th>penalty_side</th>\n",
       "      <th>opportunity</th>\n",
       "      <th>yards_to_go</th>\n",
       "      <th>week_type</th>\n",
       "      <th>one_posession_game</th>\n",
       "      <th>pats_points</th>\n",
       "      <th>opps_points</th>\n",
       "      <th>game_winner_cat</th>\n",
       "    </tr>\n",
       "  </thead>\n",
       "  <tbody>\n",
       "    <tr>\n",
       "      <th>0</th>\n",
       "      <td>2009</td>\n",
       "      <td>NE</td>\n",
       "      <td>BUF</td>\n",
       "      <td>1</td>\n",
       "      <td>25</td>\n",
       "      <td>24</td>\n",
       "      <td>NE</td>\n",
       "      <td>BUF</td>\n",
       "      <td>BUF</td>\n",
       "      <td>BUF 43</td>\n",
       "      <td>...</td>\n",
       "      <td>Oponente</td>\n",
       "      <td>Oponente</td>\n",
       "      <td>Castigo Ofensivo</td>\n",
       "      <td>3.0</td>\n",
       "      <td>7.0</td>\n",
       "      <td>1</td>\n",
       "      <td>Juego de una posesión</td>\n",
       "      <td>25</td>\n",
       "      <td>24</td>\n",
       "      <td>NE</td>\n",
       "    </tr>\n",
       "    <tr>\n",
       "      <th>1</th>\n",
       "      <td>2009</td>\n",
       "      <td>NE</td>\n",
       "      <td>BUF</td>\n",
       "      <td>1</td>\n",
       "      <td>25</td>\n",
       "      <td>24</td>\n",
       "      <td>NE</td>\n",
       "      <td>BUF</td>\n",
       "      <td>NE</td>\n",
       "      <td>NE 30</td>\n",
       "      <td>...</td>\n",
       "      <td>NE</td>\n",
       "      <td>NE</td>\n",
       "      <td>Castigo Ofensivo</td>\n",
       "      <td>2.0</td>\n",
       "      <td>8.0</td>\n",
       "      <td>1</td>\n",
       "      <td>Juego de una posesión</td>\n",
       "      <td>25</td>\n",
       "      <td>24</td>\n",
       "      <td>NE</td>\n",
       "    </tr>\n",
       "    <tr>\n",
       "      <th>2</th>\n",
       "      <td>2009</td>\n",
       "      <td>NE</td>\n",
       "      <td>BUF</td>\n",
       "      <td>1</td>\n",
       "      <td>25</td>\n",
       "      <td>24</td>\n",
       "      <td>NE</td>\n",
       "      <td>BUF</td>\n",
       "      <td>NE</td>\n",
       "      <td>NE 45</td>\n",
       "      <td>...</td>\n",
       "      <td>NE</td>\n",
       "      <td>Oponente</td>\n",
       "      <td>Castigo Defensivo</td>\n",
       "      <td>1.0</td>\n",
       "      <td>10.0</td>\n",
       "      <td>1</td>\n",
       "      <td>Juego de una posesión</td>\n",
       "      <td>25</td>\n",
       "      <td>24</td>\n",
       "      <td>NE</td>\n",
       "    </tr>\n",
       "    <tr>\n",
       "      <th>3</th>\n",
       "      <td>2009</td>\n",
       "      <td>NE</td>\n",
       "      <td>BUF</td>\n",
       "      <td>1</td>\n",
       "      <td>25</td>\n",
       "      <td>24</td>\n",
       "      <td>NE</td>\n",
       "      <td>BUF</td>\n",
       "      <td>BUF</td>\n",
       "      <td>BUF 48</td>\n",
       "      <td>...</td>\n",
       "      <td>Oponente</td>\n",
       "      <td>NE</td>\n",
       "      <td>Castigo Defensivo</td>\n",
       "      <td>1.0</td>\n",
       "      <td>10.0</td>\n",
       "      <td>1</td>\n",
       "      <td>Juego de una posesión</td>\n",
       "      <td>25</td>\n",
       "      <td>24</td>\n",
       "      <td>NE</td>\n",
       "    </tr>\n",
       "    <tr>\n",
       "      <th>4</th>\n",
       "      <td>2009</td>\n",
       "      <td>NE</td>\n",
       "      <td>BUF</td>\n",
       "      <td>1</td>\n",
       "      <td>25</td>\n",
       "      <td>24</td>\n",
       "      <td>NE</td>\n",
       "      <td>BUF</td>\n",
       "      <td>BUF</td>\n",
       "      <td>NE 43</td>\n",
       "      <td>...</td>\n",
       "      <td>Oponente</td>\n",
       "      <td>Oponente</td>\n",
       "      <td>Castigo Ofensivo</td>\n",
       "      <td>2.0</td>\n",
       "      <td>1.0</td>\n",
       "      <td>1</td>\n",
       "      <td>Juego de una posesión</td>\n",
       "      <td>25</td>\n",
       "      <td>24</td>\n",
       "      <td>NE</td>\n",
       "    </tr>\n",
       "    <tr>\n",
       "      <th>5</th>\n",
       "      <td>2009</td>\n",
       "      <td>NE</td>\n",
       "      <td>BUF</td>\n",
       "      <td>1</td>\n",
       "      <td>25</td>\n",
       "      <td>24</td>\n",
       "      <td>NE</td>\n",
       "      <td>BUF</td>\n",
       "      <td>NE</td>\n",
       "      <td>NE 26</td>\n",
       "      <td>...</td>\n",
       "      <td>NE</td>\n",
       "      <td>Oponente</td>\n",
       "      <td>Castigo Defensivo</td>\n",
       "      <td>4.0</td>\n",
       "      <td>16.0</td>\n",
       "      <td>1</td>\n",
       "      <td>Juego de una posesión</td>\n",
       "      <td>25</td>\n",
       "      <td>24</td>\n",
       "      <td>NE</td>\n",
       "    </tr>\n",
       "  </tbody>\n",
       "</table>\n",
       "<p>6 rows × 31 columns</p>\n",
       "</div>"
      ],
      "text/plain": [
       "  season home away  week  score_home  score_away winner loser team_possesion  \\\n",
       "0   2009   NE  BUF     1          25          24     NE   BUF            BUF   \n",
       "1   2009   NE  BUF     1          25          24     NE   BUF             NE   \n",
       "2   2009   NE  BUF     1          25          24     NE   BUF             NE   \n",
       "3   2009   NE  BUF     1          25          24     NE   BUF            BUF   \n",
       "4   2009   NE  BUF     1          25          24     NE   BUF            BUF   \n",
       "5   2009   NE  BUF     1          25          24     NE   BUF             NE   \n",
       "\n",
       "  field_position  ... team_possesion_cat  team_penalty_cat       penalty_side  \\\n",
       "0         BUF 43  ...           Oponente          Oponente   Castigo Ofensivo   \n",
       "1          NE 30  ...                 NE                NE   Castigo Ofensivo   \n",
       "2          NE 45  ...                 NE          Oponente  Castigo Defensivo   \n",
       "3         BUF 48  ...           Oponente                NE  Castigo Defensivo   \n",
       "4          NE 43  ...           Oponente          Oponente   Castigo Ofensivo   \n",
       "5          NE 26  ...                 NE          Oponente  Castigo Defensivo   \n",
       "\n",
       "  opportunity yards_to_go week_type     one_posession_game pats_points  \\\n",
       "0         3.0         7.0         1  Juego de una posesión          25   \n",
       "1         2.0         8.0         1  Juego de una posesión          25   \n",
       "2         1.0        10.0         1  Juego de una posesión          25   \n",
       "3         1.0        10.0         1  Juego de una posesión          25   \n",
       "4         2.0         1.0         1  Juego de una posesión          25   \n",
       "5         4.0        16.0         1  Juego de una posesión          25   \n",
       "\n",
       "   opps_points game_winner_cat  \n",
       "0           24              NE  \n",
       "1           24              NE  \n",
       "2           24              NE  \n",
       "3           24              NE  \n",
       "4           24              NE  \n",
       "5           24              NE  \n",
       "\n",
       "[6 rows x 31 columns]"
      ]
     },
     "execution_count": 11,
     "metadata": {},
     "output_type": "execute_result"
    }
   ],
   "source": [
    "data[:6]"
   ]
  },
  {
   "cell_type": "code",
   "execution_count": 12,
   "metadata": {},
   "outputs": [],
   "source": [
    "df_yds_totales_week = data.groupby([\"game_winner_cat\",\"team_penalty_cat\",\"penalty_side\",\\\n",
    "                               \"season\",\"week\"])[\"penalty_yards\"].sum().reset_index(name=\"sum_yds\")\n"
   ]
  },
  {
   "cell_type": "code",
   "execution_count": 13,
   "metadata": {},
   "outputs": [
    {
     "data": {
      "text/html": [
       "<div>\n",
       "<style scoped>\n",
       "    .dataframe tbody tr th:only-of-type {\n",
       "        vertical-align: middle;\n",
       "    }\n",
       "\n",
       "    .dataframe tbody tr th {\n",
       "        vertical-align: top;\n",
       "    }\n",
       "\n",
       "    .dataframe thead th {\n",
       "        text-align: right;\n",
       "    }\n",
       "</style>\n",
       "<table border=\"1\" class=\"dataframe\">\n",
       "  <thead>\n",
       "    <tr style=\"text-align: right;\">\n",
       "      <th></th>\n",
       "      <th>game_winner_cat</th>\n",
       "      <th>team_penalty_cat</th>\n",
       "      <th>penalty_side</th>\n",
       "      <th>mean_yds</th>\n",
       "    </tr>\n",
       "  </thead>\n",
       "  <tbody>\n",
       "    <tr>\n",
       "      <th>0</th>\n",
       "      <td>NE</td>\n",
       "      <td>NE</td>\n",
       "      <td>Castigo Defensivo</td>\n",
       "      <td>28.7</td>\n",
       "    </tr>\n",
       "    <tr>\n",
       "      <th>1</th>\n",
       "      <td>NE</td>\n",
       "      <td>NE</td>\n",
       "      <td>Castigo Ofensivo</td>\n",
       "      <td>28.4</td>\n",
       "    </tr>\n",
       "    <tr>\n",
       "      <th>2</th>\n",
       "      <td>NE</td>\n",
       "      <td>Oponente</td>\n",
       "      <td>Castigo Defensivo</td>\n",
       "      <td>34.5</td>\n",
       "    </tr>\n",
       "    <tr>\n",
       "      <th>3</th>\n",
       "      <td>NE</td>\n",
       "      <td>Oponente</td>\n",
       "      <td>Castigo Ofensivo</td>\n",
       "      <td>26.3</td>\n",
       "    </tr>\n",
       "  </tbody>\n",
       "</table>\n",
       "</div>"
      ],
      "text/plain": [
       "  game_winner_cat team_penalty_cat       penalty_side  mean_yds\n",
       "0              NE               NE  Castigo Defensivo      28.7\n",
       "1              NE               NE   Castigo Ofensivo      28.4\n",
       "2              NE         Oponente  Castigo Defensivo      34.5\n",
       "3              NE         Oponente   Castigo Ofensivo      26.3"
      ]
     },
     "execution_count": 13,
     "metadata": {},
     "output_type": "execute_result"
    }
   ],
   "source": [
    "df_yds_totales = df_yds_totales_week.groupby([\"game_winner_cat\",\"team_penalty_cat\", \\\n",
    "                                              \"penalty_side\"])[\"sum_yds\"].mean().round(1).reset_index(name=\"mean_yds\")\n",
    "\n",
    "\n",
    "df_yds_totales[:4]"
   ]
  },
  {
   "cell_type": "markdown",
   "metadata": {},
   "source": [
    "### Vamos a crear un Altair Theme para darle formato a todas las gráficas"
   ]
  },
  {
   "cell_type": "code",
   "execution_count": 14,
   "metadata": {},
   "outputs": [
    {
     "data": {
      "text/plain": [
       "ThemeRegistry.enable('my_custom_theme')"
      ]
     },
     "execution_count": 14,
     "metadata": {},
     "output_type": "execute_result"
    }
   ],
   "source": [
    "def theme_pats_white():\n",
    "    # Typography\n",
    "    font = \"Courier\",\n",
    "    labelFont = \"Courier\" \n",
    "    sourceFont = \"Courier\"\n",
    "    fontColor = \"#08415C\"    #Blue Pats\n",
    "    \n",
    "    # Axes\n",
    "    axisColor = \"#000000\"\n",
    "    gridColor = \"#DEDDDD\"\n",
    "    \n",
    "    # Colors\n",
    "    main_palette = [\"#08415C\", \n",
    "                    \"#B0B7BC\",\n",
    "                   ]\n",
    "    \n",
    "    return{        \n",
    "        'config':{            \n",
    "            \"title\": {\n",
    "                \"fontSize\": 22,\n",
    "                \"font\": font,\n",
    "                \"anchor\": \"middle\", # equivalent of left-aligned.                \n",
    "                \"color\": fontColor,\n",
    "            },\n",
    "            \"axisX\": {\n",
    "                \"labelFont\": labelFont,\n",
    "                \"titleFont\": font,\n",
    "                \"titleFontSize\": 12,\n",
    "                \"titleColor\" : fontColor,\n",
    "                \"titleFontSize\": 18,\n",
    "                \"grid\": False,\n",
    "                \n",
    "            },\n",
    "            \"axisY\": {\n",
    "                \"axis\":None,\n",
    "                \"labelFont\": labelFont,\n",
    "                \"labelFontSize\": 12,\n",
    "                \"titleFont\": font,\n",
    "                \"titleColor\" : fontColor,\n",
    "                \"titleFontSize\": 16,\n",
    "                \"grid\": False,\n",
    "                \"ticks\": False,\n",
    "                \"labels\":False,\n",
    "                \n",
    "            },\n",
    "            \"legend\": {\n",
    "                \"labelFont\": labelFont,\n",
    "                \"labelFontSize\": 12,\n",
    "                \"titleFont\": font,\n",
    "                \"titleFontSize\": 12,\n",
    "                #\"titleColor\" : fontColor,\n",
    "                \"orient\": \"top\",\n",
    "                \"title\": None,\n",
    "                #\"labelAlign\":\"center\",\n",
    "            },\n",
    "            \"range\": {\n",
    "                \"category\": main_palette,             \n",
    "            },\n",
    "            \"view\": {\n",
    "                \"stroke\": \"transparent\", # altair uses gridlines to box the area\n",
    "                                         #where the data is visualized. This takes that off.\n",
    "            },\n",
    "            \"facet\":{\n",
    "              \"spacing\":20,  \n",
    "            },\n",
    "            \"header\":{\n",
    "              \"labelColor\": fontColor,  \n",
    "              #\"labelFont\": labelFont,\n",
    "              \"labelSize\" : 10\n",
    "            },\n",
    "\n",
    "        }\n",
    "    }\n",
    "\n",
    "\n",
    "alt.themes.register('my_custom_theme', theme_pats_white)\n",
    "alt.themes.enable('my_custom_theme')"
   ]
  },
  {
   "cell_type": "markdown",
   "metadata": {},
   "source": [
    "########################################\n",
    "#### VER YARDAS TOTALES POR CASTIGO, DEFENSIVO Y OFENSIVO,\n",
    "#### A FAVOR Y EN CONTRA\n",
    "########################################\n"
   ]
  },
  {
   "cell_type": "code",
   "execution_count": 15,
   "metadata": {},
   "outputs": [
    {
     "data": {
      "text/html": [
       "\n",
       "<div id=\"altair-viz-1\"></div>\n",
       "<script type=\"text/javascript\">\n",
       "  (function(spec, embedOpt){\n",
       "    const outputDiv = document.getElementById(\"altair-viz-1\");\n",
       "    const paths = {\n",
       "      \"vega\": \"https://cdn.jsdelivr.net/npm//vega@5?noext\",\n",
       "      \"vega-lib\": \"https://cdn.jsdelivr.net/npm//vega-lib?noext\",\n",
       "      \"vega-lite\": \"https://cdn.jsdelivr.net/npm//vega-lite@4.0.0?noext\",\n",
       "      \"vega-embed\": \"https://cdn.jsdelivr.net/npm//vega-embed@6?noext\",\n",
       "    };\n",
       "\n",
       "    function loadScript(lib) {\n",
       "      return new Promise(function(resolve, reject) {\n",
       "        var s = document.createElement('script');\n",
       "        s.src = paths[lib];\n",
       "        s.async = true;\n",
       "        s.onload = () => resolve(paths[lib]);\n",
       "        s.onerror = () => reject(`Error loading script: ${paths[lib]}`);\n",
       "        document.getElementsByTagName(\"head\")[0].appendChild(s);\n",
       "      });\n",
       "    }\n",
       "\n",
       "    function showError(err) {\n",
       "      outputDiv.innerHTML = `<div class=\"error\" style=\"color:red;\">${err}</div>`;\n",
       "      throw err;\n",
       "    }\n",
       "\n",
       "    function displayChart(vegaEmbed) {\n",
       "      vegaEmbed(outputDiv, spec, embedOpt)\n",
       "        .catch(err => showError(`Javascript Error: ${err.message}<br>This usually means there's a typo in your chart specification. See the javascript console for the full traceback.`));\n",
       "    }\n",
       "\n",
       "    if(typeof define === \"function\" && define.amd) {\n",
       "      requirejs.config({paths});\n",
       "      require([\"vega-embed\"], displayChart, err => showError(`Error loading script: ${err.message}`));\n",
       "    } else if (typeof vegaEmbed === \"function\") {\n",
       "      displayChart(vegaEmbed);\n",
       "    } else {\n",
       "      loadScript(\"vega\")\n",
       "        .then(() => loadScript(\"vega-lite\"))\n",
       "        .then(() => loadScript(\"vega-embed\"))\n",
       "        .catch(showError)\n",
       "        .then(() => displayChart(vegaEmbed));\n",
       "    }\n",
       "  })({\"config\": {\"title\": {\"fontSize\": 22, \"font\": [\"Courier\"], \"anchor\": \"middle\", \"color\": \"#08415C\"}, \"axisX\": {\"labelFont\": \"Courier\", \"titleFont\": [\"Courier\"], \"titleFontSize\": 18, \"titleColor\": \"#08415C\", \"grid\": false}, \"axisY\": {\"axis\": null, \"labelFont\": \"Courier\", \"labelFontSize\": 12, \"titleFont\": [\"Courier\"], \"titleColor\": \"#08415C\", \"titleFontSize\": 16, \"grid\": false, \"ticks\": false, \"labels\": false}, \"legend\": {\"labelFont\": \"Courier\", \"labelFontSize\": 12, \"titleFont\": [\"Courier\"], \"titleFontSize\": 12, \"orient\": \"top\", \"title\": null}, \"range\": {\"category\": [\"#08415C\", \"#B0B7BC\"]}, \"view\": {\"stroke\": \"transparent\"}, \"facet\": {\"spacing\": 20}, \"header\": {\"labelColor\": \"#08415C\", \"labelSize\": 10}}, \"data\": {\"name\": \"data-f247de6bb35cba63cff5435e326416d6\"}, \"mark\": {\"type\": \"text\", \"color\": \"#08415C\", \"dx\": 340, \"dy\": 5, \"font\": \"Courier\", \"size\": 10, \"text\": \"@nerudista\"}, \"height\": 20, \"width\": 700, \"$schema\": \"https://vega.github.io/schema/vega-lite/v4.0.0.json\", \"datasets\": {\"data-f247de6bb35cba63cff5435e326416d6\": [{\"game_winner_cat\": \"NE\", \"team_penalty_cat\": \"NE\", \"penalty_side\": \"Castigo Defensivo\", \"mean_yds\": 28.7}, {\"game_winner_cat\": \"NE\", \"team_penalty_cat\": \"NE\", \"penalty_side\": \"Castigo Ofensivo\", \"mean_yds\": 28.4}, {\"game_winner_cat\": \"NE\", \"team_penalty_cat\": \"Oponente\", \"penalty_side\": \"Castigo Defensivo\", \"mean_yds\": 34.5}, {\"game_winner_cat\": \"NE\", \"team_penalty_cat\": \"Oponente\", \"penalty_side\": \"Castigo Ofensivo\", \"mean_yds\": 26.3}, {\"game_winner_cat\": \"Oponente\", \"team_penalty_cat\": \"NE\", \"penalty_side\": \"Castigo Defensivo\", \"mean_yds\": 31.1}, {\"game_winner_cat\": \"Oponente\", \"team_penalty_cat\": \"NE\", \"penalty_side\": \"Castigo Ofensivo\", \"mean_yds\": 27.5}, {\"game_winner_cat\": \"Oponente\", \"team_penalty_cat\": \"Oponente\", \"penalty_side\": \"Castigo Defensivo\", \"mean_yds\": 36.1}, {\"game_winner_cat\": \"Oponente\", \"team_penalty_cat\": \"Oponente\", \"penalty_side\": \"Castigo Ofensivo\", \"mean_yds\": 22.7}]}}, {\"mode\": \"vega-lite\"});\n",
       "</script>"
      ],
      "text/plain": [
       "alt.Chart(...)"
      ]
     },
     "execution_count": 15,
     "metadata": {},
     "output_type": "execute_result"
    }
   ],
   "source": [
    "source = \"@nerudista\"\n",
    "\n",
    "caption_chart = alt.Chart(df_yds_totales).mark_text(\n",
    "    text = source, color=\"#08415C\", \n",
    "    font=\"Courier\",\n",
    "    dx = 340,\n",
    "    size = 10,\n",
    "    dy = 5).properties(\n",
    "    height = 20,\n",
    "    width = 700,\n",
    ")\n",
    "\n",
    "\n",
    "caption_chart"
   ]
  },
  {
   "cell_type": "code",
   "execution_count": 16,
   "metadata": {},
   "outputs": [
    {
     "data": {
      "text/html": [
       "\n",
       "<div id=\"altair-viz-2\"></div>\n",
       "<script type=\"text/javascript\">\n",
       "  (function(spec, embedOpt){\n",
       "    const outputDiv = document.getElementById(\"altair-viz-2\");\n",
       "    const paths = {\n",
       "      \"vega\": \"https://cdn.jsdelivr.net/npm//vega@5?noext\",\n",
       "      \"vega-lib\": \"https://cdn.jsdelivr.net/npm//vega-lib?noext\",\n",
       "      \"vega-lite\": \"https://cdn.jsdelivr.net/npm//vega-lite@4.0.0?noext\",\n",
       "      \"vega-embed\": \"https://cdn.jsdelivr.net/npm//vega-embed@6?noext\",\n",
       "    };\n",
       "\n",
       "    function loadScript(lib) {\n",
       "      return new Promise(function(resolve, reject) {\n",
       "        var s = document.createElement('script');\n",
       "        s.src = paths[lib];\n",
       "        s.async = true;\n",
       "        s.onload = () => resolve(paths[lib]);\n",
       "        s.onerror = () => reject(`Error loading script: ${paths[lib]}`);\n",
       "        document.getElementsByTagName(\"head\")[0].appendChild(s);\n",
       "      });\n",
       "    }\n",
       "\n",
       "    function showError(err) {\n",
       "      outputDiv.innerHTML = `<div class=\"error\" style=\"color:red;\">${err}</div>`;\n",
       "      throw err;\n",
       "    }\n",
       "\n",
       "    function displayChart(vegaEmbed) {\n",
       "      vegaEmbed(outputDiv, spec, embedOpt)\n",
       "        .catch(err => showError(`Javascript Error: ${err.message}<br>This usually means there's a typo in your chart specification. See the javascript console for the full traceback.`));\n",
       "    }\n",
       "\n",
       "    if(typeof define === \"function\" && define.amd) {\n",
       "      requirejs.config({paths});\n",
       "      require([\"vega-embed\"], displayChart, err => showError(`Error loading script: ${err.message}`));\n",
       "    } else if (typeof vegaEmbed === \"function\") {\n",
       "      displayChart(vegaEmbed);\n",
       "    } else {\n",
       "      loadScript(\"vega\")\n",
       "        .then(() => loadScript(\"vega-lite\"))\n",
       "        .then(() => loadScript(\"vega-embed\"))\n",
       "        .catch(showError)\n",
       "        .then(() => displayChart(vegaEmbed));\n",
       "    }\n",
       "  })({\"config\": {\"title\": {\"fontSize\": 22, \"font\": [\"Courier\"], \"anchor\": \"middle\", \"color\": \"#08415C\"}, \"axisX\": {\"labelFont\": \"Courier\", \"titleFont\": [\"Courier\"], \"titleFontSize\": 18, \"titleColor\": \"#08415C\", \"grid\": false}, \"axisY\": {\"axis\": null, \"labelFont\": \"Courier\", \"labelFontSize\": 12, \"titleFont\": [\"Courier\"], \"titleColor\": \"#08415C\", \"titleFontSize\": 16, \"grid\": false, \"ticks\": false, \"labels\": false}, \"legend\": {\"labelFont\": \"Courier\", \"labelFontSize\": 12, \"titleFont\": [\"Courier\"], \"titleFontSize\": 12, \"orient\": \"top\", \"title\": null}, \"range\": {\"category\": [\"#08415C\", \"#B0B7BC\"]}, \"view\": {\"stroke\": \"transparent\"}, \"facet\": {\"spacing\": 20}, \"header\": {\"labelColor\": \"#08415C\", \"labelSize\": 10, \"labelFontSize\": 12, \"labelOrient\": \"bottom\", \"title\": null}}, \"data\": {\"name\": \"data-e69bc893c4e175477e92853b991eccfa\"}, \"facet\": {\"column\": {\"type\": \"nominal\", \"field\": \"Genus\", \"sort\": \"descending\", \"title\": \"top 5 countries of origin, 2016\"}}, \"spec\": {\"layer\": [{\"mark\": \"bar\", \"encoding\": {\"color\": {\"type\": \"nominal\", \"field\": \"team_penalty_cat\"}, \"x\": {\"type\": \"nominal\", \"axis\": null, \"field\": \"team_penalty_cat\", \"title\": \"\"}, \"y\": {\"type\": \"quantitative\", \"aggregate\": \"mean\", \"field\": \"mean_yds\", \"title\": \"Promedio de Yardas\\nConcedidas por Partido\"}}, \"transform\": [{\"calculate\": \"indexof([\\\"NE\\\"], datum.game_winner_cat) >= 0 ? \\\"Cuando los Pats Ganan\\\": \\\"Cuando los Pats Pierden\\\"\", \"as\": \"Genus\"}]}, {\"mark\": {\"type\": \"text\", \"color\": \"#08415C\", \"dx\": 0, \"dy\": -8, \"font\": \"Courier\", \"fontSize\": 12}, \"encoding\": {\"color\": {\"type\": \"nominal\", \"field\": \"team_penalty_cat\"}, \"opacity\": {\"value\": 0.9}, \"text\": {\"type\": \"quantitative\", \"aggregate\": \"mean\", \"field\": \"mean_yds\", \"format\": \".1f\"}, \"x\": {\"type\": \"nominal\", \"axis\": null, \"field\": \"team_penalty_cat\", \"title\": \"\"}, \"y\": {\"type\": \"quantitative\", \"aggregate\": \"mean\", \"field\": \"mean_yds\", \"title\": \"Promedio de Yardas\\nConcedidas por Partido\"}}, \"transform\": [{\"calculate\": \"indexof([\\\"NE\\\"], datum.game_winner_cat) >= 0 ? \\\"Cuando los Pats Ganan\\\": \\\"Cuando los Pats Pierden\\\"\", \"as\": \"Genus\"}]}], \"height\": 200, \"width\": 180}, \"$schema\": \"https://vega.github.io/schema/vega-lite/v4.0.0.json\", \"datasets\": {\"data-e69bc893c4e175477e92853b991eccfa\": [{\"game_winner_cat\": \"NE\", \"team_penalty_cat\": \"NE\", \"penalty_side\": \"Castigo Defensivo\", \"mean_yds\": 28.7}, {\"game_winner_cat\": \"NE\", \"team_penalty_cat\": \"Oponente\", \"penalty_side\": \"Castigo Defensivo\", \"mean_yds\": 34.5}, {\"game_winner_cat\": \"Oponente\", \"team_penalty_cat\": \"NE\", \"penalty_side\": \"Castigo Defensivo\", \"mean_yds\": 31.1}, {\"game_winner_cat\": \"Oponente\", \"team_penalty_cat\": \"Oponente\", \"penalty_side\": \"Castigo Defensivo\", \"mean_yds\": 36.1}]}}, {\"mode\": \"vega-lite\"});\n",
       "</script>"
      ],
      "text/plain": [
       "alt.FacetChart(...)"
      ]
     },
     "execution_count": 16,
     "metadata": {},
     "output_type": "execute_result"
    }
   ],
   "source": [
    "from altair.expr import datum, if_\n",
    "\n",
    "bar = alt.Chart(df_yds_totales[df_yds_totales[\"penalty_side\"]=='Castigo Defensivo']).mark_bar().transform_calculate(\n",
    "    Genus='indexof([\"NE\"], datum.game_winner_cat) >= 0 ? \"Cuando los Pats Ganan\": \"Cuando los Pats Pierden\"'\n",
    ").encode(\n",
    "    x=alt.X('team_penalty_cat:N', title='', axis=None),\n",
    "    y=alt.Y('mean(mean_yds):Q', title='Promedio de Yardas\\nConcedidas por Partido'),    \n",
    "    color='team_penalty_cat:N'\n",
    ")\n",
    "text = bar.mark_text(dx=0 ,dy=-8, fontSize=12, font=\"Courier\", color=\"#08415C\").encode(\n",
    "    text = alt.Text( \"mean(mean_yds):Q\" , format=\".1f\",),   #redondear decimales en el label\n",
    "    opacity=alt.value(0.9),\n",
    "    #color=\"#08415C\"\n",
    "    \n",
    ")\n",
    "\n",
    "base_castigos_defensivos= alt.layer(bar, text).properties(\n",
    "    #title=\"Castigos Defensivos por Equipo\",   #va a este nivel porque es una facet chart\n",
    "    width = 180,\n",
    "    height = 200,\n",
    ").facet(\n",
    "    #column='game_winner_cat:N',        \n",
    "    #column='Genus:N'\n",
    "    column = alt.Column(\"Genus:N\", title = \"top 5 countries of origin, 2016\", sort = \"descending\",),\n",
    ").configure_header(    \n",
    "    title=None,\n",
    "    labelOrient=\"bottom\",  #Posición del \"Cuando los Pats ganan\",\n",
    "    labelFontSize = 12,\n",
    ")\n",
    "\n",
    "base_castigos_defensivos\n"
   ]
  },
  {
   "cell_type": "code",
   "execution_count": 594,
   "metadata": {},
   "outputs": [
    {
     "data": {
      "application/vnd.vegalite.v3+json": {
       "$schema": "https://vega.github.io/schema/vega-lite/v3.4.0.json",
       "config": {
        "axisX": {
         "grid": false,
         "labelFont": "Courier",
         "titleColor": "#08415C",
         "titleFont": [
          "Courier"
         ],
         "titleFontSize": 18
        },
        "axisY": {
         "axis": null,
         "grid": false,
         "labelFont": "Courier",
         "labelFontSize": 12,
         "labels": false,
         "ticks": false,
         "titleColor": "#08415C",
         "titleFont": [
          "Courier"
         ],
         "titleFontSize": 16
        },
        "facet": {
         "spacing": 20
        },
        "header": {
         "labelColor": "#08415C",
         "labelFont": "Courier",
         "labelSize": 10
        },
        "legend": {
         "labelFont": "Courier",
         "labelFontSize": 12,
         "orient": "top",
         "title": null,
         "titleColor": "#08415C",
         "titleFont": [
          "Courier"
         ],
         "titleFontSize": 12
        },
        "range": {
         "category": [
          "#08415C",
          "#B0B7BC"
         ]
        },
        "text": {
         "color": "Courier",
         "font": "#08415C",
         "fontSize": 21,
         "size": 21
        },
        "title": {
         "anchor": "middle",
         "color": "#08415C",
         "font": [
          "Courier"
         ],
         "fontSize": 22
        },
        "view": {
         "stroke": "transparent"
        }
       },
       "data": {
        "name": "data-e69bc893c4e175477e92853b991eccfa"
       },
       "datasets": {
        "data-e69bc893c4e175477e92853b991eccfa": [
         {
          "game_winner_cat": "NE",
          "mean_yds": 28.7,
          "penalty_side": "Castigo Defensivo",
          "team_penalty_cat": "NE"
         },
         {
          "game_winner_cat": "NE",
          "mean_yds": 34.5,
          "penalty_side": "Castigo Defensivo",
          "team_penalty_cat": "Oponente"
         },
         {
          "game_winner_cat": "Oponente",
          "mean_yds": 31.1,
          "penalty_side": "Castigo Defensivo",
          "team_penalty_cat": "NE"
         },
         {
          "game_winner_cat": "Oponente",
          "mean_yds": 36.1,
          "penalty_side": "Castigo Defensivo",
          "team_penalty_cat": "Oponente"
         }
        ]
       },
       "facet": {
        "column": {
         "field": "Genus",
         "title": "",
         "type": "nominal"
        }
       },
       "height": 300,
       "spec": {
        "height": 250,
        "layer": [
         {
          "encoding": {
           "color": {
            "field": "team_penalty_cat",
            "legend": {
             "direction": "horizontal",
             "legendX": 250,
             "legendY": -50,
             "orient": "none"
            },
            "type": "nominal"
           },
           "x": {
            "axis": null,
            "field": "team_penalty_cat",
            "title": "",
            "type": "nominal"
           },
           "y": {
            "aggregate": "mean",
            "field": "mean_yds",
            "title": "Promedio de Yardas\nConcedidas por Partido",
            "type": "quantitative"
           }
          },
          "mark": "bar",
          "transform": [
           {
            "as": "Genus",
            "calculate": "indexof([\"NE\"], datum.game_winner_cat) >= 0 ? \"Cuando los Pats Ganan\": \"Cuando los Pats Pierden\""
           }
          ]
         },
         {
          "encoding": {
           "color": {
            "field": "team_penalty_cat",
            "legend": {
             "direction": "horizontal",
             "legendX": 250,
             "legendY": -50,
             "orient": "none"
            },
            "type": "nominal"
           },
           "opacity": {
            "value": 0.9
           },
           "text": {
            "aggregate": "mean",
            "field": "mean_yds",
            "format": ".1f",
            "type": "quantitative"
           },
           "x": {
            "axis": null,
            "field": "team_penalty_cat",
            "title": "",
            "type": "nominal"
           },
           "y": {
            "aggregate": "mean",
            "field": "mean_yds",
            "title": "Promedio de Yardas\nConcedidas por Partido",
            "type": "quantitative"
           }
          },
          "mark": {
           "color": "#08415C",
           "dx": 0,
           "dy": -8,
           "font": "Courier",
           "fontSize": 12,
           "type": "text"
          },
          "transform": [
           {
            "as": "Genus",
            "calculate": "indexof([\"NE\"], datum.game_winner_cat) >= 0 ? \"Cuando los Pats Ganan\": \"Cuando los Pats Pierden\""
           }
          ]
         }
        ],
        "width": 300
       },
       "width": 400
      },
      "image/png": "[encoded data removed]",
      "text/plain": [
       "<VegaLite 3 object>\n",
       "\n",
       "If you see this message, it means the renderer has not been properly enabled\n",
       "for the frontend that you are using. For more information, see\n",
       "https://altair-viz.github.io/user_guide/troubleshooting.html\n"
      ]
     },
     "execution_count": 594,
     "metadata": {},
     "output_type": "execute_result"
    }
   ],
   "source": [
    "#segundo intento defensivos\n",
    "from altair.expr import datum, if_\n",
    "\n",
    "bar = alt.Chart(df_yds_totales[df_yds_totales[\"penalty_side\"]=='Castigo Defensivo']).mark_bar().transform_calculate(\n",
    "    Genus='indexof([\"NE\"], datum.game_winner_cat) >= 0 ? \"Cuando los Pats Ganan\": \"Cuando los Pats Pierden\"'\n",
    ").encode(\n",
    "    x=alt.X('team_penalty_cat:N', title='', axis=None),\n",
    "    y=alt.Y('mean(mean_yds):Q', title='Promedio de Yardas\\nConcedidas por Partido'),    \n",
    "    color=alt.Color('team_penalty_cat:N' , \n",
    "                    legend=alt.Legend(direction=\"horizontal\",orient=\"none\",legendX=250, legendY=-50))\n",
    ")\n",
    "text = bar.mark_text(dx=0 ,dy=-8, fontSize=12, font=\"Courier\", color=\"#08415C\").encode(\n",
    "    text = alt.Text( \"mean(mean_yds):Q\" , format=\".1f\",),   #redondear decimales en el label\n",
    "    opacity=alt.value(0.9),\n",
    ")\n",
    "\n",
    "base_castigos_defensivos_2= alt.layer(bar, text).properties(\n",
    "    width = 300,\n",
    "    height = 250,\n",
    ").facet(\n",
    "    column = alt.Column(\"Genus:N\", title=\"\"),\n",
    ")\n",
    "\n",
    "base_castigos_defensivos_2\n"
   ]
  },
  {
   "cell_type": "code",
   "execution_count": 610,
   "metadata": {},
   "outputs": [
    {
     "data": {
      "application/vnd.vegalite.v3+json": {
       "$schema": "https://vega.github.io/schema/vega-lite/v3.4.0.json",
       "config": {
        "axisX": {
         "grid": false,
         "labelFont": "Courier",
         "titleColor": "#08415C",
         "titleFont": [
          "Courier"
         ],
         "titleFontSize": 18
        },
        "axisY": {
         "axis": null,
         "grid": false,
         "labelFont": "Courier",
         "labelFontSize": 12,
         "labels": false,
         "ticks": false,
         "titleColor": "#08415C",
         "titleFont": [
          "Courier"
         ],
         "titleFontSize": 16
        },
        "facet": {
         "spacing": 20
        },
        "header": {
         "labelColor": "#08415C",
         "labelFont": "Courier",
         "labelFontSize": 14,
         "labelOrient": "bottom",
         "labelSize": 10,
         "title": null
        },
        "legend": {
         "labelFont": "Courier",
         "labelFontSize": 12,
         "orient": "top",
         "title": null,
         "titleColor": "#08415C",
         "titleFont": [
          "Courier"
         ],
         "titleFontSize": 12
        },
        "range": {
         "category": [
          "#08415C",
          "#B0B7BC"
         ]
        },
        "text": {
         "color": "Courier",
         "font": "#08415C",
         "fontSize": 21,
         "size": 21
        },
        "title": {
         "anchor": "middle",
         "color": "#08415C",
         "font": [
          "Courier"
         ],
         "fontSize": 22
        },
        "view": {
         "stroke": "transparent"
        }
       },
       "datasets": {
        "data-e69bc893c4e175477e92853b991eccfa": [
         {
          "game_winner_cat": "NE",
          "mean_yds": 28.7,
          "penalty_side": "Castigo Defensivo",
          "team_penalty_cat": "NE"
         },
         {
          "game_winner_cat": "NE",
          "mean_yds": 34.5,
          "penalty_side": "Castigo Defensivo",
          "team_penalty_cat": "Oponente"
         },
         {
          "game_winner_cat": "Oponente",
          "mean_yds": 31.1,
          "penalty_side": "Castigo Defensivo",
          "team_penalty_cat": "NE"
         },
         {
          "game_winner_cat": "Oponente",
          "mean_yds": 36.1,
          "penalty_side": "Castigo Defensivo",
          "team_penalty_cat": "Oponente"
         }
        ],
        "data-f247de6bb35cba63cff5435e326416d6": [
         {
          "game_winner_cat": "NE",
          "mean_yds": 28.7,
          "penalty_side": "Castigo Defensivo",
          "team_penalty_cat": "NE"
         },
         {
          "game_winner_cat": "NE",
          "mean_yds": 28.4,
          "penalty_side": "Castigo Ofensivo",
          "team_penalty_cat": "NE"
         },
         {
          "game_winner_cat": "NE",
          "mean_yds": 34.5,
          "penalty_side": "Castigo Defensivo",
          "team_penalty_cat": "Oponente"
         },
         {
          "game_winner_cat": "NE",
          "mean_yds": 26.3,
          "penalty_side": "Castigo Ofensivo",
          "team_penalty_cat": "Oponente"
         },
         {
          "game_winner_cat": "Oponente",
          "mean_yds": 31.1,
          "penalty_side": "Castigo Defensivo",
          "team_penalty_cat": "NE"
         },
         {
          "game_winner_cat": "Oponente",
          "mean_yds": 27.5,
          "penalty_side": "Castigo Ofensivo",
          "team_penalty_cat": "NE"
         },
         {
          "game_winner_cat": "Oponente",
          "mean_yds": 36.1,
          "penalty_side": "Castigo Defensivo",
          "team_penalty_cat": "Oponente"
         },
         {
          "game_winner_cat": "Oponente",
          "mean_yds": 22.7,
          "penalty_side": "Castigo Ofensivo",
          "team_penalty_cat": "Oponente"
         }
        ]
       },
       "height": 300,
       "title": "Castigos Defensivos Por Equipo",
       "vconcat": [
        {
         "data": {
          "name": "data-e69bc893c4e175477e92853b991eccfa"
         },
         "facet": {
          "column": {
           "field": "Genus",
           "title": "",
           "type": "nominal"
          }
         },
         "spec": {
          "height": 250,
          "layer": [
           {
            "encoding": {
             "color": {
              "field": "team_penalty_cat",
              "legend": {
               "direction": "horizontal",
               "legendX": 250,
               "legendY": -50,
               "orient": "none"
              },
              "type": "nominal"
             },
             "x": {
              "axis": null,
              "field": "team_penalty_cat",
              "title": "",
              "type": "nominal"
             },
             "y": {
              "aggregate": "mean",
              "field": "mean_yds",
              "title": "Promedio de Yardas\nConcedidas por Partido",
              "type": "quantitative"
             }
            },
            "mark": "bar",
            "transform": [
             {
              "as": "Genus",
              "calculate": "indexof([\"NE\"], datum.game_winner_cat) >= 0 ? \"Cuando los Pats Ganan\": \"Cuando los Pats Pierden\""
             }
            ]
           },
           {
            "encoding": {
             "color": {
              "field": "team_penalty_cat",
              "legend": {
               "direction": "horizontal",
               "legendX": 250,
               "legendY": -50,
               "orient": "none"
              },
              "type": "nominal"
             },
             "opacity": {
              "value": 0.9
             },
             "text": {
              "aggregate": "mean",
              "field": "mean_yds",
              "format": ".1f",
              "type": "quantitative"
             },
             "x": {
              "axis": null,
              "field": "team_penalty_cat",
              "title": "",
              "type": "nominal"
             },
             "y": {
              "aggregate": "mean",
              "field": "mean_yds",
              "title": "Promedio de Yardas\nConcedidas por Partido",
              "type": "quantitative"
             }
            },
            "mark": {
             "color": "#08415C",
             "dx": 0,
             "dy": -8,
             "font": "Courier",
             "fontSize": 12,
             "type": "text"
            },
            "transform": [
             {
              "as": "Genus",
              "calculate": "indexof([\"NE\"], datum.game_winner_cat) >= 0 ? \"Cuando los Pats Ganan\": \"Cuando los Pats Pierden\""
             }
            ]
           }
          ],
          "width": 300
         }
        },
        {
         "data": {
          "name": "data-f247de6bb35cba63cff5435e326416d6"
         },
         "height": 20,
         "mark": {
          "color": "#08415C",
          "dx": 340,
          "dy": 5,
          "font": "Courier",
          "size": 10,
          "text": "@nerudista",
          "type": "text"
         },
         "width": 600
        }
       ],
       "width": 400
      },
      "image/png": "[encoded data removed]",
      "text/plain": [
       "<VegaLite 3 object>\n",
       "\n",
       "If you see this message, it means the renderer has not been properly enabled\n",
       "for the frontend that you are using. For more information, see\n",
       "https://altair-viz.github.io/user_guide/troubleshooting.html\n"
      ]
     },
     "execution_count": 610,
     "metadata": {},
     "output_type": "execute_result"
    }
   ],
   "source": [
    "\n",
    "final = alt.vconcat(base_castigos_defensivos_2, caption_chart).configure_header(    \n",
    "    #El configure header va aquí para evitar errores de config\n",
    "    title=None,\n",
    "    labelOrient=\"bottom\",  #Posición del \"Cuando los Pats ganan\",\n",
    "    labelFontSize = 14,    #Tamaño del \"Cuando los Pats ganan\",\n",
    ").properties(\n",
    " title = \"Castigos Defensivos Por Equipo\"\n",
    ")\n",
    "#final.configure_legend(symbolSize = 200, labelLimit = 200 )\n",
    "final\n",
    "\n"
   ]
  },
  {
   "cell_type": "code",
   "execution_count": 613,
   "metadata": {},
   "outputs": [],
   "source": [
    "#Guardar imagen\n",
    "final.save('./graficas/Altair/AltairCastigosDefensivos.png', scale_factor=2.0)"
   ]
  },
  {
   "cell_type": "markdown",
   "metadata": {},
   "source": [
    "**Castigos Ofensivos**"
   ]
  },
  {
   "cell_type": "code",
   "execution_count": 17,
   "metadata": {},
   "outputs": [
    {
     "data": {
      "text/html": [
       "\n",
       "<div id=\"altair-viz-3\"></div>\n",
       "<script type=\"text/javascript\">\n",
       "  (function(spec, embedOpt){\n",
       "    const outputDiv = document.getElementById(\"altair-viz-3\");\n",
       "    const paths = {\n",
       "      \"vega\": \"https://cdn.jsdelivr.net/npm//vega@5?noext\",\n",
       "      \"vega-lib\": \"https://cdn.jsdelivr.net/npm//vega-lib?noext\",\n",
       "      \"vega-lite\": \"https://cdn.jsdelivr.net/npm//vega-lite@4.0.0?noext\",\n",
       "      \"vega-embed\": \"https://cdn.jsdelivr.net/npm//vega-embed@6?noext\",\n",
       "    };\n",
       "\n",
       "    function loadScript(lib) {\n",
       "      return new Promise(function(resolve, reject) {\n",
       "        var s = document.createElement('script');\n",
       "        s.src = paths[lib];\n",
       "        s.async = true;\n",
       "        s.onload = () => resolve(paths[lib]);\n",
       "        s.onerror = () => reject(`Error loading script: ${paths[lib]}`);\n",
       "        document.getElementsByTagName(\"head\")[0].appendChild(s);\n",
       "      });\n",
       "    }\n",
       "\n",
       "    function showError(err) {\n",
       "      outputDiv.innerHTML = `<div class=\"error\" style=\"color:red;\">${err}</div>`;\n",
       "      throw err;\n",
       "    }\n",
       "\n",
       "    function displayChart(vegaEmbed) {\n",
       "      vegaEmbed(outputDiv, spec, embedOpt)\n",
       "        .catch(err => showError(`Javascript Error: ${err.message}<br>This usually means there's a typo in your chart specification. See the javascript console for the full traceback.`));\n",
       "    }\n",
       "\n",
       "    if(typeof define === \"function\" && define.amd) {\n",
       "      requirejs.config({paths});\n",
       "      require([\"vega-embed\"], displayChart, err => showError(`Error loading script: ${err.message}`));\n",
       "    } else if (typeof vegaEmbed === \"function\") {\n",
       "      displayChart(vegaEmbed);\n",
       "    } else {\n",
       "      loadScript(\"vega\")\n",
       "        .then(() => loadScript(\"vega-lite\"))\n",
       "        .then(() => loadScript(\"vega-embed\"))\n",
       "        .catch(showError)\n",
       "        .then(() => displayChart(vegaEmbed));\n",
       "    }\n",
       "  })({\"config\": {\"title\": {\"fontSize\": 22, \"font\": [\"Courier\"], \"anchor\": \"middle\", \"color\": \"#08415C\"}, \"axisX\": {\"labelFont\": \"Courier\", \"titleFont\": [\"Courier\"], \"titleFontSize\": 18, \"titleColor\": \"#08415C\", \"grid\": false}, \"axisY\": {\"axis\": null, \"labelFont\": \"Courier\", \"labelFontSize\": 12, \"titleFont\": [\"Courier\"], \"titleColor\": \"#08415C\", \"titleFontSize\": 16, \"grid\": false, \"ticks\": false, \"labels\": false}, \"legend\": {\"labelFont\": \"Courier\", \"labelFontSize\": 12, \"titleFont\": [\"Courier\"], \"titleFontSize\": 12, \"orient\": \"top\", \"title\": null}, \"range\": {\"category\": [\"#08415C\", \"#B0B7BC\"]}, \"view\": {\"stroke\": \"transparent\"}, \"facet\": {\"spacing\": 20}, \"header\": {\"labelColor\": \"#08415C\", \"labelSize\": 10}}, \"data\": {\"name\": \"data-f247de6bb35cba63cff5435e326416d6\"}, \"facet\": {\"column\": {\"type\": \"nominal\", \"field\": \"Genus\", \"title\": \"\"}}, \"spec\": {\"layer\": [{\"mark\": \"bar\", \"encoding\": {\"color\": {\"type\": \"nominal\", \"field\": \"team_penalty_cat\", \"legend\": {\"direction\": \"horizontal\", \"legendX\": 250, \"legendY\": -50, \"orient\": \"none\"}}, \"x\": {\"type\": \"nominal\", \"axis\": null, \"field\": \"team_penalty_cat\", \"title\": \"\"}, \"y\": {\"type\": \"quantitative\", \"aggregate\": \"mean\", \"field\": \"mean_yds\", \"title\": \"Promedio de Yardas\\nConcedidas por Partido\"}}, \"transform\": [{\"filter\": \"datum.penalty_side == 'Castigo Ofensivo'\"}, {\"calculate\": \"indexof([\\\"NE\\\"], datum.game_winner_cat) >= 0 ? \\\"Cuando los Pats Ganan\\\": \\\"Cuando los Pats Pierden\\\"\", \"as\": \"Genus\"}]}, {\"mark\": {\"type\": \"text\", \"color\": \"#08415C\", \"dx\": 0, \"dy\": -8, \"font\": \"Courier\", \"fontSize\": 12}, \"encoding\": {\"color\": {\"type\": \"nominal\", \"field\": \"team_penalty_cat\", \"legend\": {\"direction\": \"horizontal\", \"legendX\": 250, \"legendY\": -50, \"orient\": \"none\"}}, \"opacity\": {\"value\": 0.9}, \"text\": {\"type\": \"quantitative\", \"aggregate\": \"mean\", \"field\": \"mean_yds\", \"format\": \".1f\"}, \"x\": {\"type\": \"nominal\", \"axis\": null, \"field\": \"team_penalty_cat\", \"title\": \"\"}, \"y\": {\"type\": \"quantitative\", \"aggregate\": \"mean\", \"field\": \"mean_yds\", \"title\": \"Promedio de Yardas\\nConcedidas por Partido\"}}, \"transform\": [{\"filter\": \"datum.penalty_side == 'Castigo Ofensivo'\"}, {\"calculate\": \"indexof([\\\"NE\\\"], datum.game_winner_cat) >= 0 ? \\\"Cuando los Pats Ganan\\\": \\\"Cuando los Pats Pierden\\\"\", \"as\": \"Genus\"}]}], \"height\": 250, \"width\": 300}, \"$schema\": \"https://vega.github.io/schema/vega-lite/v4.0.0.json\", \"datasets\": {\"data-f247de6bb35cba63cff5435e326416d6\": [{\"game_winner_cat\": \"NE\", \"team_penalty_cat\": \"NE\", \"penalty_side\": \"Castigo Defensivo\", \"mean_yds\": 28.7}, {\"game_winner_cat\": \"NE\", \"team_penalty_cat\": \"NE\", \"penalty_side\": \"Castigo Ofensivo\", \"mean_yds\": 28.4}, {\"game_winner_cat\": \"NE\", \"team_penalty_cat\": \"Oponente\", \"penalty_side\": \"Castigo Defensivo\", \"mean_yds\": 34.5}, {\"game_winner_cat\": \"NE\", \"team_penalty_cat\": \"Oponente\", \"penalty_side\": \"Castigo Ofensivo\", \"mean_yds\": 26.3}, {\"game_winner_cat\": \"Oponente\", \"team_penalty_cat\": \"NE\", \"penalty_side\": \"Castigo Defensivo\", \"mean_yds\": 31.1}, {\"game_winner_cat\": \"Oponente\", \"team_penalty_cat\": \"NE\", \"penalty_side\": \"Castigo Ofensivo\", \"mean_yds\": 27.5}, {\"game_winner_cat\": \"Oponente\", \"team_penalty_cat\": \"Oponente\", \"penalty_side\": \"Castigo Defensivo\", \"mean_yds\": 36.1}, {\"game_winner_cat\": \"Oponente\", \"team_penalty_cat\": \"Oponente\", \"penalty_side\": \"Castigo Ofensivo\", \"mean_yds\": 22.7}]}}, {\"mode\": \"vega-lite\"});\n",
       "</script>"
      ],
      "text/plain": [
       "alt.FacetChart(...)"
      ]
     },
     "execution_count": 17,
     "metadata": {},
     "output_type": "execute_result"
    }
   ],
   "source": [
    "#primer intento ofensivos\n",
    "from altair.expr import datum, if_\n",
    "\n",
    "barOf = alt.Chart(df_yds_totales).transform_filter(\n",
    "    \"datum.penalty_side == 'Castigo Ofensivo'\"\n",
    "  ).transform_calculate(\n",
    "    Genus='indexof([\"NE\"], datum.game_winner_cat) >= 0 ? \"Cuando los Pats Ganan\": \"Cuando los Pats Pierden\"'\n",
    ").mark_bar().encode(\n",
    "    x=alt.X('team_penalty_cat:N', title='', axis=None),\n",
    "    y=alt.Y('mean(mean_yds):Q', title='Promedio de Yardas\\nConcedidas por Partido'),    \n",
    "    color=alt.Color('team_penalty_cat:N' , \n",
    "                    legend=alt.Legend(direction=\"horizontal\",orient=\"none\",legendX=250, legendY=-50))\n",
    ")\n",
    "\n",
    "\n",
    "textOf = barOf.mark_text(dx=0 ,dy=-8, fontSize=12, font=\"Courier\", color=\"#08415C\").encode(\n",
    "    text = alt.Text( \"mean(mean_yds):Q\" , format=\".1f\",),   #redondear decimales en el label\n",
    "    opacity=alt.value(0.9),\n",
    ")\n",
    "\n",
    "base_castigos_ofensivos= alt.layer(barOf, textOf).properties(\n",
    "    width = 300,\n",
    "    height = 250,\n",
    ").facet(\n",
    "    column = alt.Column(\"Genus:N\", title=\"\"),\n",
    ")\n",
    "\n",
    "base_castigos_ofensivos\n"
   ]
  },
  {
   "cell_type": "code",
   "execution_count": 30,
   "metadata": {},
   "outputs": [
    {
     "data": {
      "text/html": [
       "\n",
       "<div id=\"altair-viz-7\"></div>\n",
       "<script type=\"text/javascript\">\n",
       "  (function(spec, embedOpt){\n",
       "    const outputDiv = document.getElementById(\"altair-viz-7\");\n",
       "    const paths = {\n",
       "      \"vega\": \"https://cdn.jsdelivr.net/npm//vega@5?noext\",\n",
       "      \"vega-lib\": \"https://cdn.jsdelivr.net/npm//vega-lib?noext\",\n",
       "      \"vega-lite\": \"https://cdn.jsdelivr.net/npm//vega-lite@4.0.0?noext\",\n",
       "      \"vega-embed\": \"https://cdn.jsdelivr.net/npm//vega-embed@6?noext\",\n",
       "    };\n",
       "\n",
       "    function loadScript(lib) {\n",
       "      return new Promise(function(resolve, reject) {\n",
       "        var s = document.createElement('script');\n",
       "        s.src = paths[lib];\n",
       "        s.async = true;\n",
       "        s.onload = () => resolve(paths[lib]);\n",
       "        s.onerror = () => reject(`Error loading script: ${paths[lib]}`);\n",
       "        document.getElementsByTagName(\"head\")[0].appendChild(s);\n",
       "      });\n",
       "    }\n",
       "\n",
       "    function showError(err) {\n",
       "      outputDiv.innerHTML = `<div class=\"error\" style=\"color:red;\">${err}</div>`;\n",
       "      throw err;\n",
       "    }\n",
       "\n",
       "    function displayChart(vegaEmbed) {\n",
       "      vegaEmbed(outputDiv, spec, embedOpt)\n",
       "        .catch(err => showError(`Javascript Error: ${err.message}<br>This usually means there's a typo in your chart specification. See the javascript console for the full traceback.`));\n",
       "    }\n",
       "\n",
       "    if(typeof define === \"function\" && define.amd) {\n",
       "      requirejs.config({paths});\n",
       "      require([\"vega-embed\"], displayChart, err => showError(`Error loading script: ${err.message}`));\n",
       "    } else if (typeof vegaEmbed === \"function\") {\n",
       "      displayChart(vegaEmbed);\n",
       "    } else {\n",
       "      loadScript(\"vega\")\n",
       "        .then(() => loadScript(\"vega-lite\"))\n",
       "        .then(() => loadScript(\"vega-embed\"))\n",
       "        .catch(showError)\n",
       "        .then(() => displayChart(vegaEmbed));\n",
       "    }\n",
       "  })({\"config\": {\"title\": {\"fontSize\": 22, \"font\": [\"Courier\"], \"anchor\": \"start\", \"color\": \"#08415C\"}, \"axisX\": {\"labelFont\": \"Courier\", \"titleFont\": [\"Courier\"], \"titleFontSize\": 18, \"titleColor\": \"#08415C\", \"grid\": false}, \"axisY\": {\"axis\": null, \"labelFont\": \"Courier\", \"labelFontSize\": 12, \"titleFont\": [\"Courier\"], \"titleColor\": \"#08415C\", \"titleFontSize\": 16, \"grid\": false, \"ticks\": false, \"labels\": false}, \"legend\": {\"labelFont\": \"Courier\", \"labelFontSize\": 12, \"titleFont\": [\"Courier\"], \"titleFontSize\": 12, \"orient\": \"top\", \"title\": null}, \"range\": {\"category\": [\"#08415C\", \"#B0B7BC\"]}, \"view\": {\"stroke\": \"transparent\"}, \"facet\": {\"spacing\": 20}, \"header\": {\"labelColor\": \"#08415C\", \"labelSize\": 10, \"labelFont\": \"Courier\", \"labelFontSize\": 14, \"labelOrient\": \"bottom\", \"title\": null}}, \"vconcat\": [{\"facet\": {\"column\": {\"type\": \"nominal\", \"field\": \"Genus\", \"title\": \"\"}}, \"spec\": {\"layer\": [{\"mark\": \"bar\", \"encoding\": {\"color\": {\"type\": \"nominal\", \"field\": \"team_penalty_cat\", \"legend\": {\"direction\": \"horizontal\", \"legendX\": 250, \"legendY\": -50, \"orient\": \"none\"}}, \"x\": {\"type\": \"nominal\", \"axis\": null, \"field\": \"team_penalty_cat\", \"title\": \"\"}, \"y\": {\"type\": \"quantitative\", \"aggregate\": \"mean\", \"field\": \"mean_yds\", \"title\": \"Promedio de Yardas\\nConcedidas por Partido\"}}, \"transform\": [{\"filter\": \"datum.penalty_side == 'Castigo Ofensivo'\"}, {\"calculate\": \"indexof([\\\"NE\\\"], datum.game_winner_cat) >= 0 ? \\\"Cuando los Pats Ganan\\\": \\\"Cuando los Pats Pierden\\\"\", \"as\": \"Genus\"}]}, {\"mark\": {\"type\": \"text\", \"color\": \"#08415C\", \"dx\": 0, \"dy\": -8, \"font\": \"Courier\", \"fontSize\": 12}, \"encoding\": {\"color\": {\"type\": \"nominal\", \"field\": \"team_penalty_cat\", \"legend\": {\"direction\": \"horizontal\", \"legendX\": 250, \"legendY\": -50, \"orient\": \"none\"}}, \"opacity\": {\"value\": 0.9}, \"text\": {\"type\": \"quantitative\", \"aggregate\": \"mean\", \"field\": \"mean_yds\", \"format\": \".1f\"}, \"x\": {\"type\": \"nominal\", \"axis\": null, \"field\": \"team_penalty_cat\", \"title\": \"\"}, \"y\": {\"type\": \"quantitative\", \"aggregate\": \"mean\", \"field\": \"mean_yds\", \"title\": \"Promedio de Yardas\\nConcedidas por Partido\"}}, \"transform\": [{\"filter\": \"datum.penalty_side == 'Castigo Ofensivo'\"}, {\"calculate\": \"indexof([\\\"NE\\\"], datum.game_winner_cat) >= 0 ? \\\"Cuando los Pats Ganan\\\": \\\"Cuando los Pats Pierden\\\"\", \"as\": \"Genus\"}]}], \"height\": 250, \"width\": 300}}, {\"mark\": {\"type\": \"text\", \"color\": \"#08415C\", \"dx\": 340, \"dy\": 5, \"font\": \"Courier\", \"size\": 10, \"text\": \"@nerudista\"}, \"height\": 20, \"width\": 700}], \"data\": {\"name\": \"data-f247de6bb35cba63cff5435e326416d6\"}, \"title\": \"Castigos Ofensivos Por Equipo - Altair\", \"$schema\": \"https://vega.github.io/schema/vega-lite/v4.0.0.json\", \"datasets\": {\"data-f247de6bb35cba63cff5435e326416d6\": [{\"game_winner_cat\": \"NE\", \"team_penalty_cat\": \"NE\", \"penalty_side\": \"Castigo Defensivo\", \"mean_yds\": 28.7}, {\"game_winner_cat\": \"NE\", \"team_penalty_cat\": \"NE\", \"penalty_side\": \"Castigo Ofensivo\", \"mean_yds\": 28.4}, {\"game_winner_cat\": \"NE\", \"team_penalty_cat\": \"Oponente\", \"penalty_side\": \"Castigo Defensivo\", \"mean_yds\": 34.5}, {\"game_winner_cat\": \"NE\", \"team_penalty_cat\": \"Oponente\", \"penalty_side\": \"Castigo Ofensivo\", \"mean_yds\": 26.3}, {\"game_winner_cat\": \"Oponente\", \"team_penalty_cat\": \"NE\", \"penalty_side\": \"Castigo Defensivo\", \"mean_yds\": 31.1}, {\"game_winner_cat\": \"Oponente\", \"team_penalty_cat\": \"NE\", \"penalty_side\": \"Castigo Ofensivo\", \"mean_yds\": 27.5}, {\"game_winner_cat\": \"Oponente\", \"team_penalty_cat\": \"Oponente\", \"penalty_side\": \"Castigo Defensivo\", \"mean_yds\": 36.1}, {\"game_winner_cat\": \"Oponente\", \"team_penalty_cat\": \"Oponente\", \"penalty_side\": \"Castigo Ofensivo\", \"mean_yds\": 22.7}]}}, {\"mode\": \"vega-lite\"});\n",
       "</script>"
      ],
      "text/plain": [
       "alt.VConcatChart(...)"
      ]
     },
     "execution_count": 30,
     "metadata": {},
     "output_type": "execute_result"
    }
   ],
   "source": [
    "finalOf = alt.vconcat(base_castigos_ofensivos, caption_chart).configure_header(    \n",
    "    #El configure header va aquí para evitar errores de config\n",
    "    title=None,\n",
    "    labelOrient=\"bottom\",  #Posición del \"Cuando los Pats ganan\",\n",
    "    labelFontSize = 14,    #Tamaño del \"Cuando los Pats ganan\",\n",
    "    labelFont=\"Courier\",\n",
    "    \n",
    ").properties(\n",
    " title = \"Castigos Ofensivos Por Equipo - Altair\",\n",
    ")\n",
    "\n",
    "finalOf = finalOf.configure_title(\n",
    "    anchor='start'\n",
    ")\n",
    "\n",
    "finalOf"
   ]
  },
  {
   "cell_type": "code",
   "execution_count": 31,
   "metadata": {},
   "outputs": [],
   "source": [
    "#Guardar imagen\n",
    "finalOf.save('./graficas/Altair/AltairCastigosOfensivos.png', scale_factor=1.0)"
   ]
  },
  {
   "cell_type": "markdown",
   "metadata": {},
   "source": [
    "########################################\n",
    "###   CHECK PENALTIES BY OPPORTUNITY\n",
    "########################################\n"
   ]
  },
  {
   "cell_type": "code",
   "execution_count": 38,
   "metadata": {},
   "outputs": [],
   "source": [
    "df_opp = data.groupby([\"opportunity\",\"team_penalty_cat\"])[\"penalty_yards\"].sum().reset_index(name=\"count_yds\")\n",
    "df_opp.opportunity = df_opp.opportunity.astype(int)"
   ]
  },
  {
   "cell_type": "raw",
   "metadata": {},
   "source": [
    "bar_opp =alt.Chart(df_opp).mark_bar().encode(\n",
    "x = alt.X (\"count_yds:Q\",\n",
    "           axis=None,\n",
    "          stack='zero'),\n",
    "y = alt.Y (\"opportunity:N\" , sort = \"descending\", \n",
    "           axis=alt.Axis(labels=True, title=\"Oportunidad\")),\n",
    "color=alt.Color('team_penalty_cat' , \n",
    "                    legend=alt.Legend(direction=\"horizontal\",orient=\"none\",legendX=250, legendY=-50)\n",
    "),\n",
    "order = alt.Order(\"opportunity:N\" )).properties(\n",
    "  width = 400,\n",
    "  height = 300,\n",
    ")\n",
    "\n",
    "text_opp=alt.Chart(df_opp).mark_text(\n",
    "    font=\"Courier\",\n",
    "    fontSize=12,\n",
    "    color='white',\n",
    "    dx=-15, \n",
    "    dy=3,\n",
    " ).encode(\n",
    "    x=alt.X( 'count_yds:Q', stack='zero',title=None, axis=None),\n",
    "    y=alt.Y('opportunity:N', title=None, axis=None),\n",
    "    text=alt.Text(\"count_yds:Q\"  )  ,   \n",
    "    detail='team_penalty_cat:N',\n",
    ").properties(\n",
    "  width = 400,\n",
    "  height = 300,\n",
    "  title=\"Yardas Concedidas\\nPor Equipo y Oportunidad - Altair\"\n",
    ")\n",
    "\n",
    "alt.layer(bar_opp,text_opp)"
   ]
  },
  {
   "cell_type": "code",
   "execution_count": 55,
   "metadata": {},
   "outputs": [],
   "source": [
    "\n",
    "bars_opp = alt.Chart(df_opp).mark_bar().encode(\n",
    "    x=alt.X('count_yds:Q', stack='zero',axis=None),\n",
    "    y = alt.Y (\"opportunity:N\" , \n",
    "           axis=alt.Axis(labels=True, title=\"Oportunidad\")),\n",
    "    color=alt.Color('team_penalty_cat' , \n",
    "                    legend=alt.Legend(direction=\"horizontal\",\n",
    "                                      orient=\"none\",\n",
    "                                      legendX=250,\n",
    "                                      legendY=-40,\n",
    "                                      columnPadding=30,\n",
    "                                      padding=-25,\n",
    "                                     ))\n",
    ").properties(\n",
    "  width = 700,\n",
    "  height = 300,\n",
    ")\n",
    "\n",
    "text_opp = alt.Chart(df_opp).mark_text(dx=-25, dy=3, color='white', font=\"Courier\",\n",
    "    fontSize=12,).encode(\n",
    "    x=alt.X('count_yds:Q', stack='zero',axis=None),\n",
    "    y=alt.Y('opportunity:N', sort=alt.EncodingSortField(field=\"opportunity\",\n",
    "                                                        #op=\"argmax\",\n",
    "                                                        order='ascending')),\n",
    "    detail='team_penalty_cat:N',\n",
    "    text=alt.Text('count_yds:Q')\n",
    ").properties(\n",
    "  width = 600,\n",
    "  height = 300,\n",
    ")\n",
    "\n",
    "base_opp = alt.layer(bars_opp,text_opp)"
   ]
  },
  {
   "cell_type": "code",
   "execution_count": null,
   "metadata": {},
   "outputs": [],
   "source": []
  },
  {
   "cell_type": "code",
   "execution_count": 51,
   "metadata": {},
   "outputs": [
    {
     "data": {
      "text/html": [
       "\n",
       "<div id=\"altair-viz-18\"></div>\n",
       "<script type=\"text/javascript\">\n",
       "  (function(spec, embedOpt){\n",
       "    const outputDiv = document.getElementById(\"altair-viz-18\");\n",
       "    const paths = {\n",
       "      \"vega\": \"https://cdn.jsdelivr.net/npm//vega@5?noext\",\n",
       "      \"vega-lib\": \"https://cdn.jsdelivr.net/npm//vega-lib?noext\",\n",
       "      \"vega-lite\": \"https://cdn.jsdelivr.net/npm//vega-lite@4.0.0?noext\",\n",
       "      \"vega-embed\": \"https://cdn.jsdelivr.net/npm//vega-embed@6?noext\",\n",
       "    };\n",
       "\n",
       "    function loadScript(lib) {\n",
       "      return new Promise(function(resolve, reject) {\n",
       "        var s = document.createElement('script');\n",
       "        s.src = paths[lib];\n",
       "        s.async = true;\n",
       "        s.onload = () => resolve(paths[lib]);\n",
       "        s.onerror = () => reject(`Error loading script: ${paths[lib]}`);\n",
       "        document.getElementsByTagName(\"head\")[0].appendChild(s);\n",
       "      });\n",
       "    }\n",
       "\n",
       "    function showError(err) {\n",
       "      outputDiv.innerHTML = `<div class=\"error\" style=\"color:red;\">${err}</div>`;\n",
       "      throw err;\n",
       "    }\n",
       "\n",
       "    function displayChart(vegaEmbed) {\n",
       "      vegaEmbed(outputDiv, spec, embedOpt)\n",
       "        .catch(err => showError(`Javascript Error: ${err.message}<br>This usually means there's a typo in your chart specification. See the javascript console for the full traceback.`));\n",
       "    }\n",
       "\n",
       "    if(typeof define === \"function\" && define.amd) {\n",
       "      requirejs.config({paths});\n",
       "      require([\"vega-embed\"], displayChart, err => showError(`Error loading script: ${err.message}`));\n",
       "    } else if (typeof vegaEmbed === \"function\") {\n",
       "      displayChart(vegaEmbed);\n",
       "    } else {\n",
       "      loadScript(\"vega\")\n",
       "        .then(() => loadScript(\"vega-lite\"))\n",
       "        .then(() => loadScript(\"vega-embed\"))\n",
       "        .catch(showError)\n",
       "        .then(() => displayChart(vegaEmbed));\n",
       "    }\n",
       "  })({\"config\": {\"title\": {\"fontSize\": 22, \"font\": [\"Courier\"], \"anchor\": \"middle\", \"color\": \"#08415C\"}, \"axisX\": {\"labelFont\": \"Courier\", \"titleFont\": [\"Courier\"], \"titleFontSize\": 18, \"titleColor\": \"#08415C\", \"grid\": false}, \"axisY\": {\"axis\": null, \"labelFont\": \"Courier\", \"labelFontSize\": 12, \"titleFont\": [\"Courier\"], \"titleColor\": \"#08415C\", \"titleFontSize\": 16, \"grid\": false, \"ticks\": false, \"labels\": false}, \"legend\": {\"labelFont\": \"Courier\", \"labelFontSize\": 12, \"titleFont\": [\"Courier\"], \"titleFontSize\": 12, \"orient\": \"top\", \"title\": null}, \"range\": {\"category\": [\"#08415C\", \"#B0B7BC\"]}, \"view\": {\"stroke\": \"transparent\"}, \"facet\": {\"spacing\": 20}, \"header\": {\"labelColor\": \"#08415C\", \"labelSize\": 10, \"labelFontSize\": 14, \"labelOrient\": \"bottom\", \"title\": null}}, \"vconcat\": [{\"layer\": [{\"mark\": \"bar\", \"encoding\": {\"color\": {\"type\": \"nominal\", \"field\": \"team_penalty_cat\", \"legend\": {\"columnPadding\": 30, \"direction\": \"horizontal\", \"legendX\": 250, \"legendY\": -40, \"orient\": \"none\", \"padding\": -25}}, \"x\": {\"type\": \"quantitative\", \"axis\": null, \"field\": \"count_yds\", \"stack\": \"zero\"}, \"y\": {\"type\": \"nominal\", \"axis\": {\"labels\": true, \"title\": \"Oportunidad\"}, \"field\": \"opportunity\"}}, \"height\": 300, \"width\": 700}, {\"mark\": {\"type\": \"text\", \"color\": \"white\", \"dx\": -25, \"dy\": 3, \"font\": \"Courier\", \"fontSize\": 12}, \"encoding\": {\"detail\": {\"type\": \"nominal\", \"field\": \"team_penalty_cat\"}, \"text\": {\"type\": \"quantitative\", \"field\": \"count_yds\"}, \"x\": {\"type\": \"quantitative\", \"axis\": null, \"field\": \"count_yds\", \"stack\": \"zero\"}, \"y\": {\"type\": \"nominal\", \"field\": \"opportunity\", \"sort\": {\"field\": \"opportunity\", \"order\": \"ascending\"}}}, \"height\": 300, \"width\": 600}], \"data\": {\"name\": \"data-74f9dc65560f6b2f011132732d986333\"}}, {\"data\": {\"name\": \"data-f247de6bb35cba63cff5435e326416d6\"}, \"mark\": {\"type\": \"text\", \"color\": \"#08415C\", \"dx\": 340, \"dy\": 5, \"font\": \"Courier\", \"size\": 10, \"text\": \"@nerudista\"}, \"height\": 20, \"width\": 700}], \"title\": \"Yardas Concedidas\\nPor Equipo y Oportunidad - Altair\", \"$schema\": \"https://vega.github.io/schema/vega-lite/v4.0.0.json\", \"datasets\": {\"data-74f9dc65560f6b2f011132732d986333\": [{\"opportunity\": 1, \"team_penalty_cat\": \"NE\", \"count_yds\": 3522}, {\"opportunity\": 1, \"team_penalty_cat\": \"Oponente\", \"count_yds\": 3606}, {\"opportunity\": 2, \"team_penalty_cat\": \"NE\", \"count_yds\": 2479}, {\"opportunity\": 2, \"team_penalty_cat\": \"Oponente\", \"count_yds\": 2985}, {\"opportunity\": 3, \"team_penalty_cat\": \"NE\", \"count_yds\": 1706}, {\"opportunity\": 3, \"team_penalty_cat\": \"Oponente\", \"count_yds\": 2143}, {\"opportunity\": 4, \"team_penalty_cat\": \"NE\", \"count_yds\": 1210}, {\"opportunity\": 4, \"team_penalty_cat\": \"Oponente\", \"count_yds\": 1097}], \"data-f247de6bb35cba63cff5435e326416d6\": [{\"game_winner_cat\": \"NE\", \"team_penalty_cat\": \"NE\", \"penalty_side\": \"Castigo Defensivo\", \"mean_yds\": 28.7}, {\"game_winner_cat\": \"NE\", \"team_penalty_cat\": \"NE\", \"penalty_side\": \"Castigo Ofensivo\", \"mean_yds\": 28.4}, {\"game_winner_cat\": \"NE\", \"team_penalty_cat\": \"Oponente\", \"penalty_side\": \"Castigo Defensivo\", \"mean_yds\": 34.5}, {\"game_winner_cat\": \"NE\", \"team_penalty_cat\": \"Oponente\", \"penalty_side\": \"Castigo Ofensivo\", \"mean_yds\": 26.3}, {\"game_winner_cat\": \"Oponente\", \"team_penalty_cat\": \"NE\", \"penalty_side\": \"Castigo Defensivo\", \"mean_yds\": 31.1}, {\"game_winner_cat\": \"Oponente\", \"team_penalty_cat\": \"NE\", \"penalty_side\": \"Castigo Ofensivo\", \"mean_yds\": 27.5}, {\"game_winner_cat\": \"Oponente\", \"team_penalty_cat\": \"Oponente\", \"penalty_side\": \"Castigo Defensivo\", \"mean_yds\": 36.1}, {\"game_winner_cat\": \"Oponente\", \"team_penalty_cat\": \"Oponente\", \"penalty_side\": \"Castigo Ofensivo\", \"mean_yds\": 22.7}]}}, {\"mode\": \"vega-lite\"});\n",
       "</script>"
      ],
      "text/plain": [
       "alt.VConcatChart(...)"
      ]
     },
     "execution_count": 51,
     "metadata": {},
     "output_type": "execute_result"
    }
   ],
   "source": [
    "base_opp = alt.vconcat(base_opp, caption_chart).configure_header(    \n",
    "    #El configure header va aquí para evitar errores de config\n",
    "    title=None,\n",
    "    labelOrient=\"bottom\",  #Posición del \"Cuando los Pats ganan\",\n",
    "    labelFontSize = 14,    #Tamaño del \"Cuando los Pats ganan\",\n",
    ").properties(\n",
    " title = \"Yardas Concedidas\\nPor Equipo y Oportunidad - Altair\",\n",
    ")\n",
    "#final.configure_legend(symbolSize = 200, labelLimit = 200 )\n",
    "base_opp"
   ]
  },
  {
   "cell_type": "code",
   "execution_count": 56,
   "metadata": {},
   "outputs": [
    {
     "data": {
      "text/html": [
       "\n",
       "<div id=\"altair-viz-21\"></div>\n",
       "<script type=\"text/javascript\">\n",
       "  (function(spec, embedOpt){\n",
       "    const outputDiv = document.getElementById(\"altair-viz-21\");\n",
       "    const paths = {\n",
       "      \"vega\": \"https://cdn.jsdelivr.net/npm//vega@5?noext\",\n",
       "      \"vega-lib\": \"https://cdn.jsdelivr.net/npm//vega-lib?noext\",\n",
       "      \"vega-lite\": \"https://cdn.jsdelivr.net/npm//vega-lite@4.0.0?noext\",\n",
       "      \"vega-embed\": \"https://cdn.jsdelivr.net/npm//vega-embed@6?noext\",\n",
       "    };\n",
       "\n",
       "    function loadScript(lib) {\n",
       "      return new Promise(function(resolve, reject) {\n",
       "        var s = document.createElement('script');\n",
       "        s.src = paths[lib];\n",
       "        s.async = true;\n",
       "        s.onload = () => resolve(paths[lib]);\n",
       "        s.onerror = () => reject(`Error loading script: ${paths[lib]}`);\n",
       "        document.getElementsByTagName(\"head\")[0].appendChild(s);\n",
       "      });\n",
       "    }\n",
       "\n",
       "    function showError(err) {\n",
       "      outputDiv.innerHTML = `<div class=\"error\" style=\"color:red;\">${err}</div>`;\n",
       "      throw err;\n",
       "    }\n",
       "\n",
       "    function displayChart(vegaEmbed) {\n",
       "      vegaEmbed(outputDiv, spec, embedOpt)\n",
       "        .catch(err => showError(`Javascript Error: ${err.message}<br>This usually means there's a typo in your chart specification. See the javascript console for the full traceback.`));\n",
       "    }\n",
       "\n",
       "    if(typeof define === \"function\" && define.amd) {\n",
       "      requirejs.config({paths});\n",
       "      require([\"vega-embed\"], displayChart, err => showError(`Error loading script: ${err.message}`));\n",
       "    } else if (typeof vegaEmbed === \"function\") {\n",
       "      displayChart(vegaEmbed);\n",
       "    } else {\n",
       "      loadScript(\"vega\")\n",
       "        .then(() => loadScript(\"vega-lite\"))\n",
       "        .then(() => loadScript(\"vega-embed\"))\n",
       "        .catch(showError)\n",
       "        .then(() => displayChart(vegaEmbed));\n",
       "    }\n",
       "  })({\"config\": {\"title\": {\"fontSize\": 22, \"font\": [\"Courier\"], \"anchor\": \"middle\", \"color\": \"#08415C\"}, \"axisX\": {\"labelFont\": \"Courier\", \"titleFont\": [\"Courier\"], \"titleFontSize\": 18, \"titleColor\": \"#08415C\", \"grid\": false}, \"axisY\": {\"axis\": null, \"labelFont\": \"Courier\", \"labelFontSize\": 12, \"titleFont\": [\"Courier\"], \"titleColor\": \"#08415C\", \"titleFontSize\": 16, \"grid\": false, \"ticks\": false, \"labels\": false}, \"legend\": {\"labelFont\": \"Courier\", \"labelFontSize\": 12, \"titleFont\": [\"Courier\"], \"titleFontSize\": 12, \"orient\": \"top\", \"title\": null}, \"range\": {\"category\": [\"#08415C\", \"#B0B7BC\"]}, \"view\": {\"stroke\": \"transparent\"}, \"facet\": {\"spacing\": 20}, \"header\": {\"labelColor\": \"#08415C\", \"labelSize\": 10}}, \"data\": {\"name\": \"data-fe9679283db91e79bb553d5d0e8b3447\"}, \"mark\": {\"type\": \"text\", \"color\": \"#08415C\", \"dx\": -165, \"font\": \"Courier\", \"size\": 16}, \"encoding\": {\"text\": {\"type\": \"nominal\", \"field\": \"text\"}}, \"height\": 0, \"width\": 700, \"$schema\": \"https://vega.github.io/schema/vega-lite/v4.0.0.json\", \"datasets\": {\"data-fe9679283db91e79bb553d5d0e8b3447\": [{\"text\": \"Incluye Castigos Ofensivos y Defensivos\"}]}}, {\"mode\": \"vega-lite\"});\n",
       "</script>"
      ],
      "text/plain": [
       "alt.Chart(...)"
      ]
     },
     "execution_count": 56,
     "metadata": {},
     "output_type": "execute_result"
    }
   ],
   "source": [
    "subtitle = alt.Chart(\n",
    "    {\"values\": [{\"text\": \"Incluye Castigos Ofensivos y Defensivos\"}]}\n",
    ").mark_text(dx=-165 ,size=16, color=\"#08415C\", font='Courier').encode(\n",
    "    text=\"text:N\"\n",
    ").properties(\n",
    "   width = 700,\n",
    "    height=0\n",
    ")\n",
    "\n",
    "subtitle"
   ]
  },
  {
   "cell_type": "code",
   "execution_count": 64,
   "metadata": {},
   "outputs": [
    {
     "data": {
      "text/html": [
       "\n",
       "<div id=\"altair-viz-25\"></div>\n",
       "<script type=\"text/javascript\">\n",
       "  (function(spec, embedOpt){\n",
       "    const outputDiv = document.getElementById(\"altair-viz-25\");\n",
       "    const paths = {\n",
       "      \"vega\": \"https://cdn.jsdelivr.net/npm//vega@5?noext\",\n",
       "      \"vega-lib\": \"https://cdn.jsdelivr.net/npm//vega-lib?noext\",\n",
       "      \"vega-lite\": \"https://cdn.jsdelivr.net/npm//vega-lite@4.0.0?noext\",\n",
       "      \"vega-embed\": \"https://cdn.jsdelivr.net/npm//vega-embed@6?noext\",\n",
       "    };\n",
       "\n",
       "    function loadScript(lib) {\n",
       "      return new Promise(function(resolve, reject) {\n",
       "        var s = document.createElement('script');\n",
       "        s.src = paths[lib];\n",
       "        s.async = true;\n",
       "        s.onload = () => resolve(paths[lib]);\n",
       "        s.onerror = () => reject(`Error loading script: ${paths[lib]}`);\n",
       "        document.getElementsByTagName(\"head\")[0].appendChild(s);\n",
       "      });\n",
       "    }\n",
       "\n",
       "    function showError(err) {\n",
       "      outputDiv.innerHTML = `<div class=\"error\" style=\"color:red;\">${err}</div>`;\n",
       "      throw err;\n",
       "    }\n",
       "\n",
       "    function displayChart(vegaEmbed) {\n",
       "      vegaEmbed(outputDiv, spec, embedOpt)\n",
       "        .catch(err => showError(`Javascript Error: ${err.message}<br>This usually means there's a typo in your chart specification. See the javascript console for the full traceback.`));\n",
       "    }\n",
       "\n",
       "    if(typeof define === \"function\" && define.amd) {\n",
       "      requirejs.config({paths});\n",
       "      require([\"vega-embed\"], displayChart, err => showError(`Error loading script: ${err.message}`));\n",
       "    } else if (typeof vegaEmbed === \"function\") {\n",
       "      displayChart(vegaEmbed);\n",
       "    } else {\n",
       "      loadScript(\"vega\")\n",
       "        .then(() => loadScript(\"vega-lite\"))\n",
       "        .then(() => loadScript(\"vega-embed\"))\n",
       "        .catch(showError)\n",
       "        .then(() => displayChart(vegaEmbed));\n",
       "    }\n",
       "  })({\"config\": {\"title\": {\"fontSize\": 22, \"font\": [\"Courier\"], \"anchor\": \"middle\", \"color\": \"#08415C\"}, \"axisX\": {\"labelFont\": \"Courier\", \"titleFont\": [\"Courier\"], \"titleFontSize\": 18, \"titleColor\": \"#08415C\", \"grid\": false}, \"axisY\": {\"axis\": null, \"labelFont\": \"Courier\", \"labelFontSize\": 12, \"titleFont\": [\"Courier\"], \"titleColor\": \"#08415C\", \"titleFontSize\": 16, \"grid\": false, \"ticks\": false, \"labels\": false}, \"legend\": {\"labelFont\": \"Courier\", \"labelFontSize\": 12, \"titleFont\": [\"Courier\"], \"titleFontSize\": 12, \"orient\": \"top\", \"title\": null}, \"range\": {\"category\": [\"#08415C\", \"#B0B7BC\"]}, \"view\": {\"stroke\": \"transparent\"}, \"facet\": {\"spacing\": 20}, \"header\": {\"labelColor\": \"#08415C\", \"labelSize\": 10}}, \"vconcat\": [{\"data\": {\"name\": \"data-fe9679283db91e79bb553d5d0e8b3447\"}, \"mark\": {\"type\": \"text\", \"color\": \"#08415C\", \"dx\": -165, \"font\": \"Courier\", \"size\": 16}, \"encoding\": {\"text\": {\"type\": \"nominal\", \"field\": \"text\"}}, \"height\": 0, \"width\": 700}, {\"layer\": [{\"mark\": \"bar\", \"encoding\": {\"color\": {\"type\": \"nominal\", \"field\": \"team_penalty_cat\", \"legend\": {\"columnPadding\": 30, \"direction\": \"horizontal\", \"legendX\": 250, \"legendY\": -40, \"orient\": \"none\", \"padding\": -25}}, \"x\": {\"type\": \"quantitative\", \"axis\": null, \"field\": \"count_yds\", \"stack\": \"zero\"}, \"y\": {\"type\": \"nominal\", \"axis\": {\"labels\": true, \"title\": \"Oportunidad\"}, \"field\": \"opportunity\"}}, \"height\": 300, \"width\": 700}, {\"mark\": {\"type\": \"text\", \"color\": \"white\", \"dx\": -25, \"dy\": 3, \"font\": \"Courier\", \"fontSize\": 12}, \"encoding\": {\"detail\": {\"type\": \"nominal\", \"field\": \"team_penalty_cat\"}, \"text\": {\"type\": \"quantitative\", \"field\": \"count_yds\"}, \"x\": {\"type\": \"quantitative\", \"axis\": null, \"field\": \"count_yds\", \"stack\": \"zero\"}, \"y\": {\"type\": \"nominal\", \"field\": \"opportunity\", \"sort\": {\"field\": \"opportunity\", \"order\": \"ascending\"}}}, \"height\": 300, \"width\": 600}], \"data\": {\"name\": \"data-74f9dc65560f6b2f011132732d986333\"}}, {\"data\": {\"name\": \"data-f247de6bb35cba63cff5435e326416d6\"}, \"mark\": {\"type\": \"text\", \"color\": \"#08415C\", \"dx\": 340, \"dy\": 5, \"font\": \"Courier\", \"size\": 10, \"text\": \"@nerudista\"}, \"height\": 20, \"width\": 700}], \"title\": \"Yardas Concedidas por Equipo y Oportunidad - Altair\", \"$schema\": \"https://vega.github.io/schema/vega-lite/v4.0.0.json\", \"datasets\": {\"data-fe9679283db91e79bb553d5d0e8b3447\": [{\"text\": \"Incluye Castigos Ofensivos y Defensivos\"}], \"data-74f9dc65560f6b2f011132732d986333\": [{\"opportunity\": 1, \"team_penalty_cat\": \"NE\", \"count_yds\": 3522}, {\"opportunity\": 1, \"team_penalty_cat\": \"Oponente\", \"count_yds\": 3606}, {\"opportunity\": 2, \"team_penalty_cat\": \"NE\", \"count_yds\": 2479}, {\"opportunity\": 2, \"team_penalty_cat\": \"Oponente\", \"count_yds\": 2985}, {\"opportunity\": 3, \"team_penalty_cat\": \"NE\", \"count_yds\": 1706}, {\"opportunity\": 3, \"team_penalty_cat\": \"Oponente\", \"count_yds\": 2143}, {\"opportunity\": 4, \"team_penalty_cat\": \"NE\", \"count_yds\": 1210}, {\"opportunity\": 4, \"team_penalty_cat\": \"Oponente\", \"count_yds\": 1097}], \"data-f247de6bb35cba63cff5435e326416d6\": [{\"game_winner_cat\": \"NE\", \"team_penalty_cat\": \"NE\", \"penalty_side\": \"Castigo Defensivo\", \"mean_yds\": 28.7}, {\"game_winner_cat\": \"NE\", \"team_penalty_cat\": \"NE\", \"penalty_side\": \"Castigo Ofensivo\", \"mean_yds\": 28.4}, {\"game_winner_cat\": \"NE\", \"team_penalty_cat\": \"Oponente\", \"penalty_side\": \"Castigo Defensivo\", \"mean_yds\": 34.5}, {\"game_winner_cat\": \"NE\", \"team_penalty_cat\": \"Oponente\", \"penalty_side\": \"Castigo Ofensivo\", \"mean_yds\": 26.3}, {\"game_winner_cat\": \"Oponente\", \"team_penalty_cat\": \"NE\", \"penalty_side\": \"Castigo Defensivo\", \"mean_yds\": 31.1}, {\"game_winner_cat\": \"Oponente\", \"team_penalty_cat\": \"NE\", \"penalty_side\": \"Castigo Ofensivo\", \"mean_yds\": 27.5}, {\"game_winner_cat\": \"Oponente\", \"team_penalty_cat\": \"Oponente\", \"penalty_side\": \"Castigo Defensivo\", \"mean_yds\": 36.1}, {\"game_winner_cat\": \"Oponente\", \"team_penalty_cat\": \"Oponente\", \"penalty_side\": \"Castigo Ofensivo\", \"mean_yds\": 22.7}]}}, {\"mode\": \"vega-lite\"});\n",
       "</script>"
      ],
      "text/plain": [
       "alt.VConcatChart(...)"
      ]
     },
     "execution_count": 64,
     "metadata": {},
     "output_type": "execute_result"
    }
   ],
   "source": [
    "final_opp= alt.vconcat(#title, \n",
    "             subtitle,\n",
    "             base_opp,\n",
    "             caption_chart).properties(\n",
    "   title=\"Yardas Concedidas por Equipo y Oportunidad - Altair\"  )\n",
    "\n",
    "final_opp"
   ]
  },
  {
   "cell_type": "code",
   "execution_count": 65,
   "metadata": {},
   "outputs": [],
   "source": [
    "#Guardar imagen\n",
    "final_opp.save('./graficas/Altair/AltairYardasOportunidad.png', scale_factor=2.0)"
   ]
  },
  {
   "cell_type": "markdown",
   "metadata": {},
   "source": [
    "########################################\n",
    "###   CHECK PENALTIES IN LAST 5 MIN IN 4Q\n",
    "########################################"
   ]
  },
  {
   "cell_type": "code",
   "execution_count": 66,
   "metadata": {},
   "outputs": [
    {
     "data": {
      "text/plain": [
       "0       12.0\n",
       "1       11.0\n",
       "2        9.0\n",
       "3        5.0\n",
       "4        5.0\n",
       "        ... \n",
       "2294     2.0\n",
       "2295     7.0\n",
       "2296     4.0\n",
       "2297     NaN\n",
       "2298     6.0\n",
       "Name: mytime, Length: 2299, dtype: float64"
      ]
     },
     "execution_count": 66,
     "metadata": {},
     "output_type": "execute_result"
    }
   ],
   "source": [
    "from datetime import datetime\n",
    "#Create column for minute:second in time left\n",
    "#Esta función pone los minutos como horas y los segundos como minutos. \n",
    "#Voy a quedarme sólo con los minutos para ver si son los 5 finales\n",
    "data[\"mytime\"]=pd.to_datetime(data[\"time_left_qtr\"]).dt.hour\n",
    "data[\"mytime\"]"
   ]
  },
  {
   "cell_type": "code",
   "execution_count": 67,
   "metadata": {},
   "outputs": [],
   "source": [
    "df_4q_5min_reg =data[(data.mytime-5 < 0)  & \n",
    "     (data.quarter == 'Q4') &\n",
    "     (data.game_type=='REG') &\n",
    "     (data.team_penalty_cat != 'NE')].groupby([\"week\"])[\"week\"].count().reset_index(name=\"count\")"
   ]
  },
  {
   "cell_type": "code",
   "execution_count": 72,
   "metadata": {},
   "outputs": [
    {
     "data": {
      "text/html": [
       "\n",
       "<div id=\"altair-viz-28\"></div>\n",
       "<script type=\"text/javascript\">\n",
       "  (function(spec, embedOpt){\n",
       "    const outputDiv = document.getElementById(\"altair-viz-28\");\n",
       "    const paths = {\n",
       "      \"vega\": \"https://cdn.jsdelivr.net/npm//vega@5?noext\",\n",
       "      \"vega-lib\": \"https://cdn.jsdelivr.net/npm//vega-lib?noext\",\n",
       "      \"vega-lite\": \"https://cdn.jsdelivr.net/npm//vega-lite@4.0.0?noext\",\n",
       "      \"vega-embed\": \"https://cdn.jsdelivr.net/npm//vega-embed@6?noext\",\n",
       "    };\n",
       "\n",
       "    function loadScript(lib) {\n",
       "      return new Promise(function(resolve, reject) {\n",
       "        var s = document.createElement('script');\n",
       "        s.src = paths[lib];\n",
       "        s.async = true;\n",
       "        s.onload = () => resolve(paths[lib]);\n",
       "        s.onerror = () => reject(`Error loading script: ${paths[lib]}`);\n",
       "        document.getElementsByTagName(\"head\")[0].appendChild(s);\n",
       "      });\n",
       "    }\n",
       "\n",
       "    function showError(err) {\n",
       "      outputDiv.innerHTML = `<div class=\"error\" style=\"color:red;\">${err}</div>`;\n",
       "      throw err;\n",
       "    }\n",
       "\n",
       "    function displayChart(vegaEmbed) {\n",
       "      vegaEmbed(outputDiv, spec, embedOpt)\n",
       "        .catch(err => showError(`Javascript Error: ${err.message}<br>This usually means there's a typo in your chart specification. See the javascript console for the full traceback.`));\n",
       "    }\n",
       "\n",
       "    if(typeof define === \"function\" && define.amd) {\n",
       "      requirejs.config({paths});\n",
       "      require([\"vega-embed\"], displayChart, err => showError(`Error loading script: ${err.message}`));\n",
       "    } else if (typeof vegaEmbed === \"function\") {\n",
       "      displayChart(vegaEmbed);\n",
       "    } else {\n",
       "      loadScript(\"vega\")\n",
       "        .then(() => loadScript(\"vega-lite\"))\n",
       "        .then(() => loadScript(\"vega-embed\"))\n",
       "        .catch(showError)\n",
       "        .then(() => displayChart(vegaEmbed));\n",
       "    }\n",
       "  })({\"config\": {\"title\": {\"fontSize\": 22, \"font\": [\"Courier\"], \"anchor\": \"middle\", \"color\": \"#08415C\"}, \"axisX\": {\"labelFont\": \"Courier\", \"titleFont\": [\"Courier\"], \"titleFontSize\": 18, \"titleColor\": \"#08415C\", \"grid\": false}, \"axisY\": {\"axis\": null, \"labelFont\": \"Courier\", \"labelFontSize\": 12, \"titleFont\": [\"Courier\"], \"titleColor\": \"#08415C\", \"titleFontSize\": 16, \"grid\": false, \"ticks\": false, \"labels\": false}, \"legend\": {\"labelFont\": \"Courier\", \"labelFontSize\": 12, \"titleFont\": [\"Courier\"], \"titleFontSize\": 12, \"orient\": \"top\", \"title\": null}, \"range\": {\"category\": [\"#08415C\", \"#B0B7BC\"]}, \"view\": {\"stroke\": \"transparent\"}, \"facet\": {\"spacing\": 20}, \"header\": {\"labelColor\": \"#08415C\", \"labelSize\": 10}}, \"layer\": [{\"mark\": {\"type\": \"bar\", \"color\": \"#B0B7BC\"}, \"encoding\": {\"x\": {\"type\": \"nominal\", \"axis\": {\"labelAngle\": 0, \"ticks\": false}, \"field\": \"week\", \"title\": \"Semana\"}, \"y\": {\"type\": \"quantitative\", \"field\": \"count\", \"title\": \"N\\u00famero de castigos\"}}, \"height\": 300, \"width\": 700}, {\"mark\": {\"type\": \"text\", \"color\": \"red\", \"dy\": 20, \"font\": \"Courier\", \"fontSize\": 12}, \"encoding\": {\"text\": {\"type\": \"quantitative\", \"field\": \"count\"}, \"x\": {\"type\": \"nominal\", \"field\": \"week\"}, \"y\": {\"type\": \"quantitative\", \"axis\": null, \"field\": \"count\"}}}, {\"mark\": {\"type\": \"rule\", \"color\": \"red\", \"strokeDash\": [8, 10]}, \"encoding\": {\"size\": {\"value\": 1.5}, \"y\": {\"type\": \"quantitative\", \"aggregate\": \"mean\", \"field\": \"count\"}}}], \"data\": {\"name\": \"data-e488da58d7d22132ed8e2986c7619341\"}, \"height\": 400, \"width\": 700, \"$schema\": \"https://vega.github.io/schema/vega-lite/v4.0.0.json\", \"datasets\": {\"data-e488da58d7d22132ed8e2986c7619341\": [{\"week\": 1, \"count\": 5}, {\"week\": 2, \"count\": 5}, {\"week\": 3, \"count\": 5}, {\"week\": 4, \"count\": 3}, {\"week\": 5, \"count\": 4}, {\"week\": 6, \"count\": 5}, {\"week\": 7, \"count\": 5}, {\"week\": 8, \"count\": 9}, {\"week\": 9, \"count\": 4}, {\"week\": 10, \"count\": 3}, {\"week\": 11, \"count\": 8}, {\"week\": 12, \"count\": 11}, {\"week\": 13, \"count\": 4}, {\"week\": 14, \"count\": 10}, {\"week\": 15, \"count\": 6}, {\"week\": 16, \"count\": 3}, {\"week\": 17, \"count\": 4}]}}, {\"mode\": \"vega-lite\"});\n",
       "</script>"
      ],
      "text/plain": [
       "alt.LayerChart(...)"
      ]
     },
     "execution_count": 72,
     "metadata": {},
     "output_type": "execute_result"
    }
   ],
   "source": [
    "#plot_4q_5min_reg\n",
    "bar_5min_reg =alt.Chart(df_4q_5min_reg).mark_bar(color=\"#B0B7BC\").encode(\n",
    "  x=alt.X(\"week:N\", \n",
    "          title=\"Semana\",\n",
    "          axis=alt.Axis(ticks=False, labelAngle = 0),  #pone los número de semana sin voltear\n",
    "          ),\n",
    "  y=alt.Y(\"count:Q\", title=\"Número de castigos\")\n",
    ").properties(\n",
    "   width = 700,\n",
    "   height=300\n",
    ")\n",
    "\n",
    "text_5min_reg = alt.Chart(df_4q_5min_reg).mark_text(\n",
    "     \n",
    "    dy=20, \n",
    "    font=\"Courier\",\n",
    "    fontSize=12,\n",
    "    color='red').encode(\n",
    "    x=alt.X('week:N'),\n",
    "    y=alt.Y('count:Q',axis=None),\n",
    "    text=alt.Text('count:Q')\n",
    ")\n",
    "\n",
    "rule = alt.Chart(df_4q_5min_reg).mark_rule(strokeDash=[8,10],color='red').encode(\n",
    "    y= alt.Y('mean(count):Q'),\n",
    "     size=alt.value(1.5),    \n",
    "      \n",
    ")\n",
    "\n",
    "base_5min_reg = alt.layer(bar_5min_reg , text_5min_reg , rule).properties(\n",
    "width = 700,\n",
    "    height=400\n",
    ")\n",
    "base_5min_reg"
   ]
  },
  {
   "cell_type": "code",
   "execution_count": 73,
   "metadata": {},
   "outputs": [],
   "source": [
    "title = alt.Chart(\n",
    "    {\"values\": [{\"text\": \"Castigos de Contarios en los 5 Minutos Finales\"}]}\n",
    ").mark_text(size=20, color=\"#08415C\", font='Courier').encode(\n",
    "    text=\"text:N\"\n",
    ").properties(\n",
    "width = 400,\n",
    "    height=5\n",
    ")\n",
    "\n",
    "subtitle = alt.Chart(\n",
    "    {\"values\": [{\"text\": \"Partidos de Temporada Regular\"}]}\n",
    ").mark_text(size=16, color=\"#08415C\", font='Courier').encode(\n",
    "    text=\"text:N\"\n",
    ").properties(\n",
    "width = 400,\n",
    "    height=10\n",
    ")"
   ]
  },
  {
   "cell_type": "code",
   "execution_count": 74,
   "metadata": {},
   "outputs": [
    {
     "data": {
      "text/html": [
       "\n",
       "<div id=\"altair-viz-29\"></div>\n",
       "<script type=\"text/javascript\">\n",
       "  (function(spec, embedOpt){\n",
       "    const outputDiv = document.getElementById(\"altair-viz-29\");\n",
       "    const paths = {\n",
       "      \"vega\": \"https://cdn.jsdelivr.net/npm//vega@5?noext\",\n",
       "      \"vega-lib\": \"https://cdn.jsdelivr.net/npm//vega-lib?noext\",\n",
       "      \"vega-lite\": \"https://cdn.jsdelivr.net/npm//vega-lite@4.0.0?noext\",\n",
       "      \"vega-embed\": \"https://cdn.jsdelivr.net/npm//vega-embed@6?noext\",\n",
       "    };\n",
       "\n",
       "    function loadScript(lib) {\n",
       "      return new Promise(function(resolve, reject) {\n",
       "        var s = document.createElement('script');\n",
       "        s.src = paths[lib];\n",
       "        s.async = true;\n",
       "        s.onload = () => resolve(paths[lib]);\n",
       "        s.onerror = () => reject(`Error loading script: ${paths[lib]}`);\n",
       "        document.getElementsByTagName(\"head\")[0].appendChild(s);\n",
       "      });\n",
       "    }\n",
       "\n",
       "    function showError(err) {\n",
       "      outputDiv.innerHTML = `<div class=\"error\" style=\"color:red;\">${err}</div>`;\n",
       "      throw err;\n",
       "    }\n",
       "\n",
       "    function displayChart(vegaEmbed) {\n",
       "      vegaEmbed(outputDiv, spec, embedOpt)\n",
       "        .catch(err => showError(`Javascript Error: ${err.message}<br>This usually means there's a typo in your chart specification. See the javascript console for the full traceback.`));\n",
       "    }\n",
       "\n",
       "    if(typeof define === \"function\" && define.amd) {\n",
       "      requirejs.config({paths});\n",
       "      require([\"vega-embed\"], displayChart, err => showError(`Error loading script: ${err.message}`));\n",
       "    } else if (typeof vegaEmbed === \"function\") {\n",
       "      displayChart(vegaEmbed);\n",
       "    } else {\n",
       "      loadScript(\"vega\")\n",
       "        .then(() => loadScript(\"vega-lite\"))\n",
       "        .then(() => loadScript(\"vega-embed\"))\n",
       "        .catch(showError)\n",
       "        .then(() => displayChart(vegaEmbed));\n",
       "    }\n",
       "  })({\"config\": {\"title\": {\"fontSize\": 22, \"font\": [\"Courier\"], \"anchor\": \"middle\", \"color\": \"#08415C\"}, \"axisX\": {\"labelFont\": \"Courier\", \"titleFont\": [\"Courier\"], \"titleFontSize\": 18, \"titleColor\": \"#08415C\", \"grid\": false}, \"axisY\": {\"axis\": null, \"labelFont\": \"Courier\", \"labelFontSize\": 12, \"titleFont\": [\"Courier\"], \"titleColor\": \"#08415C\", \"titleFontSize\": 16, \"grid\": false, \"ticks\": false, \"labels\": false}, \"legend\": {\"labelFont\": \"Courier\", \"labelFontSize\": 12, \"titleFont\": [\"Courier\"], \"titleFontSize\": 12, \"orient\": \"top\", \"title\": null}, \"range\": {\"category\": [\"#08415C\", \"#B0B7BC\"]}, \"view\": {\"stroke\": \"transparent\"}, \"facet\": {\"spacing\": 20}, \"header\": {\"labelColor\": \"#08415C\", \"labelSize\": 10}}, \"vconcat\": [{\"data\": {\"name\": \"data-b6d07433b93dcbeaf36bc119aa197ddc\"}, \"mark\": {\"type\": \"text\", \"color\": \"#08415C\", \"font\": \"Courier\", \"size\": 16}, \"encoding\": {\"text\": {\"type\": \"nominal\", \"field\": \"text\"}}, \"height\": 10, \"width\": 400}, {\"layer\": [{\"mark\": {\"type\": \"bar\", \"color\": \"#B0B7BC\"}, \"encoding\": {\"x\": {\"type\": \"nominal\", \"axis\": {\"labelAngle\": 0, \"ticks\": false}, \"field\": \"week\", \"title\": \"Semana\"}, \"y\": {\"type\": \"quantitative\", \"field\": \"count\", \"title\": \"N\\u00famero de castigos\"}}, \"height\": 300, \"width\": 700}, {\"mark\": {\"type\": \"text\", \"color\": \"red\", \"dy\": 20, \"font\": \"Courier\", \"fontSize\": 12}, \"encoding\": {\"text\": {\"type\": \"quantitative\", \"field\": \"count\"}, \"x\": {\"type\": \"nominal\", \"field\": \"week\"}, \"y\": {\"type\": \"quantitative\", \"axis\": null, \"field\": \"count\"}}}, {\"mark\": {\"type\": \"rule\", \"color\": \"red\", \"strokeDash\": [8, 10]}, \"encoding\": {\"size\": {\"value\": 1.5}, \"y\": {\"type\": \"quantitative\", \"aggregate\": \"mean\", \"field\": \"count\"}}}], \"data\": {\"name\": \"data-e488da58d7d22132ed8e2986c7619341\"}, \"height\": 400, \"width\": 700}, {\"data\": {\"name\": \"data-f247de6bb35cba63cff5435e326416d6\"}, \"mark\": {\"type\": \"text\", \"color\": \"#08415C\", \"dx\": 340, \"dy\": 5, \"font\": \"Courier\", \"size\": 10, \"text\": \"@nerudista\"}, \"height\": 20, \"width\": 700}], \"title\": \"Castigos de Contrarios en los 5 min Finales - Altair\", \"$schema\": \"https://vega.github.io/schema/vega-lite/v4.0.0.json\", \"datasets\": {\"data-b6d07433b93dcbeaf36bc119aa197ddc\": [{\"text\": \"Partidos de Temporada Regular\"}], \"data-e488da58d7d22132ed8e2986c7619341\": [{\"week\": 1, \"count\": 5}, {\"week\": 2, \"count\": 5}, {\"week\": 3, \"count\": 5}, {\"week\": 4, \"count\": 3}, {\"week\": 5, \"count\": 4}, {\"week\": 6, \"count\": 5}, {\"week\": 7, \"count\": 5}, {\"week\": 8, \"count\": 9}, {\"week\": 9, \"count\": 4}, {\"week\": 10, \"count\": 3}, {\"week\": 11, \"count\": 8}, {\"week\": 12, \"count\": 11}, {\"week\": 13, \"count\": 4}, {\"week\": 14, \"count\": 10}, {\"week\": 15, \"count\": 6}, {\"week\": 16, \"count\": 3}, {\"week\": 17, \"count\": 4}], \"data-f247de6bb35cba63cff5435e326416d6\": [{\"game_winner_cat\": \"NE\", \"team_penalty_cat\": \"NE\", \"penalty_side\": \"Castigo Defensivo\", \"mean_yds\": 28.7}, {\"game_winner_cat\": \"NE\", \"team_penalty_cat\": \"NE\", \"penalty_side\": \"Castigo Ofensivo\", \"mean_yds\": 28.4}, {\"game_winner_cat\": \"NE\", \"team_penalty_cat\": \"Oponente\", \"penalty_side\": \"Castigo Defensivo\", \"mean_yds\": 34.5}, {\"game_winner_cat\": \"NE\", \"team_penalty_cat\": \"Oponente\", \"penalty_side\": \"Castigo Ofensivo\", \"mean_yds\": 26.3}, {\"game_winner_cat\": \"Oponente\", \"team_penalty_cat\": \"NE\", \"penalty_side\": \"Castigo Defensivo\", \"mean_yds\": 31.1}, {\"game_winner_cat\": \"Oponente\", \"team_penalty_cat\": \"NE\", \"penalty_side\": \"Castigo Ofensivo\", \"mean_yds\": 27.5}, {\"game_winner_cat\": \"Oponente\", \"team_penalty_cat\": \"Oponente\", \"penalty_side\": \"Castigo Defensivo\", \"mean_yds\": 36.1}, {\"game_winner_cat\": \"Oponente\", \"team_penalty_cat\": \"Oponente\", \"penalty_side\": \"Castigo Ofensivo\", \"mean_yds\": 22.7}]}}, {\"mode\": \"vega-lite\"});\n",
       "</script>"
      ],
      "text/plain": [
       "alt.VConcatChart(...)"
      ]
     },
     "execution_count": 74,
     "metadata": {},
     "output_type": "execute_result"
    }
   ],
   "source": [
    "final_5min_reg= alt.vconcat(#title, \n",
    "             subtitle,\n",
    "             base_5min_reg,\n",
    "             caption_chart).properties(\n",
    "   title=\"Castigos de Contrarios en los 5 min Finales - Altair\"  )\n",
    "\n",
    "final_5min_reg"
   ]
  },
  {
   "cell_type": "code",
   "execution_count": 75,
   "metadata": {},
   "outputs": [],
   "source": [
    "#Guardar imagen\n",
    "final_5min_reg.save('./graficas/Altair/AltairCastigoPorSemanasReg.png', scale_factor=1.0)"
   ]
  },
  {
   "cell_type": "markdown",
   "metadata": {},
   "source": [
    "########## CASTIGOS POST-TEMPORADA "
   ]
  },
  {
   "cell_type": "code",
   "execution_count": 76,
   "metadata": {},
   "outputs": [],
   "source": [
    "def corregir_semana_sb(df):\n",
    "    if df.game_type == 'POST':\n",
    "        if df.week == 1:\n",
    "            return \"Wildcard\"\n",
    "        elif df.week == 2:\n",
    "            return \"Ronda Divisional\"\n",
    "        elif df.week == 3:\n",
    "            return \"Ronda Campeonato\"\n",
    "        else:\n",
    "            return \"Super Tazón\"\n",
    "\n",
    "data[\"myweek\"]=data.apply(corregir_semana_sb,axis=1)"
   ]
  },
  {
   "cell_type": "code",
   "execution_count": 77,
   "metadata": {},
   "outputs": [
    {
     "data": {
      "text/html": [
       "<div>\n",
       "<style scoped>\n",
       "    .dataframe tbody tr th:only-of-type {\n",
       "        vertical-align: middle;\n",
       "    }\n",
       "\n",
       "    .dataframe tbody tr th {\n",
       "        vertical-align: top;\n",
       "    }\n",
       "\n",
       "    .dataframe thead th {\n",
       "        text-align: right;\n",
       "    }\n",
       "</style>\n",
       "<table border=\"1\" class=\"dataframe\">\n",
       "  <thead>\n",
       "    <tr style=\"text-align: right;\">\n",
       "      <th></th>\n",
       "      <th>myweek</th>\n",
       "      <th>penalty_side</th>\n",
       "      <th>count_pen</th>\n",
       "    </tr>\n",
       "  </thead>\n",
       "  <tbody>\n",
       "    <tr>\n",
       "      <th>0</th>\n",
       "      <td>Ronda Campeonato</td>\n",
       "      <td>Castigo Defensivo</td>\n",
       "      <td>1</td>\n",
       "    </tr>\n",
       "    <tr>\n",
       "      <th>1</th>\n",
       "      <td>Ronda Campeonato</td>\n",
       "      <td>Castigo Ofensivo</td>\n",
       "      <td>1</td>\n",
       "    </tr>\n",
       "    <tr>\n",
       "      <th>2</th>\n",
       "      <td>Ronda Divisional</td>\n",
       "      <td>Castigo Defensivo</td>\n",
       "      <td>2</td>\n",
       "    </tr>\n",
       "    <tr>\n",
       "      <th>3</th>\n",
       "      <td>Ronda Divisional</td>\n",
       "      <td>Castigo Ofensivo</td>\n",
       "      <td>3</td>\n",
       "    </tr>\n",
       "    <tr>\n",
       "      <th>4</th>\n",
       "      <td>Super Tazón</td>\n",
       "      <td>Castigo Defensivo</td>\n",
       "      <td>3</td>\n",
       "    </tr>\n",
       "    <tr>\n",
       "      <th>5</th>\n",
       "      <td>Super Tazón</td>\n",
       "      <td>Castigo Ofensivo</td>\n",
       "      <td>1</td>\n",
       "    </tr>\n",
       "    <tr>\n",
       "      <th>6</th>\n",
       "      <td>Wildcard</td>\n",
       "      <td>Castigo Ofensivo</td>\n",
       "      <td>1</td>\n",
       "    </tr>\n",
       "  </tbody>\n",
       "</table>\n",
       "</div>"
      ],
      "text/plain": [
       "             myweek       penalty_side  count_pen\n",
       "0  Ronda Campeonato  Castigo Defensivo          1\n",
       "1  Ronda Campeonato   Castigo Ofensivo          1\n",
       "2  Ronda Divisional  Castigo Defensivo          2\n",
       "3  Ronda Divisional   Castigo Ofensivo          3\n",
       "4       Super Tazón  Castigo Defensivo          3\n",
       "5       Super Tazón   Castigo Ofensivo          1\n",
       "6          Wildcard   Castigo Ofensivo          1"
      ]
     },
     "execution_count": 77,
     "metadata": {},
     "output_type": "execute_result"
    }
   ],
   "source": [
    "df_4q_5min_post =data[(data.mytime-5 < 0)  & \n",
    "     (data.quarter == 'Q4') &\n",
    "     (data.game_type=='POST') &\n",
    "     (data.team_penalty_cat != 'NE')].groupby([\"myweek\",\"penalty_side\"])[\"myweek\"].count().reset_index(name=\"count_pen\")\n",
    "\n",
    "df_4q_5min_post"
   ]
  },
  {
   "cell_type": "code",
   "execution_count": 78,
   "metadata": {},
   "outputs": [
    {
     "data": {
      "text/html": [
       "\n",
       "<div id=\"altair-viz-30\"></div>\n",
       "<script type=\"text/javascript\">\n",
       "  (function(spec, embedOpt){\n",
       "    const outputDiv = document.getElementById(\"altair-viz-30\");\n",
       "    const paths = {\n",
       "      \"vega\": \"https://cdn.jsdelivr.net/npm//vega@5?noext\",\n",
       "      \"vega-lib\": \"https://cdn.jsdelivr.net/npm//vega-lib?noext\",\n",
       "      \"vega-lite\": \"https://cdn.jsdelivr.net/npm//vega-lite@4.0.0?noext\",\n",
       "      \"vega-embed\": \"https://cdn.jsdelivr.net/npm//vega-embed@6?noext\",\n",
       "    };\n",
       "\n",
       "    function loadScript(lib) {\n",
       "      return new Promise(function(resolve, reject) {\n",
       "        var s = document.createElement('script');\n",
       "        s.src = paths[lib];\n",
       "        s.async = true;\n",
       "        s.onload = () => resolve(paths[lib]);\n",
       "        s.onerror = () => reject(`Error loading script: ${paths[lib]}`);\n",
       "        document.getElementsByTagName(\"head\")[0].appendChild(s);\n",
       "      });\n",
       "    }\n",
       "\n",
       "    function showError(err) {\n",
       "      outputDiv.innerHTML = `<div class=\"error\" style=\"color:red;\">${err}</div>`;\n",
       "      throw err;\n",
       "    }\n",
       "\n",
       "    function displayChart(vegaEmbed) {\n",
       "      vegaEmbed(outputDiv, spec, embedOpt)\n",
       "        .catch(err => showError(`Javascript Error: ${err.message}<br>This usually means there's a typo in your chart specification. See the javascript console for the full traceback.`));\n",
       "    }\n",
       "\n",
       "    if(typeof define === \"function\" && define.amd) {\n",
       "      requirejs.config({paths});\n",
       "      require([\"vega-embed\"], displayChart, err => showError(`Error loading script: ${err.message}`));\n",
       "    } else if (typeof vegaEmbed === \"function\") {\n",
       "      displayChart(vegaEmbed);\n",
       "    } else {\n",
       "      loadScript(\"vega\")\n",
       "        .then(() => loadScript(\"vega-lite\"))\n",
       "        .then(() => loadScript(\"vega-embed\"))\n",
       "        .catch(showError)\n",
       "        .then(() => displayChart(vegaEmbed));\n",
       "    }\n",
       "  })({\"config\": {\"title\": {\"fontSize\": 22, \"font\": [\"Courier\"], \"anchor\": \"middle\", \"color\": \"#08415C\"}, \"axisX\": {\"labelFont\": \"Courier\", \"titleFont\": [\"Courier\"], \"titleFontSize\": 18, \"titleColor\": \"#08415C\", \"grid\": false}, \"axisY\": {\"axis\": null, \"labelFont\": \"Courier\", \"labelFontSize\": 12, \"titleFont\": [\"Courier\"], \"titleColor\": \"#08415C\", \"titleFontSize\": 16, \"grid\": false, \"ticks\": false, \"labels\": false}, \"legend\": {\"labelFont\": \"Courier\", \"labelFontSize\": 12, \"titleFont\": [\"Courier\"], \"titleFontSize\": 12, \"orient\": \"top\", \"title\": null}, \"range\": {\"category\": [\"#08415C\", \"#B0B7BC\"]}, \"view\": {\"stroke\": \"transparent\"}, \"facet\": {\"spacing\": 20}, \"header\": {\"labelColor\": \"#08415C\", \"labelSize\": 10}}, \"layer\": [{\"mark\": \"bar\", \"encoding\": {\"color\": {\"type\": \"nominal\", \"field\": \"penalty_side\", \"legend\": {\"columnPadding\": 30, \"direction\": \"horizontal\", \"legendX\": 250, \"legendY\": 0, \"orient\": \"none\", \"padding\": -25}}, \"x\": {\"type\": \"nominal\", \"axis\": {\"labelAngle\": 0, \"ticks\": false}, \"field\": \"myweek\", \"sort\": [\"Wildcard\", \"Ronda Divisional\", \"Ronda Campeonato\", \"Super Taz\\u00f3n\"], \"title\": \"Semana\"}, \"y\": {\"type\": \"quantitative\", \"axis\": null, \"field\": \"count_pen\", \"stack\": \"zero\"}}, \"height\": 300, \"width\": 700}, {\"mark\": {\"type\": \"text\", \"color\": \"white\", \"dy\": 30, \"font\": \"Courier\", \"fontSize\": 15}, \"encoding\": {\"detail\": {\"type\": \"nominal\", \"field\": \"penalty_side\"}, \"text\": {\"type\": \"quantitative\", \"field\": \"count_pen\"}, \"x\": {\"type\": \"nominal\", \"axis\": null, \"field\": \"myweek\", \"sort\": [\"Wildcard\", \"Ronda Divisional\", \"Ronda Campeonato\", \"Super Taz\\u00f3n\"]}, \"y\": {\"type\": \"quantitative\", \"axis\": null, \"field\": \"count_pen\", \"stack\": \"zero\"}}, \"height\": 300, \"width\": 700}], \"data\": {\"name\": \"data-07d8aa0fdcf0648785ba0f3c91349223\"}, \"$schema\": \"https://vega.github.io/schema/vega-lite/v4.0.0.json\", \"datasets\": {\"data-07d8aa0fdcf0648785ba0f3c91349223\": [{\"myweek\": \"Ronda Campeonato\", \"penalty_side\": \"Castigo Defensivo\", \"count_pen\": 1}, {\"myweek\": \"Ronda Campeonato\", \"penalty_side\": \"Castigo Ofensivo\", \"count_pen\": 1}, {\"myweek\": \"Ronda Divisional\", \"penalty_side\": \"Castigo Defensivo\", \"count_pen\": 2}, {\"myweek\": \"Ronda Divisional\", \"penalty_side\": \"Castigo Ofensivo\", \"count_pen\": 3}, {\"myweek\": \"Super Taz\\u00f3n\", \"penalty_side\": \"Castigo Defensivo\", \"count_pen\": 3}, {\"myweek\": \"Super Taz\\u00f3n\", \"penalty_side\": \"Castigo Ofensivo\", \"count_pen\": 1}, {\"myweek\": \"Wildcard\", \"penalty_side\": \"Castigo Ofensivo\", \"count_pen\": 1}]}}, {\"mode\": \"vega-lite\"});\n",
       "</script>"
      ],
      "text/plain": [
       "alt.LayerChart(...)"
      ]
     },
     "execution_count": 78,
     "metadata": {},
     "output_type": "execute_result"
    }
   ],
   "source": [
    "\n",
    "bar_5min_post = alt.Chart(df_4q_5min_post).mark_bar().encode(\n",
    "   x =alt.X(\"myweek:N\",\n",
    "             sort=['Wildcard', 'Ronda Divisional', 'Ronda Campeonato','Super Tazón'],\n",
    "             title=\"Semana\",\n",
    "            axis=alt.Axis(labelAngle=0 , ticks=False), \n",
    "           ),\n",
    "    y=alt.Y(\"count_pen:Q\", stack='zero', axis=None),    \n",
    "    color=alt.Color('penalty_side',                  \n",
    "                   legend=alt.Legend(direction=\"horizontal\",\n",
    "                                      orient=\"none\",\n",
    "                                      legendX=250,\n",
    "                                      legendY=0,\n",
    "                                      columnPadding=30,\n",
    "                                      padding=-25,) \n",
    "                   )\n",
    ").properties(\n",
    "width= 700,\n",
    "height=300)\n",
    "\n",
    "text_5min_post = alt.Chart(df_4q_5min_post).mark_text(\n",
    "    font=\"Courier\",\n",
    "    fontSize=15,\n",
    "    dy=30, \n",
    "    color='white'\n",
    ").encode(\n",
    "     x =alt.X(\"myweek:N\",\n",
    "              sort=['Wildcard', 'Ronda Divisional', 'Ronda Campeonato','Super Tazón'],\n",
    "              axis=None),\n",
    "     y=alt.Y(\"count_pen:Q\", stack='zero',axis=None),    \n",
    "     detail='penalty_side:N',\n",
    "     text=alt.Text('count_pen:Q' )\n",
    ").properties(\n",
    "width= 700,\n",
    "height=300)\n",
    "\n",
    "\n",
    "base_5min_post= alt.layer( bar_5min_post,text_5min_post )\n",
    "base_5min_post"
   ]
  },
  {
   "cell_type": "code",
   "execution_count": 79,
   "metadata": {},
   "outputs": [
    {
     "data": {
      "text/html": [
       "\n",
       "<div id=\"altair-viz-31\"></div>\n",
       "<script type=\"text/javascript\">\n",
       "  (function(spec, embedOpt){\n",
       "    const outputDiv = document.getElementById(\"altair-viz-31\");\n",
       "    const paths = {\n",
       "      \"vega\": \"https://cdn.jsdelivr.net/npm//vega@5?noext\",\n",
       "      \"vega-lib\": \"https://cdn.jsdelivr.net/npm//vega-lib?noext\",\n",
       "      \"vega-lite\": \"https://cdn.jsdelivr.net/npm//vega-lite@4.0.0?noext\",\n",
       "      \"vega-embed\": \"https://cdn.jsdelivr.net/npm//vega-embed@6?noext\",\n",
       "    };\n",
       "\n",
       "    function loadScript(lib) {\n",
       "      return new Promise(function(resolve, reject) {\n",
       "        var s = document.createElement('script');\n",
       "        s.src = paths[lib];\n",
       "        s.async = true;\n",
       "        s.onload = () => resolve(paths[lib]);\n",
       "        s.onerror = () => reject(`Error loading script: ${paths[lib]}`);\n",
       "        document.getElementsByTagName(\"head\")[0].appendChild(s);\n",
       "      });\n",
       "    }\n",
       "\n",
       "    function showError(err) {\n",
       "      outputDiv.innerHTML = `<div class=\"error\" style=\"color:red;\">${err}</div>`;\n",
       "      throw err;\n",
       "    }\n",
       "\n",
       "    function displayChart(vegaEmbed) {\n",
       "      vegaEmbed(outputDiv, spec, embedOpt)\n",
       "        .catch(err => showError(`Javascript Error: ${err.message}<br>This usually means there's a typo in your chart specification. See the javascript console for the full traceback.`));\n",
       "    }\n",
       "\n",
       "    if(typeof define === \"function\" && define.amd) {\n",
       "      requirejs.config({paths});\n",
       "      require([\"vega-embed\"], displayChart, err => showError(`Error loading script: ${err.message}`));\n",
       "    } else if (typeof vegaEmbed === \"function\") {\n",
       "      displayChart(vegaEmbed);\n",
       "    } else {\n",
       "      loadScript(\"vega\")\n",
       "        .then(() => loadScript(\"vega-lite\"))\n",
       "        .then(() => loadScript(\"vega-embed\"))\n",
       "        .catch(showError)\n",
       "        .then(() => displayChart(vegaEmbed));\n",
       "    }\n",
       "  })({\"config\": {\"title\": {\"fontSize\": 22, \"font\": [\"Courier\"], \"anchor\": \"middle\", \"color\": \"#08415C\"}, \"axisX\": {\"labelFont\": \"Courier\", \"titleFont\": [\"Courier\"], \"titleFontSize\": 18, \"titleColor\": \"#08415C\", \"grid\": false}, \"axisY\": {\"axis\": null, \"labelFont\": \"Courier\", \"labelFontSize\": 12, \"titleFont\": [\"Courier\"], \"titleColor\": \"#08415C\", \"titleFontSize\": 16, \"grid\": false, \"ticks\": false, \"labels\": false}, \"legend\": {\"labelFont\": \"Courier\", \"labelFontSize\": 12, \"titleFont\": [\"Courier\"], \"titleFontSize\": 12, \"orient\": \"top\", \"title\": null}, \"range\": {\"category\": [\"#08415C\", \"#B0B7BC\"]}, \"view\": {\"stroke\": \"transparent\"}, \"facet\": {\"spacing\": 20}, \"header\": {\"labelColor\": \"#08415C\", \"labelSize\": 10}}, \"data\": {\"name\": \"data-79a64d4c159ced1c1111d4de5afddc4f\"}, \"mark\": {\"type\": \"text\", \"color\": \"#08415C\", \"dx\": -165, \"font\": \"Courier\", \"size\": 16}, \"encoding\": {\"text\": {\"type\": \"nominal\", \"field\": \"text\"}}, \"height\": 0, \"width\": 700, \"$schema\": \"https://vega.github.io/schema/vega-lite/v4.0.0.json\", \"datasets\": {\"data-79a64d4c159ced1c1111d4de5afddc4f\": [{\"text\": \"Partidos de Postemporada\"}]}}, {\"mode\": \"vega-lite\"});\n",
       "</script>"
      ],
      "text/plain": [
       "alt.Chart(...)"
      ]
     },
     "execution_count": 79,
     "metadata": {},
     "output_type": "execute_result"
    }
   ],
   "source": [
    "subtitle = alt.Chart(\n",
    "    {\"values\": [{\"text\": \"Partidos de Postemporada\"}]}\n",
    ").mark_text(dx=-165 ,size=16, color=\"#08415C\", font='Courier').encode(\n",
    "    text=\"text:N\"\n",
    ").properties(\n",
    "   width = 700,\n",
    "    height=0\n",
    ")\n",
    "\n",
    "subtitle"
   ]
  },
  {
   "cell_type": "code",
   "execution_count": 80,
   "metadata": {},
   "outputs": [
    {
     "data": {
      "text/html": [
       "\n",
       "<div id=\"altair-viz-32\"></div>\n",
       "<script type=\"text/javascript\">\n",
       "  (function(spec, embedOpt){\n",
       "    const outputDiv = document.getElementById(\"altair-viz-32\");\n",
       "    const paths = {\n",
       "      \"vega\": \"https://cdn.jsdelivr.net/npm//vega@5?noext\",\n",
       "      \"vega-lib\": \"https://cdn.jsdelivr.net/npm//vega-lib?noext\",\n",
       "      \"vega-lite\": \"https://cdn.jsdelivr.net/npm//vega-lite@4.0.0?noext\",\n",
       "      \"vega-embed\": \"https://cdn.jsdelivr.net/npm//vega-embed@6?noext\",\n",
       "    };\n",
       "\n",
       "    function loadScript(lib) {\n",
       "      return new Promise(function(resolve, reject) {\n",
       "        var s = document.createElement('script');\n",
       "        s.src = paths[lib];\n",
       "        s.async = true;\n",
       "        s.onload = () => resolve(paths[lib]);\n",
       "        s.onerror = () => reject(`Error loading script: ${paths[lib]}`);\n",
       "        document.getElementsByTagName(\"head\")[0].appendChild(s);\n",
       "      });\n",
       "    }\n",
       "\n",
       "    function showError(err) {\n",
       "      outputDiv.innerHTML = `<div class=\"error\" style=\"color:red;\">${err}</div>`;\n",
       "      throw err;\n",
       "    }\n",
       "\n",
       "    function displayChart(vegaEmbed) {\n",
       "      vegaEmbed(outputDiv, spec, embedOpt)\n",
       "        .catch(err => showError(`Javascript Error: ${err.message}<br>This usually means there's a typo in your chart specification. See the javascript console for the full traceback.`));\n",
       "    }\n",
       "\n",
       "    if(typeof define === \"function\" && define.amd) {\n",
       "      requirejs.config({paths});\n",
       "      require([\"vega-embed\"], displayChart, err => showError(`Error loading script: ${err.message}`));\n",
       "    } else if (typeof vegaEmbed === \"function\") {\n",
       "      displayChart(vegaEmbed);\n",
       "    } else {\n",
       "      loadScript(\"vega\")\n",
       "        .then(() => loadScript(\"vega-lite\"))\n",
       "        .then(() => loadScript(\"vega-embed\"))\n",
       "        .catch(showError)\n",
       "        .then(() => displayChart(vegaEmbed));\n",
       "    }\n",
       "  })({\"config\": {\"title\": {\"fontSize\": 22, \"font\": [\"Courier\"], \"anchor\": \"middle\", \"color\": \"#08415C\"}, \"axisX\": {\"labelFont\": \"Courier\", \"titleFont\": [\"Courier\"], \"titleFontSize\": 18, \"titleColor\": \"#08415C\", \"grid\": false}, \"axisY\": {\"axis\": null, \"labelFont\": \"Courier\", \"labelFontSize\": 12, \"titleFont\": [\"Courier\"], \"titleColor\": \"#08415C\", \"titleFontSize\": 16, \"grid\": false, \"ticks\": false, \"labels\": false}, \"legend\": {\"labelFont\": \"Courier\", \"labelFontSize\": 12, \"titleFont\": [\"Courier\"], \"titleFontSize\": 12, \"orient\": \"top\", \"title\": null}, \"range\": {\"category\": [\"#08415C\", \"#B0B7BC\"]}, \"view\": {\"stroke\": \"transparent\"}, \"facet\": {\"spacing\": 20}, \"header\": {\"labelColor\": \"#08415C\", \"labelSize\": 10}}, \"vconcat\": [{\"data\": {\"name\": \"data-79a64d4c159ced1c1111d4de5afddc4f\"}, \"mark\": {\"type\": \"text\", \"color\": \"#08415C\", \"dx\": -165, \"font\": \"Courier\", \"size\": 16}, \"encoding\": {\"text\": {\"type\": \"nominal\", \"field\": \"text\"}}, \"height\": 0, \"width\": 700}, {\"layer\": [{\"mark\": \"bar\", \"encoding\": {\"color\": {\"type\": \"nominal\", \"field\": \"penalty_side\", \"legend\": {\"columnPadding\": 30, \"direction\": \"horizontal\", \"legendX\": 250, \"legendY\": 0, \"orient\": \"none\", \"padding\": -25}}, \"x\": {\"type\": \"nominal\", \"axis\": {\"labelAngle\": 0, \"ticks\": false}, \"field\": \"myweek\", \"sort\": [\"Wildcard\", \"Ronda Divisional\", \"Ronda Campeonato\", \"Super Taz\\u00f3n\"], \"title\": \"Semana\"}, \"y\": {\"type\": \"quantitative\", \"axis\": null, \"field\": \"count_pen\", \"stack\": \"zero\"}}, \"height\": 300, \"width\": 700}, {\"mark\": {\"type\": \"text\", \"color\": \"white\", \"dy\": 30, \"font\": \"Courier\", \"fontSize\": 15}, \"encoding\": {\"detail\": {\"type\": \"nominal\", \"field\": \"penalty_side\"}, \"text\": {\"type\": \"quantitative\", \"field\": \"count_pen\"}, \"x\": {\"type\": \"nominal\", \"axis\": null, \"field\": \"myweek\", \"sort\": [\"Wildcard\", \"Ronda Divisional\", \"Ronda Campeonato\", \"Super Taz\\u00f3n\"]}, \"y\": {\"type\": \"quantitative\", \"axis\": null, \"field\": \"count_pen\", \"stack\": \"zero\"}}, \"height\": 300, \"width\": 700}], \"data\": {\"name\": \"data-07d8aa0fdcf0648785ba0f3c91349223\"}}, {\"data\": {\"name\": \"data-f247de6bb35cba63cff5435e326416d6\"}, \"mark\": {\"type\": \"text\", \"color\": \"#08415C\", \"dx\": 340, \"dy\": 5, \"font\": \"Courier\", \"size\": 10, \"text\": \"@nerudista\"}, \"height\": 20, \"width\": 700}], \"title\": \"Castigos de Contrarios en los 5 min Finales - Altair\", \"$schema\": \"https://vega.github.io/schema/vega-lite/v4.0.0.json\", \"datasets\": {\"data-79a64d4c159ced1c1111d4de5afddc4f\": [{\"text\": \"Partidos de Postemporada\"}], \"data-07d8aa0fdcf0648785ba0f3c91349223\": [{\"myweek\": \"Ronda Campeonato\", \"penalty_side\": \"Castigo Defensivo\", \"count_pen\": 1}, {\"myweek\": \"Ronda Campeonato\", \"penalty_side\": \"Castigo Ofensivo\", \"count_pen\": 1}, {\"myweek\": \"Ronda Divisional\", \"penalty_side\": \"Castigo Defensivo\", \"count_pen\": 2}, {\"myweek\": \"Ronda Divisional\", \"penalty_side\": \"Castigo Ofensivo\", \"count_pen\": 3}, {\"myweek\": \"Super Taz\\u00f3n\", \"penalty_side\": \"Castigo Defensivo\", \"count_pen\": 3}, {\"myweek\": \"Super Taz\\u00f3n\", \"penalty_side\": \"Castigo Ofensivo\", \"count_pen\": 1}, {\"myweek\": \"Wildcard\", \"penalty_side\": \"Castigo Ofensivo\", \"count_pen\": 1}], \"data-f247de6bb35cba63cff5435e326416d6\": [{\"game_winner_cat\": \"NE\", \"team_penalty_cat\": \"NE\", \"penalty_side\": \"Castigo Defensivo\", \"mean_yds\": 28.7}, {\"game_winner_cat\": \"NE\", \"team_penalty_cat\": \"NE\", \"penalty_side\": \"Castigo Ofensivo\", \"mean_yds\": 28.4}, {\"game_winner_cat\": \"NE\", \"team_penalty_cat\": \"Oponente\", \"penalty_side\": \"Castigo Defensivo\", \"mean_yds\": 34.5}, {\"game_winner_cat\": \"NE\", \"team_penalty_cat\": \"Oponente\", \"penalty_side\": \"Castigo Ofensivo\", \"mean_yds\": 26.3}, {\"game_winner_cat\": \"Oponente\", \"team_penalty_cat\": \"NE\", \"penalty_side\": \"Castigo Defensivo\", \"mean_yds\": 31.1}, {\"game_winner_cat\": \"Oponente\", \"team_penalty_cat\": \"NE\", \"penalty_side\": \"Castigo Ofensivo\", \"mean_yds\": 27.5}, {\"game_winner_cat\": \"Oponente\", \"team_penalty_cat\": \"Oponente\", \"penalty_side\": \"Castigo Defensivo\", \"mean_yds\": 36.1}, {\"game_winner_cat\": \"Oponente\", \"team_penalty_cat\": \"Oponente\", \"penalty_side\": \"Castigo Ofensivo\", \"mean_yds\": 22.7}]}}, {\"mode\": \"vega-lite\"});\n",
       "</script>"
      ],
      "text/plain": [
       "alt.VConcatChart(...)"
      ]
     },
     "execution_count": 80,
     "metadata": {},
     "output_type": "execute_result"
    }
   ],
   "source": [
    "final_5min_post= alt.vconcat( \n",
    "             subtitle,\n",
    "             base_5min_post,\n",
    "             caption_chart).properties(\n",
    "   title=\"Castigos de Contrarios en los 5 min Finales - Altair\"  )\n",
    "\n",
    "#Guardar imagen\n",
    "final_5min_post.save('./graficas/Altair/AltairCastigoPorSemanasPost.png', scale_factor=1.0)\n",
    "\n",
    "final_5min_post"
   ]
  },
  {
   "cell_type": "markdown",
   "metadata": {},
   "source": [
    "########################################\n",
    "  ### VER CASTIGOS EN JUEGOS DE UNA POSESION\n",
    "  ### \n",
    "  ########################################"
   ]
  },
  {
   "cell_type": "code",
   "execution_count": 81,
   "metadata": {},
   "outputs": [
    {
     "data": {
      "text/html": [
       "<div>\n",
       "<style scoped>\n",
       "    .dataframe tbody tr th:only-of-type {\n",
       "        vertical-align: middle;\n",
       "    }\n",
       "\n",
       "    .dataframe tbody tr th {\n",
       "        vertical-align: top;\n",
       "    }\n",
       "\n",
       "    .dataframe thead th {\n",
       "        text-align: right;\n",
       "    }\n",
       "</style>\n",
       "<table border=\"1\" class=\"dataframe\">\n",
       "  <thead>\n",
       "    <tr style=\"text-align: right;\">\n",
       "      <th></th>\n",
       "      <th>game_winner_cat</th>\n",
       "      <th>team_penalty_cat</th>\n",
       "      <th>season</th>\n",
       "      <th>week</th>\n",
       "      <th>quarter</th>\n",
       "      <th>one_posession_game</th>\n",
       "      <th>cnt_pen</th>\n",
       "    </tr>\n",
       "  </thead>\n",
       "  <tbody>\n",
       "    <tr>\n",
       "      <th>0</th>\n",
       "      <td>NE</td>\n",
       "      <td>NE</td>\n",
       "      <td>2009</td>\n",
       "      <td>1</td>\n",
       "      <td>Q1</td>\n",
       "      <td>Juego de una posesión</td>\n",
       "      <td>2</td>\n",
       "    </tr>\n",
       "    <tr>\n",
       "      <th>1</th>\n",
       "      <td>NE</td>\n",
       "      <td>NE</td>\n",
       "      <td>2009</td>\n",
       "      <td>1</td>\n",
       "      <td>Q2</td>\n",
       "      <td>Juego de una posesión</td>\n",
       "      <td>2</td>\n",
       "    </tr>\n",
       "    <tr>\n",
       "      <th>2</th>\n",
       "      <td>NE</td>\n",
       "      <td>NE</td>\n",
       "      <td>2009</td>\n",
       "      <td>1</td>\n",
       "      <td>Q3</td>\n",
       "      <td>Juego de una posesión</td>\n",
       "      <td>1</td>\n",
       "    </tr>\n",
       "    <tr>\n",
       "      <th>3</th>\n",
       "      <td>NE</td>\n",
       "      <td>NE</td>\n",
       "      <td>2009</td>\n",
       "      <td>1</td>\n",
       "      <td>Q4</td>\n",
       "      <td>Juego de una posesión</td>\n",
       "      <td>1</td>\n",
       "    </tr>\n",
       "    <tr>\n",
       "      <th>4</th>\n",
       "      <td>NE</td>\n",
       "      <td>NE</td>\n",
       "      <td>2009</td>\n",
       "      <td>3</td>\n",
       "      <td>Q1</td>\n",
       "      <td>Juego de varias posesiones</td>\n",
       "      <td>1</td>\n",
       "    </tr>\n",
       "    <tr>\n",
       "      <th>5</th>\n",
       "      <td>NE</td>\n",
       "      <td>NE</td>\n",
       "      <td>2009</td>\n",
       "      <td>3</td>\n",
       "      <td>Q2</td>\n",
       "      <td>Juego de varias posesiones</td>\n",
       "      <td>1</td>\n",
       "    </tr>\n",
       "  </tbody>\n",
       "</table>\n",
       "</div>"
      ],
      "text/plain": [
       "  game_winner_cat team_penalty_cat season  week quarter  \\\n",
       "0              NE               NE   2009     1      Q1   \n",
       "1              NE               NE   2009     1      Q2   \n",
       "2              NE               NE   2009     1      Q3   \n",
       "3              NE               NE   2009     1      Q4   \n",
       "4              NE               NE   2009     3      Q1   \n",
       "5              NE               NE   2009     3      Q2   \n",
       "\n",
       "           one_posession_game  cnt_pen  \n",
       "0       Juego de una posesión        2  \n",
       "1       Juego de una posesión        2  \n",
       "2       Juego de una posesión        1  \n",
       "3       Juego de una posesión        1  \n",
       "4  Juego de varias posesiones        1  \n",
       "5  Juego de varias posesiones        1  "
      ]
     },
     "execution_count": 81,
     "metadata": {},
     "output_type": "execute_result"
    }
   ],
   "source": [
    "pre_df_juegos_posesion = data.groupby([\"game_winner_cat\",\"team_penalty_cat\",\"season\",\"week\",\"quarter\",\"one_posession_game\"])[\"game_winner_cat\"].count().reset_index(name=\"cnt_pen\")\n",
    "pre_df_juegos_posesion[:6]"
   ]
  },
  {
   "cell_type": "code",
   "execution_count": 82,
   "metadata": {},
   "outputs": [
    {
     "data": {
      "text/html": [
       "<div>\n",
       "<style scoped>\n",
       "    .dataframe tbody tr th:only-of-type {\n",
       "        vertical-align: middle;\n",
       "    }\n",
       "\n",
       "    .dataframe tbody tr th {\n",
       "        vertical-align: top;\n",
       "    }\n",
       "\n",
       "    .dataframe thead th {\n",
       "        text-align: right;\n",
       "    }\n",
       "</style>\n",
       "<table border=\"1\" class=\"dataframe\">\n",
       "  <thead>\n",
       "    <tr style=\"text-align: right;\">\n",
       "      <th></th>\n",
       "      <th>game_winner_cat</th>\n",
       "      <th>team_penalty_cat</th>\n",
       "      <th>quarter</th>\n",
       "      <th>one_posession_game</th>\n",
       "      <th>mean_pen</th>\n",
       "    </tr>\n",
       "  </thead>\n",
       "  <tbody>\n",
       "    <tr>\n",
       "      <th>0</th>\n",
       "      <td>Cuando Pats ganan</td>\n",
       "      <td>Castigo de NE</td>\n",
       "      <td>Q1</td>\n",
       "      <td>Juego de una posesión</td>\n",
       "      <td>1.56</td>\n",
       "    </tr>\n",
       "    <tr>\n",
       "      <th>1</th>\n",
       "      <td>Cuando Pats ganan</td>\n",
       "      <td>Castigo de NE</td>\n",
       "      <td>Q1</td>\n",
       "      <td>Juego de varias posesiones</td>\n",
       "      <td>1.60</td>\n",
       "    </tr>\n",
       "    <tr>\n",
       "      <th>2</th>\n",
       "      <td>Cuando Pats ganan</td>\n",
       "      <td>Castigo de NE</td>\n",
       "      <td>Q2</td>\n",
       "      <td>Juego de una posesión</td>\n",
       "      <td>2.31</td>\n",
       "    </tr>\n",
       "  </tbody>\n",
       "</table>\n",
       "</div>"
      ],
      "text/plain": [
       "     game_winner_cat team_penalty_cat quarter          one_posession_game  \\\n",
       "0  Cuando Pats ganan    Castigo de NE      Q1       Juego de una posesión   \n",
       "1  Cuando Pats ganan    Castigo de NE      Q1  Juego de varias posesiones   \n",
       "2  Cuando Pats ganan    Castigo de NE      Q2       Juego de una posesión   \n",
       "\n",
       "   mean_pen  \n",
       "0      1.56  \n",
       "1      1.60  \n",
       "2      2.31  "
      ]
     },
     "execution_count": 82,
     "metadata": {},
     "output_type": "execute_result"
    }
   ],
   "source": [
    "df_juegos_posesion= pre_df_juegos_posesion.groupby([\"game_winner_cat\",\"team_penalty_cat\",\"quarter\",\"one_posession_game\"])[\"cnt_pen\"].mean().round(2).reset_index(name=\"mean_pen\")\n",
    "df_juegos_posesion.game_winner_cat=df_juegos_posesion.game_winner_cat.apply(lambda x : 'Cuando Pats ganan' if x==\"NE\" else 'Cuando Pats Pierden' )\n",
    "df_juegos_posesion.team_penalty_cat=df_juegos_posesion.team_penalty_cat.apply(lambda x : 'Castigo de NE' if x==\"NE\" else 'Castigo de Oponente' )\n",
    "df_juegos_posesion[:3]"
   ]
  },
  {
   "cell_type": "code",
   "execution_count": 88,
   "metadata": {},
   "outputs": [],
   "source": [
    "domain = ['Q1', 'Q2', 'Q3','Q4']\n",
    "range_ = [\"#a8bdc6\",\"#8ea8b4\",\"#4b7488\",\"#08415C\"]\n",
    "\n",
    "bar_juegos_1_posesion = alt.Chart(df_juegos_posesion[(df_juegos_posesion.one_posession_game=='Juego de una posesión' ) & \\\n",
    "                              (df_juegos_posesion.quarter !='Q5' )]).mark_bar(\n",
    "    \n",
    ").encode(\n",
    "    x = alt.X(alt.repeat(\"column\"),\n",
    "              type='ordinal',              \n",
    "              axis=None),\n",
    "    y = alt.Y(alt.repeat(\"row\"), type='quantitative', axis=None),\n",
    "    column=\"game_winner_cat\",\n",
    "    row=\"team_penalty_cat\",\n",
    "    color=alt.Color('quarter', scale=alt.Scale(domain=domain, range=range_),\n",
    "                    legend=None),\n",
    ").properties(\n",
    "    width = 300\n",
    ").repeat(\n",
    "     row=['mean_pen'],\n",
    "     column=['quarter'],\n",
    "     title=\"Promedio de Castigos por Quarter - Altair\"\n",
    ").configure_header(\n",
    "    title=None,\n",
    "    labelFont=\"Courier\",\n",
    "    labelFontSize=13,\n",
    "    labelAlign=\"center\",\n",
    "    labelColor=\"#08415C\",\n",
    "\n",
    ")\n",
    "\n",
    "#Guardar imagen\n",
    "bar_juegos_1_posesion.save('./graficas/Altair/AltairJuegosUnaPosesionBar.png', scale_factor=1.0)\n",
    "\n",
    "bar_juegos_1_posesion"
   ]
  },
  {
   "cell_type": "code",
   "execution_count": 89,
   "metadata": {},
   "outputs": [
    {
     "data": {
      "text/html": [
       "\n",
       "<div id=\"altair-viz-35\"></div>\n",
       "<script type=\"text/javascript\">\n",
       "  (function(spec, embedOpt){\n",
       "    const outputDiv = document.getElementById(\"altair-viz-35\");\n",
       "    const paths = {\n",
       "      \"vega\": \"https://cdn.jsdelivr.net/npm//vega@5?noext\",\n",
       "      \"vega-lib\": \"https://cdn.jsdelivr.net/npm//vega-lib?noext\",\n",
       "      \"vega-lite\": \"https://cdn.jsdelivr.net/npm//vega-lite@4.0.0?noext\",\n",
       "      \"vega-embed\": \"https://cdn.jsdelivr.net/npm//vega-embed@6?noext\",\n",
       "    };\n",
       "\n",
       "    function loadScript(lib) {\n",
       "      return new Promise(function(resolve, reject) {\n",
       "        var s = document.createElement('script');\n",
       "        s.src = paths[lib];\n",
       "        s.async = true;\n",
       "        s.onload = () => resolve(paths[lib]);\n",
       "        s.onerror = () => reject(`Error loading script: ${paths[lib]}`);\n",
       "        document.getElementsByTagName(\"head\")[0].appendChild(s);\n",
       "      });\n",
       "    }\n",
       "\n",
       "    function showError(err) {\n",
       "      outputDiv.innerHTML = `<div class=\"error\" style=\"color:red;\">${err}</div>`;\n",
       "      throw err;\n",
       "    }\n",
       "\n",
       "    function displayChart(vegaEmbed) {\n",
       "      vegaEmbed(outputDiv, spec, embedOpt)\n",
       "        .catch(err => showError(`Javascript Error: ${err.message}<br>This usually means there's a typo in your chart specification. See the javascript console for the full traceback.`));\n",
       "    }\n",
       "\n",
       "    if(typeof define === \"function\" && define.amd) {\n",
       "      requirejs.config({paths});\n",
       "      require([\"vega-embed\"], displayChart, err => showError(`Error loading script: ${err.message}`));\n",
       "    } else if (typeof vegaEmbed === \"function\") {\n",
       "      displayChart(vegaEmbed);\n",
       "    } else {\n",
       "      loadScript(\"vega\")\n",
       "        .then(() => loadScript(\"vega-lite\"))\n",
       "        .then(() => loadScript(\"vega-embed\"))\n",
       "        .catch(showError)\n",
       "        .then(() => displayChart(vegaEmbed));\n",
       "    }\n",
       "  })({\"config\": {\"title\": {\"fontSize\": 22, \"font\": [\"Courier\"], \"anchor\": \"middle\", \"color\": \"#08415C\"}, \"axisX\": {\"labelFont\": \"Courier\", \"titleFont\": [\"Courier\"], \"titleFontSize\": 18, \"titleColor\": \"#08415C\", \"grid\": false}, \"axisY\": {\"axis\": null, \"labelFont\": \"Courier\", \"labelFontSize\": 12, \"titleFont\": [\"Courier\"], \"titleColor\": \"#08415C\", \"titleFontSize\": 16, \"grid\": false, \"ticks\": false, \"labels\": false}, \"legend\": {\"labelFont\": \"Courier\", \"labelFontSize\": 12, \"titleFont\": [\"Courier\"], \"titleFontSize\": 12, \"orient\": \"top\", \"title\": null}, \"range\": {\"category\": [\"#08415C\", \"#B0B7BC\"]}, \"view\": {\"stroke\": \"transparent\"}, \"facet\": {\"spacing\": 20}, \"header\": {\"labelColor\": \"#08415C\", \"labelSize\": 10}}, \"repeat\": {\"column\": [\"quarter\"], \"row\": [\"mean_pen\"]}, \"spec\": {\"data\": {\"name\": \"data-478e031335561434bebbcf7913ea6eee\"}, \"mark\": {\"type\": \"text\", \"font\": \"Courier\", \"fontSize\": 12}, \"encoding\": {\"column\": {\"type\": \"nominal\", \"field\": \"game_winner_cat\"}, \"row\": {\"type\": \"nominal\", \"field\": \"team_penalty_cat\"}, \"text\": {\"type\": \"quantitative\", \"field\": \"mean_pen\"}, \"x\": {\"type\": \"ordinal\", \"axis\": null, \"field\": {\"repeat\": \"column\"}}, \"y\": {\"type\": \"quantitative\", \"axis\": null, \"field\": {\"repeat\": \"row\"}}}, \"width\": 300}, \"$schema\": \"https://vega.github.io/schema/vega-lite/v4.0.0.json\", \"datasets\": {\"data-478e031335561434bebbcf7913ea6eee\": [{\"game_winner_cat\": \"Cuando Pats ganan\", \"team_penalty_cat\": \"Castigo de NE\", \"quarter\": \"Q1\", \"one_posession_game\": \"Juego de una posesi\\u00f3n\", \"mean_pen\": 1.56}, {\"game_winner_cat\": \"Cuando Pats ganan\", \"team_penalty_cat\": \"Castigo de NE\", \"quarter\": \"Q2\", \"one_posession_game\": \"Juego de una posesi\\u00f3n\", \"mean_pen\": 2.31}, {\"game_winner_cat\": \"Cuando Pats ganan\", \"team_penalty_cat\": \"Castigo de NE\", \"quarter\": \"Q3\", \"one_posession_game\": \"Juego de una posesi\\u00f3n\", \"mean_pen\": 1.94}, {\"game_winner_cat\": \"Cuando Pats ganan\", \"team_penalty_cat\": \"Castigo de NE\", \"quarter\": \"Q4\", \"one_posession_game\": \"Juego de una posesi\\u00f3n\", \"mean_pen\": 2.25}, {\"game_winner_cat\": \"Cuando Pats ganan\", \"team_penalty_cat\": \"Castigo de Oponente\", \"quarter\": \"Q1\", \"one_posession_game\": \"Juego de una posesi\\u00f3n\", \"mean_pen\": 2.06}, {\"game_winner_cat\": \"Cuando Pats ganan\", \"team_penalty_cat\": \"Castigo de Oponente\", \"quarter\": \"Q2\", \"one_posession_game\": \"Juego de una posesi\\u00f3n\", \"mean_pen\": 2.3}, {\"game_winner_cat\": \"Cuando Pats ganan\", \"team_penalty_cat\": \"Castigo de Oponente\", \"quarter\": \"Q3\", \"one_posession_game\": \"Juego de una posesi\\u00f3n\", \"mean_pen\": 1.99}, {\"game_winner_cat\": \"Cuando Pats ganan\", \"team_penalty_cat\": \"Castigo de Oponente\", \"quarter\": \"Q4\", \"one_posession_game\": \"Juego de una posesi\\u00f3n\", \"mean_pen\": 1.99}, {\"game_winner_cat\": \"Cuando Pats Pierden\", \"team_penalty_cat\": \"Castigo de NE\", \"quarter\": \"Q1\", \"one_posession_game\": \"Juego de una posesi\\u00f3n\", \"mean_pen\": 1.7}, {\"game_winner_cat\": \"Cuando Pats Pierden\", \"team_penalty_cat\": \"Castigo de NE\", \"quarter\": \"Q2\", \"one_posession_game\": \"Juego de una posesi\\u00f3n\", \"mean_pen\": 1.93}, {\"game_winner_cat\": \"Cuando Pats Pierden\", \"team_penalty_cat\": \"Castigo de NE\", \"quarter\": \"Q3\", \"one_posession_game\": \"Juego de una posesi\\u00f3n\", \"mean_pen\": 2.17}, {\"game_winner_cat\": \"Cuando Pats Pierden\", \"team_penalty_cat\": \"Castigo de NE\", \"quarter\": \"Q4\", \"one_posession_game\": \"Juego de una posesi\\u00f3n\", \"mean_pen\": 2.14}, {\"game_winner_cat\": \"Cuando Pats Pierden\", \"team_penalty_cat\": \"Castigo de Oponente\", \"quarter\": \"Q1\", \"one_posession_game\": \"Juego de una posesi\\u00f3n\", \"mean_pen\": 1.96}, {\"game_winner_cat\": \"Cuando Pats Pierden\", \"team_penalty_cat\": \"Castigo de Oponente\", \"quarter\": \"Q2\", \"one_posession_game\": \"Juego de una posesi\\u00f3n\", \"mean_pen\": 2.37}, {\"game_winner_cat\": \"Cuando Pats Pierden\", \"team_penalty_cat\": \"Castigo de Oponente\", \"quarter\": \"Q3\", \"one_posession_game\": \"Juego de una posesi\\u00f3n\", \"mean_pen\": 2.0}, {\"game_winner_cat\": \"Cuando Pats Pierden\", \"team_penalty_cat\": \"Castigo de Oponente\", \"quarter\": \"Q4\", \"one_posession_game\": \"Juego de una posesi\\u00f3n\", \"mean_pen\": 2.11}]}}, {\"mode\": \"vega-lite\"});\n",
       "</script>"
      ],
      "text/plain": [
       "alt.RepeatChart(...)"
      ]
     },
     "execution_count": 89,
     "metadata": {},
     "output_type": "execute_result"
    }
   ],
   "source": [
    "\n",
    "text_juegos_1_posesion = alt.Chart(df_juegos_posesion[(df_juegos_posesion.one_posession_game=='Juego de una posesión' ) & \\\n",
    "                              (df_juegos_posesion.quarter !='Q5' )]).mark_text(\n",
    "    font=\"Courier\",\n",
    "    fontSize =12,\n",
    "    \n",
    ").encode(\n",
    "    x = alt.X(alt.repeat(\"column\"),\n",
    "              type='ordinal',              \n",
    "              axis=None),\n",
    "    y = alt.Y(alt.repeat(\"row\"), type='quantitative', axis=None),\n",
    "    column=\"game_winner_cat\",\n",
    "    row=\"team_penalty_cat\",\n",
    "    text= alt.Text(\"mean_pen:Q\")\n",
    ").properties(\n",
    "    width = 300\n",
    ").repeat(\n",
    "     row=['mean_pen'],\n",
    "     column=['quarter'],\n",
    ")\n",
    "\n",
    "text_juegos_1_posesion.save('./graficas/Altair/AltairJuegosUnaPosesionText.png', scale_factor=1.0)\n",
    "\n",
    "text_juegos_1_posesion"
   ]
  },
  {
   "cell_type": "code",
   "execution_count": 85,
   "metadata": {},
   "outputs": [
    {
     "ename": "ValueError",
     "evalue": "Objects with \"config\" attribute cannot be used within LayerChart. Consider defining the config attribute in the LayerChart object instead.",
     "output_type": "error",
     "traceback": [
      "\u001b[1;31m---------------------------------------------------------------------------\u001b[0m",
      "\u001b[1;31mValueError\u001b[0m                                Traceback (most recent call last)",
      "\u001b[1;32m<ipython-input-85-1ed53a36659c>\u001b[0m in \u001b[0;36m<module>\u001b[1;34m\u001b[0m\n\u001b[1;32m----> 1\u001b[1;33m \u001b[0mbar_juegos_1_posesion\u001b[0m \u001b[1;33m+\u001b[0m \u001b[0mtext_juegos_1_posesion\u001b[0m\u001b[1;33m\u001b[0m\u001b[1;33m\u001b[0m\u001b[0m\n\u001b[0m",
      "\u001b[1;32m~\\AppData\\Local\\Continuum\\anaconda3\\envs\\pats-penalties\\lib\\site-packages\\altair\\vegalite\\v4\\api.py\u001b[0m in \u001b[0;36m__add__\u001b[1;34m(self, other)\u001b[0m\n\u001b[0;32m    459\u001b[0m         \u001b[1;32mif\u001b[0m \u001b[1;32mnot\u001b[0m \u001b[0misinstance\u001b[0m\u001b[1;33m(\u001b[0m\u001b[0mother\u001b[0m\u001b[1;33m,\u001b[0m \u001b[0mTopLevelMixin\u001b[0m\u001b[1;33m)\u001b[0m\u001b[1;33m:\u001b[0m\u001b[1;33m\u001b[0m\u001b[1;33m\u001b[0m\u001b[0m\n\u001b[0;32m    460\u001b[0m             \u001b[1;32mraise\u001b[0m \u001b[0mValueError\u001b[0m\u001b[1;33m(\u001b[0m\u001b[1;34m\"Only Chart objects can be layered.\"\u001b[0m\u001b[1;33m)\u001b[0m\u001b[1;33m\u001b[0m\u001b[1;33m\u001b[0m\u001b[0m\n\u001b[1;32m--> 461\u001b[1;33m         \u001b[1;32mreturn\u001b[0m \u001b[0mlayer\u001b[0m\u001b[1;33m(\u001b[0m\u001b[0mself\u001b[0m\u001b[1;33m,\u001b[0m \u001b[0mother\u001b[0m\u001b[1;33m)\u001b[0m\u001b[1;33m\u001b[0m\u001b[1;33m\u001b[0m\u001b[0m\n\u001b[0m\u001b[0;32m    462\u001b[0m \u001b[1;33m\u001b[0m\u001b[0m\n\u001b[0;32m    463\u001b[0m     \u001b[1;32mdef\u001b[0m \u001b[0m__and__\u001b[0m\u001b[1;33m(\u001b[0m\u001b[0mself\u001b[0m\u001b[1;33m,\u001b[0m \u001b[0mother\u001b[0m\u001b[1;33m)\u001b[0m\u001b[1;33m:\u001b[0m\u001b[1;33m\u001b[0m\u001b[1;33m\u001b[0m\u001b[0m\n",
      "\u001b[1;32m~\\AppData\\Local\\Continuum\\anaconda3\\envs\\pats-penalties\\lib\\site-packages\\altair\\vegalite\\v4\\api.py\u001b[0m in \u001b[0;36mlayer\u001b[1;34m(*charts, **kwargs)\u001b[0m\n\u001b[0;32m   2052\u001b[0m \u001b[1;32mdef\u001b[0m \u001b[0mlayer\u001b[0m\u001b[1;33m(\u001b[0m\u001b[1;33m*\u001b[0m\u001b[0mcharts\u001b[0m\u001b[1;33m,\u001b[0m \u001b[1;33m**\u001b[0m\u001b[0mkwargs\u001b[0m\u001b[1;33m)\u001b[0m\u001b[1;33m:\u001b[0m\u001b[1;33m\u001b[0m\u001b[1;33m\u001b[0m\u001b[0m\n\u001b[0;32m   2053\u001b[0m     \u001b[1;34m\"\"\"layer multiple charts\"\"\"\u001b[0m\u001b[1;33m\u001b[0m\u001b[1;33m\u001b[0m\u001b[0m\n\u001b[1;32m-> 2054\u001b[1;33m     \u001b[1;32mreturn\u001b[0m \u001b[0mLayerChart\u001b[0m\u001b[1;33m(\u001b[0m\u001b[0mlayer\u001b[0m\u001b[1;33m=\u001b[0m\u001b[0mcharts\u001b[0m\u001b[1;33m,\u001b[0m \u001b[1;33m**\u001b[0m\u001b[0mkwargs\u001b[0m\u001b[1;33m)\u001b[0m\u001b[1;33m\u001b[0m\u001b[1;33m\u001b[0m\u001b[0m\n\u001b[0m\u001b[0;32m   2055\u001b[0m \u001b[1;33m\u001b[0m\u001b[0m\n\u001b[0;32m   2056\u001b[0m \u001b[1;33m\u001b[0m\u001b[0m\n",
      "\u001b[1;32m~\\AppData\\Local\\Continuum\\anaconda3\\envs\\pats-penalties\\lib\\site-packages\\altair\\vegalite\\v4\\api.py\u001b[0m in \u001b[0;36m__init__\u001b[1;34m(self, data, layer, **kwargs)\u001b[0m\n\u001b[0;32m   1992\u001b[0m         \u001b[1;31m# TODO: check for conflicting interaction\u001b[0m\u001b[1;33m\u001b[0m\u001b[1;33m\u001b[0m\u001b[1;33m\u001b[0m\u001b[0m\n\u001b[0;32m   1993\u001b[0m         \u001b[1;32mfor\u001b[0m \u001b[0mspec\u001b[0m \u001b[1;32min\u001b[0m \u001b[0mlayer\u001b[0m\u001b[1;33m:\u001b[0m\u001b[1;33m\u001b[0m\u001b[1;33m\u001b[0m\u001b[0m\n\u001b[1;32m-> 1994\u001b[1;33m             \u001b[0m_check_if_valid_subspec\u001b[0m\u001b[1;33m(\u001b[0m\u001b[0mspec\u001b[0m\u001b[1;33m,\u001b[0m \u001b[1;34m'LayerChart'\u001b[0m\u001b[1;33m)\u001b[0m\u001b[1;33m\u001b[0m\u001b[1;33m\u001b[0m\u001b[0m\n\u001b[0m\u001b[0;32m   1995\u001b[0m             \u001b[0m_check_if_can_be_layered\u001b[0m\u001b[1;33m(\u001b[0m\u001b[0mspec\u001b[0m\u001b[1;33m)\u001b[0m\u001b[1;33m\u001b[0m\u001b[1;33m\u001b[0m\u001b[0m\n\u001b[0;32m   1996\u001b[0m         \u001b[0msuper\u001b[0m\u001b[1;33m(\u001b[0m\u001b[0mLayerChart\u001b[0m\u001b[1;33m,\u001b[0m \u001b[0mself\u001b[0m\u001b[1;33m)\u001b[0m\u001b[1;33m.\u001b[0m\u001b[0m__init__\u001b[0m\u001b[1;33m(\u001b[0m\u001b[0mdata\u001b[0m\u001b[1;33m=\u001b[0m\u001b[0mdata\u001b[0m\u001b[1;33m,\u001b[0m \u001b[0mlayer\u001b[0m\u001b[1;33m=\u001b[0m\u001b[0mlist\u001b[0m\u001b[1;33m(\u001b[0m\u001b[0mlayer\u001b[0m\u001b[1;33m)\u001b[0m\u001b[1;33m,\u001b[0m \u001b[1;33m**\u001b[0m\u001b[0mkwargs\u001b[0m\u001b[1;33m)\u001b[0m\u001b[1;33m\u001b[0m\u001b[1;33m\u001b[0m\u001b[0m\n",
      "\u001b[1;32m~\\AppData\\Local\\Continuum\\anaconda3\\envs\\pats-penalties\\lib\\site-packages\\altair\\vegalite\\v4\\api.py\u001b[0m in \u001b[0;36m_check_if_valid_subspec\u001b[1;34m(spec, classname)\u001b[0m\n\u001b[0;32m   1784\u001b[0m             \u001b[0mval\u001b[0m \u001b[1;33m=\u001b[0m \u001b[0mspec\u001b[0m\u001b[1;33m.\u001b[0m\u001b[0mget\u001b[0m\u001b[1;33m(\u001b[0m\u001b[0mattr\u001b[0m\u001b[1;33m,\u001b[0m \u001b[0mUndefined\u001b[0m\u001b[1;33m)\u001b[0m\u001b[1;33m\u001b[0m\u001b[1;33m\u001b[0m\u001b[0m\n\u001b[0;32m   1785\u001b[0m         \u001b[1;32mif\u001b[0m \u001b[0mval\u001b[0m \u001b[1;32mis\u001b[0m \u001b[1;32mnot\u001b[0m \u001b[0mUndefined\u001b[0m\u001b[1;33m:\u001b[0m\u001b[1;33m\u001b[0m\u001b[1;33m\u001b[0m\u001b[0m\n\u001b[1;32m-> 1786\u001b[1;33m             \u001b[1;32mraise\u001b[0m \u001b[0mValueError\u001b[0m\u001b[1;33m(\u001b[0m\u001b[0merr\u001b[0m\u001b[1;33m.\u001b[0m\u001b[0mformat\u001b[0m\u001b[1;33m(\u001b[0m\u001b[0mattr\u001b[0m\u001b[1;33m,\u001b[0m \u001b[0mclassname\u001b[0m\u001b[1;33m)\u001b[0m\u001b[1;33m)\u001b[0m\u001b[1;33m\u001b[0m\u001b[1;33m\u001b[0m\u001b[0m\n\u001b[0m\u001b[0;32m   1787\u001b[0m \u001b[1;33m\u001b[0m\u001b[0m\n\u001b[0;32m   1788\u001b[0m \u001b[1;33m\u001b[0m\u001b[0m\n",
      "\u001b[1;31mValueError\u001b[0m: Objects with \"config\" attribute cannot be used within LayerChart. Consider defining the config attribute in the LayerChart object instead."
     ]
    }
   ],
   "source": [
    "bar_juegos_1_posesion + text_juegos_1_posesion"
   ]
  },
  {
   "cell_type": "markdown",
   "metadata": {},
   "source": [
    "\n",
    "  ########################################\n",
    "  ### VER CASTIGOS POR TEMPORADA, OFENSIVOS Y DEFENSIVOS\n",
    "  ### HECHOS POR OPONENTES\n",
    "  ########################################"
   ]
  },
  {
   "cell_type": "raw",
   "metadata": {},
   "source": [
    "# R Group by\n",
    "  df_temporada_help <- data %>%\n",
    "    group_by(season,week,team_penalty_cat,penalty_side,game_type) %>%\n",
    "    summarise(cnt_pen_game=n(),\n",
    "              pats_points_game=mean(pats_points),\n",
    "              opp_points_game=mean(opps_points)) %>%\n",
    "    filter (  team_penalty_cat == 'Oponente') %>%\n",
    "    group_by(season,penalty_side) %>%\n",
    "    summarise(sum_pen_season=sum(cnt_pen_game),\n",
    "              opp_points_season=sum(opp_points_game))\n",
    "              "
   ]
  },
  {
   "cell_type": "code",
   "execution_count": 33,
   "metadata": {},
   "outputs": [
    {
     "data": {
      "text/plain": [
       "season               object\n",
       "penalty_side         object\n",
       "team_penalty_cat     object\n",
       "sum_pen_season        int64\n",
       "opp_points_season     int64\n",
       "dtype: object"
      ]
     },
     "execution_count": 33,
     "metadata": {},
     "output_type": "execute_result"
    }
   ],
   "source": [
    "df_temporada_help = data.groupby([\"season\",\"week\",\"team_penalty_cat\",\"penalty_side\",\"game_type\"]).agg(\\\n",
    "                                                                              pats_points_game = ('pats_points','mean'),\n",
    "                                                                              opp_points_game = ('opps_points','mean'),\n",
    "                                                                              cnt_pen_game = ('opps_points','count'),                                                                                                          \n",
    "                                     ).reset_index().groupby([\"season\",\"penalty_side\",\"team_penalty_cat\"]).agg(\\\n",
    "                                                                                                          sum_pen_season = ('cnt_pen_game','sum'),\n",
    "                                                                                                          opp_points_season= ('opp_points_game','sum')\n",
    "                                                                                                  ).reset_index()\n",
    "\n",
    "df_temporada_help[:3]\n",
    "df_temporada_help.dtypes"
   ]
  },
  {
   "cell_type": "code",
   "execution_count": null,
   "metadata": {},
   "outputs": [],
   "source": []
  },
  {
   "cell_type": "code",
   "execution_count": 36,
   "metadata": {},
   "outputs": [
    {
     "data": {
      "text/html": [
       "\n",
       "<div id=\"altair-viz-9\"></div>\n",
       "<script type=\"text/javascript\">\n",
       "  (function(spec, embedOpt){\n",
       "    const outputDiv = document.getElementById(\"altair-viz-9\");\n",
       "    const paths = {\n",
       "      \"vega\": \"https://cdn.jsdelivr.net/npm//vega@5?noext\",\n",
       "      \"vega-lib\": \"https://cdn.jsdelivr.net/npm//vega-lib?noext\",\n",
       "      \"vega-lite\": \"https://cdn.jsdelivr.net/npm//vega-lite@4.0.0?noext\",\n",
       "      \"vega-embed\": \"https://cdn.jsdelivr.net/npm//vega-embed@6?noext\",\n",
       "    };\n",
       "\n",
       "    function loadScript(lib) {\n",
       "      return new Promise(function(resolve, reject) {\n",
       "        var s = document.createElement('script');\n",
       "        s.src = paths[lib];\n",
       "        s.async = true;\n",
       "        s.onload = () => resolve(paths[lib]);\n",
       "        s.onerror = () => reject(`Error loading script: ${paths[lib]}`);\n",
       "        document.getElementsByTagName(\"head\")[0].appendChild(s);\n",
       "      });\n",
       "    }\n",
       "\n",
       "    function showError(err) {\n",
       "      outputDiv.innerHTML = `<div class=\"error\" style=\"color:red;\">${err}</div>`;\n",
       "      throw err;\n",
       "    }\n",
       "\n",
       "    function displayChart(vegaEmbed) {\n",
       "      vegaEmbed(outputDiv, spec, embedOpt)\n",
       "        .catch(err => showError(`Javascript Error: ${err.message}<br>This usually means there's a typo in your chart specification. See the javascript console for the full traceback.`));\n",
       "    }\n",
       "\n",
       "    if(typeof define === \"function\" && define.amd) {\n",
       "      requirejs.config({paths});\n",
       "      require([\"vega-embed\"], displayChart, err => showError(`Error loading script: ${err.message}`));\n",
       "    } else if (typeof vegaEmbed === \"function\") {\n",
       "      displayChart(vegaEmbed);\n",
       "    } else {\n",
       "      loadScript(\"vega\")\n",
       "        .then(() => loadScript(\"vega-lite\"))\n",
       "        .then(() => loadScript(\"vega-embed\"))\n",
       "        .catch(showError)\n",
       "        .then(() => displayChart(vegaEmbed));\n",
       "    }\n",
       "  })({\"config\": {\"title\": {\"fontSize\": 22, \"font\": [\"Courier\"], \"anchor\": \"middle\", \"color\": \"#08415C\"}, \"axisX\": {\"labelFont\": \"Courier\", \"titleFont\": [\"Courier\"], \"titleFontSize\": 18, \"titleColor\": \"#08415C\", \"grid\": false}, \"axisY\": {\"axis\": null, \"labelFont\": \"Courier\", \"labelFontSize\": 12, \"titleFont\": [\"Courier\"], \"titleColor\": \"#08415C\", \"titleFontSize\": 16, \"grid\": false, \"ticks\": false, \"labels\": false}, \"legend\": {\"labelFont\": \"Courier\", \"labelFontSize\": 12, \"titleFont\": [\"Courier\"], \"titleFontSize\": 12, \"orient\": \"top\", \"title\": null}, \"range\": {\"category\": [\"#08415C\", \"#B0B7BC\"]}, \"view\": {\"stroke\": \"transparent\"}, \"facet\": {\"spacing\": 20}, \"header\": {\"labelColor\": \"#08415C\", \"labelSize\": 10}}, \"layer\": [{\"layer\": [{\"mark\": \"circle\", \"encoding\": {\"color\": {\"type\": \"nominal\", \"field\": \"penalty_side\", \"legend\": {\"columnPadding\": 30, \"direction\": \"horizontal\", \"legendX\": 250, \"legendY\": 0, \"orient\": \"none\", \"padding\": -25}, \"scale\": {\"domain\": [\"Castigo Defensivo\", \"Castigo Ofensivo\"], \"range\": [\"#C8032B\", \"#08415C\"]}}, \"size\": {\"type\": \"quantitative\", \"bin\": true, \"field\": \"sum_pen_season\", \"legend\": null}, \"x\": {\"type\": \"quantitative\", \"axis\": {\"labels\": true, \"ticks\": false}, \"field\": \"sum_pen_season\", \"scale\": {\"bins\": [30, 40, 50, 60, 70, 80], \"zero\": false}}, \"y\": {\"type\": \"quantitative\", \"axis\": {\"labels\": true, \"ticks\": false}, \"field\": \"opp_points_season\", \"scale\": {\"bins\": [100, 200, 300, 400], \"domain\": [160, 400], \"zero\": false}, \"title\": \"Puntos\"}}, \"height\": 400, \"transform\": [{\"filter\": \"datum.team_penalty_cat == 'Oponente'\"}], \"width\": 700}, {\"mark\": {\"type\": \"line\", \"size\": 4}, \"encoding\": {\"color\": {\"type\": \"nominal\", \"field\": \"penalty_side\", \"legend\": {\"columnPadding\": 30, \"direction\": \"horizontal\", \"legendX\": 250, \"legendY\": 0, \"orient\": \"none\", \"padding\": -25}, \"scale\": {\"domain\": [\"Castigo Defensivo\", \"Castigo Ofensivo\"], \"range\": [\"#C8032B\", \"#08415C\"]}}, \"size\": {\"type\": \"quantitative\", \"bin\": true, \"field\": \"sum_pen_season\", \"legend\": null}, \"x\": {\"type\": \"quantitative\", \"axis\": {\"labels\": true, \"ticks\": false}, \"field\": \"sum_pen_season\", \"scale\": {\"bins\": [30, 40, 50, 60, 70, 80], \"zero\": false}}, \"y\": {\"type\": \"quantitative\", \"axis\": {\"labels\": true, \"ticks\": false}, \"field\": \"opp_points_season\", \"scale\": {\"bins\": [100, 200, 300, 400], \"domain\": [160, 400], \"zero\": false}, \"title\": \"Puntos\"}}, \"height\": 400, \"title\": \"hola\", \"transform\": [{\"filter\": \"datum.team_penalty_cat == 'Oponente'\"}, {\"on\": \"sum_pen_season\", \"regression\": \"opp_points_season\", \"groupby\": [\"penalty_side\"], \"method\": \"linear\"}], \"width\": 700}], \"data\": {\"name\": \"data-844fe6c1fa95f0f019730b07b57f2e5f\"}}, {\"data\": {\"name\": \"data-98df698f10da424b039ed1e6e2d35d23\"}, \"mark\": {\"type\": \"text\", \"align\": \"left\", \"baseline\": \"middle\", \"dx\": 10, \"font\": \"Courier\", \"size\": 10}, \"encoding\": {\"color\": {\"type\": \"nominal\", \"field\": \"penalty_side\"}, \"text\": {\"type\": \"nominal\", \"field\": \"season\"}, \"x\": {\"type\": \"quantitative\", \"field\": \"sum_pen_season\", \"title\": \"Castigos\"}, \"y\": {\"type\": \"quantitative\", \"field\": \"opp_points_season\", \"title\": \"Puntos\"}}}], \"$schema\": \"https://vega.github.io/schema/vega-lite/v4.0.0.json\", \"datasets\": {\"data-844fe6c1fa95f0f019730b07b57f2e5f\": [{\"season\": \"2009\", \"penalty_side\": \"Castigo Defensivo\", \"team_penalty_cat\": \"NE\", \"sum_pen_season\": 30, \"opp_points_season\": 256}, {\"season\": \"2009\", \"penalty_side\": \"Castigo Defensivo\", \"team_penalty_cat\": \"Oponente\", \"sum_pen_season\": 50, \"opp_points_season\": 276}, {\"season\": \"2009\", \"penalty_side\": \"Castigo Ofensivo\", \"team_penalty_cat\": \"NE\", \"sum_pen_season\": 57, \"opp_points_season\": 280}, {\"season\": \"2009\", \"penalty_side\": \"Castigo Ofensivo\", \"team_penalty_cat\": \"Oponente\", \"sum_pen_season\": 44, \"opp_points_season\": 296}, {\"season\": \"2010\", \"penalty_side\": \"Castigo Defensivo\", \"team_penalty_cat\": \"NE\", \"sum_pen_season\": 33, \"opp_points_season\": 274}, {\"season\": \"2010\", \"penalty_side\": \"Castigo Defensivo\", \"team_penalty_cat\": \"Oponente\", \"sum_pen_season\": 41, \"opp_points_season\": 299}, {\"season\": \"2010\", \"penalty_side\": \"Castigo Ofensivo\", \"team_penalty_cat\": \"NE\", \"sum_pen_season\": 55, \"opp_points_season\": 313}, {\"season\": \"2010\", \"penalty_side\": \"Castigo Ofensivo\", \"team_penalty_cat\": \"Oponente\", \"sum_pen_season\": 46, \"opp_points_season\": 314}, {\"season\": \"2011\", \"penalty_side\": \"Castigo Defensivo\", \"team_penalty_cat\": \"NE\", \"sum_pen_season\": 41, \"opp_points_season\": 390}, {\"season\": \"2011\", \"penalty_side\": \"Castigo Defensivo\", \"team_penalty_cat\": \"Oponente\", \"sum_pen_season\": 64, \"opp_points_season\": 393}, {\"season\": \"2011\", \"penalty_side\": \"Castigo Ofensivo\", \"team_penalty_cat\": \"NE\", \"sum_pen_season\": 54, \"opp_points_season\": 363}, {\"season\": \"2011\", \"penalty_side\": \"Castigo Ofensivo\", \"team_penalty_cat\": \"Oponente\", \"sum_pen_season\": 65, \"opp_points_season\": 393}, {\"season\": \"2012\", \"penalty_side\": \"Castigo Defensivo\", \"team_penalty_cat\": \"NE\", \"sum_pen_season\": 60, \"opp_points_season\": 387}, {\"season\": \"2012\", \"penalty_side\": \"Castigo Defensivo\", \"team_penalty_cat\": \"Oponente\", \"sum_pen_season\": 61, \"opp_points_season\": 363}, {\"season\": \"2012\", \"penalty_side\": \"Castigo Ofensivo\", \"team_penalty_cat\": \"NE\", \"sum_pen_season\": 46, \"opp_points_season\": 346}, {\"season\": \"2012\", \"penalty_side\": \"Castigo Ofensivo\", \"team_penalty_cat\": \"Oponente\", \"sum_pen_season\": 49, \"opp_points_season\": 366}, {\"season\": \"2013\", \"penalty_side\": \"Castigo Defensivo\", \"team_penalty_cat\": \"NE\", \"sum_pen_season\": 36, \"opp_points_season\": 342}, {\"season\": \"2013\", \"penalty_side\": \"Castigo Defensivo\", \"team_penalty_cat\": \"Oponente\", \"sum_pen_season\": 67, \"opp_points_season\": 386}, {\"season\": \"2013\", \"penalty_side\": \"Castigo Ofensivo\", \"team_penalty_cat\": \"NE\", \"sum_pen_season\": 39, \"opp_points_season\": 318}, {\"season\": \"2013\", \"penalty_side\": \"Castigo Ofensivo\", \"team_penalty_cat\": \"Oponente\", \"sum_pen_season\": 48, \"opp_points_season\": 362}, {\"season\": \"2014\", \"penalty_side\": \"Castigo Defensivo\", \"team_penalty_cat\": \"NE\", \"sum_pen_season\": 73, \"opp_points_season\": 375}, {\"season\": \"2014\", \"penalty_side\": \"Castigo Defensivo\", \"team_penalty_cat\": \"Oponente\", \"sum_pen_season\": 62, \"opp_points_season\": 375}, {\"season\": \"2014\", \"penalty_side\": \"Castigo Ofensivo\", \"team_penalty_cat\": \"NE\", \"sum_pen_season\": 65, \"opp_points_season\": 375}, {\"season\": \"2014\", \"penalty_side\": \"Castigo Ofensivo\", \"team_penalty_cat\": \"Oponente\", \"sum_pen_season\": 47, \"opp_points_season\": 375}, {\"season\": \"2015\", \"penalty_side\": \"Castigo Defensivo\", \"team_penalty_cat\": \"NE\", \"sum_pen_season\": 44, \"opp_points_season\": 355}, {\"season\": \"2015\", \"penalty_side\": \"Castigo Defensivo\", \"team_penalty_cat\": \"Oponente\", \"sum_pen_season\": 60, \"opp_points_season\": 332}, {\"season\": \"2015\", \"penalty_side\": \"Castigo Ofensivo\", \"team_penalty_cat\": \"NE\", \"sum_pen_season\": 65, \"opp_points_season\": 329}, {\"season\": \"2015\", \"penalty_side\": \"Castigo Ofensivo\", \"team_penalty_cat\": \"Oponente\", \"sum_pen_season\": 64, \"opp_points_season\": 355}, {\"season\": \"2016\", \"penalty_side\": \"Castigo Defensivo\", \"team_penalty_cat\": \"NE\", \"sum_pen_season\": 44, \"opp_points_season\": 311}, {\"season\": \"2016\", \"penalty_side\": \"Castigo Defensivo\", \"team_penalty_cat\": \"Oponente\", \"sum_pen_season\": 67, \"opp_points_season\": 311}, {\"season\": \"2016\", \"penalty_side\": \"Castigo Ofensivo\", \"team_penalty_cat\": \"NE\", \"sum_pen_season\": 62, \"opp_points_season\": 294}, {\"season\": \"2016\", \"penalty_side\": \"Castigo Ofensivo\", \"team_penalty_cat\": \"Oponente\", \"sum_pen_season\": 62, \"opp_points_season\": 311}, {\"season\": \"2017\", \"penalty_side\": \"Castigo Defensivo\", \"team_penalty_cat\": \"NE\", \"sum_pen_season\": 45, \"opp_points_season\": 306}, {\"season\": \"2017\", \"penalty_side\": \"Castigo Defensivo\", \"team_penalty_cat\": \"Oponente\", \"sum_pen_season\": 78, \"opp_points_season\": 371}, {\"season\": \"2017\", \"penalty_side\": \"Castigo Ofensivo\", \"team_penalty_cat\": \"NE\", \"sum_pen_season\": 56, \"opp_points_season\": 311}, {\"season\": \"2017\", \"penalty_side\": \"Castigo Ofensivo\", \"team_penalty_cat\": \"Oponente\", \"sum_pen_season\": 54, \"opp_points_season\": 331}, {\"season\": \"2018\", \"penalty_side\": \"Castigo Defensivo\", \"team_penalty_cat\": \"NE\", \"sum_pen_season\": 37, \"opp_points_season\": 282}, {\"season\": \"2018\", \"penalty_side\": \"Castigo Defensivo\", \"team_penalty_cat\": \"Oponente\", \"sum_pen_season\": 45, \"opp_points_season\": 325}, {\"season\": \"2018\", \"penalty_side\": \"Castigo Ofensivo\", \"team_penalty_cat\": \"NE\", \"sum_pen_season\": 56, \"opp_points_season\": 237}, {\"season\": \"2018\", \"penalty_side\": \"Castigo Ofensivo\", \"team_penalty_cat\": \"Oponente\", \"sum_pen_season\": 46, \"opp_points_season\": 325}, {\"season\": \"2019\", \"penalty_side\": \"Castigo Defensivo\", \"team_penalty_cat\": \"NE\", \"sum_pen_season\": 42, \"opp_points_season\": 181}, {\"season\": \"2019\", \"penalty_side\": \"Castigo Defensivo\", \"team_penalty_cat\": \"Oponente\", \"sum_pen_season\": 36, \"opp_points_season\": 181}, {\"season\": \"2019\", \"penalty_side\": \"Castigo Ofensivo\", \"team_penalty_cat\": \"NE\", \"sum_pen_season\": 43, \"opp_points_season\": 181}, {\"season\": \"2019\", \"penalty_side\": \"Castigo Ofensivo\", \"team_penalty_cat\": \"Oponente\", \"sum_pen_season\": 60, \"opp_points_season\": 181}], \"data-98df698f10da424b039ed1e6e2d35d23\": [{\"season\": \"2009\", \"penalty_side\": \"Castigo Defensivo\", \"team_penalty_cat\": \"Oponente\", \"sum_pen_season\": 50, \"opp_points_season\": 276}, {\"season\": \"2009\", \"penalty_side\": \"Castigo Ofensivo\", \"team_penalty_cat\": \"Oponente\", \"sum_pen_season\": 44, \"opp_points_season\": 296}, {\"season\": \"2010\", \"penalty_side\": \"Castigo Defensivo\", \"team_penalty_cat\": \"Oponente\", \"sum_pen_season\": 41, \"opp_points_season\": 299}, {\"season\": \"2010\", \"penalty_side\": \"Castigo Ofensivo\", \"team_penalty_cat\": \"Oponente\", \"sum_pen_season\": 46, \"opp_points_season\": 314}, {\"season\": \"2011\", \"penalty_side\": \"Castigo Defensivo\", \"team_penalty_cat\": \"Oponente\", \"sum_pen_season\": 64, \"opp_points_season\": 393}, {\"season\": \"2011\", \"penalty_side\": \"Castigo Ofensivo\", \"team_penalty_cat\": \"Oponente\", \"sum_pen_season\": 65, \"opp_points_season\": 393}, {\"season\": \"2012\", \"penalty_side\": \"Castigo Defensivo\", \"team_penalty_cat\": \"Oponente\", \"sum_pen_season\": 61, \"opp_points_season\": 363}, {\"season\": \"2012\", \"penalty_side\": \"Castigo Ofensivo\", \"team_penalty_cat\": \"Oponente\", \"sum_pen_season\": 49, \"opp_points_season\": 366}, {\"season\": \"2013\", \"penalty_side\": \"Castigo Defensivo\", \"team_penalty_cat\": \"Oponente\", \"sum_pen_season\": 67, \"opp_points_season\": 386}, {\"season\": \"2013\", \"penalty_side\": \"Castigo Ofensivo\", \"team_penalty_cat\": \"Oponente\", \"sum_pen_season\": 48, \"opp_points_season\": 362}, {\"season\": \"2014\", \"penalty_side\": \"Castigo Defensivo\", \"team_penalty_cat\": \"Oponente\", \"sum_pen_season\": 62, \"opp_points_season\": 375}, {\"season\": \"2014\", \"penalty_side\": \"Castigo Ofensivo\", \"team_penalty_cat\": \"Oponente\", \"sum_pen_season\": 47, \"opp_points_season\": 375}, {\"season\": \"2015\", \"penalty_side\": \"Castigo Defensivo\", \"team_penalty_cat\": \"Oponente\", \"sum_pen_season\": 60, \"opp_points_season\": 332}, {\"season\": \"2015\", \"penalty_side\": \"Castigo Ofensivo\", \"team_penalty_cat\": \"Oponente\", \"sum_pen_season\": 64, \"opp_points_season\": 355}, {\"season\": \"2016\", \"penalty_side\": \"Castigo Defensivo\", \"team_penalty_cat\": \"Oponente\", \"sum_pen_season\": 67, \"opp_points_season\": 311}, {\"season\": \"2016\", \"penalty_side\": \"Castigo Ofensivo\", \"team_penalty_cat\": \"Oponente\", \"sum_pen_season\": 62, \"opp_points_season\": 311}, {\"season\": \"2017\", \"penalty_side\": \"Castigo Defensivo\", \"team_penalty_cat\": \"Oponente\", \"sum_pen_season\": 78, \"opp_points_season\": 371}, {\"season\": \"2017\", \"penalty_side\": \"Castigo Ofensivo\", \"team_penalty_cat\": \"Oponente\", \"sum_pen_season\": 54, \"opp_points_season\": 331}, {\"season\": \"2018\", \"penalty_side\": \"Castigo Defensivo\", \"team_penalty_cat\": \"Oponente\", \"sum_pen_season\": 45, \"opp_points_season\": 325}, {\"season\": \"2018\", \"penalty_side\": \"Castigo Ofensivo\", \"team_penalty_cat\": \"Oponente\", \"sum_pen_season\": 46, \"opp_points_season\": 325}, {\"season\": \"2019\", \"penalty_side\": \"Castigo Defensivo\", \"team_penalty_cat\": \"Oponente\", \"sum_pen_season\": 36, \"opp_points_season\": 181}, {\"season\": \"2019\", \"penalty_side\": \"Castigo Ofensivo\", \"team_penalty_cat\": \"Oponente\", \"sum_pen_season\": 60, \"opp_points_season\": 181}]}}, {\"mode\": \"vega-lite\"});\n",
       "</script>"
      ],
      "text/plain": [
       "alt.LayerChart(...)"
      ]
     },
     "execution_count": 36,
     "metadata": {},
     "output_type": "execute_result"
    }
   ],
   "source": [
    "range_=[\"#C8032B\",\"#08415C\"]\n",
    "domain=[\"Castigo Defensivo\",\"Castigo Ofensivo\"]\n",
    "scatter_temporada_help_2 =alt.Chart(df_temporada_help).transform_filter(    \n",
    "    \"datum.team_penalty_cat == 'Oponente'\"\n",
    ").mark_circle().encode(\n",
    " x=alt.X(\"sum_pen_season:Q\",\n",
    "         scale=alt.Scale(zero=False,\n",
    "                         bins = [30,40,50,60,70,80],) ,\n",
    "         axis = alt.Axis(labels=True, ticks=False)\n",
    "        ),\n",
    " y=alt.Y(\"opp_points_season:Q\",title=\"Puntos\",         \n",
    "         scale=alt.Scale(zero=False,\n",
    "                         domain=(160,400),\n",
    "                         bins = [100,200,300,400]),\n",
    "         \n",
    "         axis = alt.Axis(labels=True, ticks=False),         \n",
    "         ),\n",
    " color= alt.Color(\"penalty_side\",\n",
    "                  scale=alt.Scale(domain=domain, range=range_),\n",
    "                  legend=alt.Legend(direction=\"horizontal\",\n",
    "                                      orient=\"none\",\n",
    "                                      legendX=250,\n",
    "                                      legendY=0,\n",
    "                                      columnPadding=30,\n",
    "                                      padding=-25,\n",
    "                                   )\n",
    "                  ),\n",
    " size= alt.Size('sum_pen_season', legend=None,bin=True),\n",
    ").properties(\n",
    "    width = 700,\n",
    "    height= 400\n",
    ")\n",
    "\n",
    "\n",
    "scatter_reg_temorada_help = scatter_temporada_help_2 + scatter_temporada_help_2.transform_regression(\n",
    "    on='sum_pen_season',regression ='opp_points_season', method=\"linear\" , groupby=['penalty_side']\n",
    ").mark_line(size = 4)\n",
    "\n",
    "text_temporada_help = alt.Chart(df_temporada_help[df_temporada_help.team_penalty_cat == 'Oponente']).mark_text(\n",
    "    align='left',\n",
    "    baseline='middle',\n",
    "    dx=10,\n",
    "    size=10,\n",
    "    #color=\"red\",    \n",
    "    font=\"Courier\"\n",
    ").encode(\n",
    "    x=alt.X(\"sum_pen_season:Q\", title=\"Castigos\"),\n",
    " y=alt.Y(\"opp_points_season:Q\",title=\"Puntos\"),\n",
    "    text='season',\n",
    "    color= alt.Color(\"penalty_side:N\",\n",
    "                  #scale=alt.Scale(domain=domain, range=range_),                  \n",
    "                  ),\n",
    ")\n",
    "\n",
    "\n",
    "base_temporada_help =alt.layer(scatter_reg_temorada_help , text_temporada_help)\n",
    "base_temporada_help"
   ]
  },
  {
   "cell_type": "code",
   "execution_count": 108,
   "metadata": {},
   "outputs": [
    {
     "data": {
      "text/html": [
       "\n",
       "<div id=\"altair-viz-72\"></div>\n",
       "<script type=\"text/javascript\">\n",
       "  (function(spec, embedOpt){\n",
       "    const outputDiv = document.getElementById(\"altair-viz-72\");\n",
       "    const paths = {\n",
       "      \"vega\": \"https://cdn.jsdelivr.net/npm//vega@5?noext\",\n",
       "      \"vega-lib\": \"https://cdn.jsdelivr.net/npm//vega-lib?noext\",\n",
       "      \"vega-lite\": \"https://cdn.jsdelivr.net/npm//vega-lite@4.0.0?noext\",\n",
       "      \"vega-embed\": \"https://cdn.jsdelivr.net/npm//vega-embed@6?noext\",\n",
       "    };\n",
       "\n",
       "    function loadScript(lib) {\n",
       "      return new Promise(function(resolve, reject) {\n",
       "        var s = document.createElement('script');\n",
       "        s.src = paths[lib];\n",
       "        s.async = true;\n",
       "        s.onload = () => resolve(paths[lib]);\n",
       "        s.onerror = () => reject(`Error loading script: ${paths[lib]}`);\n",
       "        document.getElementsByTagName(\"head\")[0].appendChild(s);\n",
       "      });\n",
       "    }\n",
       "\n",
       "    function showError(err) {\n",
       "      outputDiv.innerHTML = `<div class=\"error\" style=\"color:red;\">${err}</div>`;\n",
       "      throw err;\n",
       "    }\n",
       "\n",
       "    function displayChart(vegaEmbed) {\n",
       "      vegaEmbed(outputDiv, spec, embedOpt)\n",
       "        .catch(err => showError(`Javascript Error: ${err.message}<br>This usually means there's a typo in your chart specification. See the javascript console for the full traceback.`));\n",
       "    }\n",
       "\n",
       "    if(typeof define === \"function\" && define.amd) {\n",
       "      requirejs.config({paths});\n",
       "      require([\"vega-embed\"], displayChart, err => showError(`Error loading script: ${err.message}`));\n",
       "    } else if (typeof vegaEmbed === \"function\") {\n",
       "      displayChart(vegaEmbed);\n",
       "    } else {\n",
       "      loadScript(\"vega\")\n",
       "        .then(() => loadScript(\"vega-lite\"))\n",
       "        .then(() => loadScript(\"vega-embed\"))\n",
       "        .catch(showError)\n",
       "        .then(() => displayChart(vegaEmbed));\n",
       "    }\n",
       "  })({\"config\": {\"title\": {\"fontSize\": 22, \"font\": [\"Courier\"], \"anchor\": \"middle\", \"color\": \"#08415C\"}, \"axisX\": {\"labelFont\": \"Courier\", \"titleFont\": [\"Courier\"], \"titleFontSize\": 18, \"titleColor\": \"#08415C\", \"grid\": false}, \"axisY\": {\"axis\": null, \"labelFont\": \"Courier\", \"labelFontSize\": 12, \"titleFont\": [\"Courier\"], \"titleColor\": \"#08415C\", \"titleFontSize\": 16, \"grid\": false, \"ticks\": false, \"labels\": false}, \"legend\": {\"labelFont\": \"Courier\", \"labelFontSize\": 12, \"titleFont\": [\"Courier\"], \"titleFontSize\": 12, \"orient\": \"top\", \"title\": null}, \"range\": {\"category\": [\"#08415C\", \"#B0B7BC\"]}, \"view\": {\"stroke\": \"transparent\"}, \"facet\": {\"spacing\": 20}, \"header\": {\"labelColor\": \"#08415C\", \"labelSize\": 10}}, \"data\": {\"name\": \"data-cc5302172b8b5e32c2dfe55d3616afe1\"}, \"mark\": {\"type\": \"text\", \"color\": \"#08415C\", \"dx\": -165, \"font\": \"Courier\", \"size\": 16}, \"encoding\": {\"text\": {\"type\": \"nominal\", \"field\": \"text\"}}, \"height\": 10, \"width\": 700, \"$schema\": \"https://vega.github.io/schema/vega-lite/v4.0.0.json\", \"datasets\": {\"data-cc5302172b8b5e32c2dfe55d3616afe1\": [{\"text\": \"Totales por Temporada\"}]}}, {\"mode\": \"vega-lite\"});\n",
       "</script>"
      ],
      "text/plain": [
       "alt.Chart(...)"
      ]
     },
     "execution_count": 108,
     "metadata": {},
     "output_type": "execute_result"
    }
   ],
   "source": [
    "subtitle = alt.Chart(\n",
    "    {\"values\": [{\"text\": \"Totales por Temporada\"}]}\n",
    ").mark_text(dx=-165 ,size=16, color=\"#08415C\", font='Courier').encode(\n",
    "    text=\"text:N\"\n",
    ").properties(\n",
    "   width = 700,\n",
    "    height=10\n",
    ")\n",
    "\n",
    "subtitle"
   ]
  },
  {
   "cell_type": "code",
   "execution_count": 37,
   "metadata": {},
   "outputs": [
    {
     "data": {
      "text/html": [
       "\n",
       "<div id=\"altair-viz-10\"></div>\n",
       "<script type=\"text/javascript\">\n",
       "  (function(spec, embedOpt){\n",
       "    const outputDiv = document.getElementById(\"altair-viz-10\");\n",
       "    const paths = {\n",
       "      \"vega\": \"https://cdn.jsdelivr.net/npm//vega@5?noext\",\n",
       "      \"vega-lib\": \"https://cdn.jsdelivr.net/npm//vega-lib?noext\",\n",
       "      \"vega-lite\": \"https://cdn.jsdelivr.net/npm//vega-lite@4.0.0?noext\",\n",
       "      \"vega-embed\": \"https://cdn.jsdelivr.net/npm//vega-embed@6?noext\",\n",
       "    };\n",
       "\n",
       "    function loadScript(lib) {\n",
       "      return new Promise(function(resolve, reject) {\n",
       "        var s = document.createElement('script');\n",
       "        s.src = paths[lib];\n",
       "        s.async = true;\n",
       "        s.onload = () => resolve(paths[lib]);\n",
       "        s.onerror = () => reject(`Error loading script: ${paths[lib]}`);\n",
       "        document.getElementsByTagName(\"head\")[0].appendChild(s);\n",
       "      });\n",
       "    }\n",
       "\n",
       "    function showError(err) {\n",
       "      outputDiv.innerHTML = `<div class=\"error\" style=\"color:red;\">${err}</div>`;\n",
       "      throw err;\n",
       "    }\n",
       "\n",
       "    function displayChart(vegaEmbed) {\n",
       "      vegaEmbed(outputDiv, spec, embedOpt)\n",
       "        .catch(err => showError(`Javascript Error: ${err.message}<br>This usually means there's a typo in your chart specification. See the javascript console for the full traceback.`));\n",
       "    }\n",
       "\n",
       "    if(typeof define === \"function\" && define.amd) {\n",
       "      requirejs.config({paths});\n",
       "      require([\"vega-embed\"], displayChart, err => showError(`Error loading script: ${err.message}`));\n",
       "    } else if (typeof vegaEmbed === \"function\") {\n",
       "      displayChart(vegaEmbed);\n",
       "    } else {\n",
       "      loadScript(\"vega\")\n",
       "        .then(() => loadScript(\"vega-lite\"))\n",
       "        .then(() => loadScript(\"vega-embed\"))\n",
       "        .catch(showError)\n",
       "        .then(() => displayChart(vegaEmbed));\n",
       "    }\n",
       "  })({\"config\": {\"title\": {\"fontSize\": 22, \"font\": [\"Courier\"], \"anchor\": \"middle\", \"color\": \"#08415C\"}, \"axisX\": {\"labelFont\": \"Courier\", \"titleFont\": [\"Courier\"], \"titleFontSize\": 18, \"titleColor\": \"#08415C\", \"grid\": false}, \"axisY\": {\"axis\": null, \"labelFont\": \"Courier\", \"labelFontSize\": 12, \"titleFont\": [\"Courier\"], \"titleColor\": \"#08415C\", \"titleFontSize\": 16, \"grid\": false, \"ticks\": false, \"labels\": false}, \"legend\": {\"labelFont\": \"Courier\", \"labelFontSize\": 12, \"titleFont\": [\"Courier\"], \"titleFontSize\": 12, \"orient\": \"top\", \"title\": null}, \"range\": {\"category\": [\"#08415C\", \"#B0B7BC\"]}, \"view\": {\"stroke\": \"transparent\"}, \"facet\": {\"spacing\": 20}, \"header\": {\"labelColor\": \"#08415C\", \"labelSize\": 10}}, \"vconcat\": [{\"layer\": [{\"layer\": [{\"mark\": \"circle\", \"encoding\": {\"color\": {\"type\": \"nominal\", \"field\": \"penalty_side\", \"legend\": {\"columnPadding\": 30, \"direction\": \"horizontal\", \"legendX\": 250, \"legendY\": 0, \"orient\": \"none\", \"padding\": -25}, \"scale\": {\"domain\": [\"Castigo Defensivo\", \"Castigo Ofensivo\"], \"range\": [\"#C8032B\", \"#08415C\"]}}, \"size\": {\"type\": \"quantitative\", \"bin\": true, \"field\": \"sum_pen_season\", \"legend\": null}, \"x\": {\"type\": \"quantitative\", \"axis\": {\"labels\": true, \"ticks\": false}, \"field\": \"sum_pen_season\", \"scale\": {\"bins\": [30, 40, 50, 60, 70, 80], \"zero\": false}}, \"y\": {\"type\": \"quantitative\", \"axis\": {\"labels\": true, \"ticks\": false}, \"field\": \"opp_points_season\", \"scale\": {\"bins\": [100, 200, 300, 400], \"domain\": [160, 400], \"zero\": false}, \"title\": \"Puntos\"}}, \"height\": 400, \"transform\": [{\"filter\": \"datum.team_penalty_cat == 'Oponente'\"}], \"width\": 700}, {\"mark\": {\"type\": \"line\", \"size\": 4}, \"encoding\": {\"color\": {\"type\": \"nominal\", \"field\": \"penalty_side\", \"legend\": {\"columnPadding\": 30, \"direction\": \"horizontal\", \"legendX\": 250, \"legendY\": 0, \"orient\": \"none\", \"padding\": -25}, \"scale\": {\"domain\": [\"Castigo Defensivo\", \"Castigo Ofensivo\"], \"range\": [\"#C8032B\", \"#08415C\"]}}, \"size\": {\"type\": \"quantitative\", \"bin\": true, \"field\": \"sum_pen_season\", \"legend\": null}, \"x\": {\"type\": \"quantitative\", \"axis\": {\"labels\": true, \"ticks\": false}, \"field\": \"sum_pen_season\", \"scale\": {\"bins\": [30, 40, 50, 60, 70, 80], \"zero\": false}}, \"y\": {\"type\": \"quantitative\", \"axis\": {\"labels\": true, \"ticks\": false}, \"field\": \"opp_points_season\", \"scale\": {\"bins\": [100, 200, 300, 400], \"domain\": [160, 400], \"zero\": false}, \"title\": \"Puntos\"}}, \"height\": 400, \"title\": \"hola\", \"transform\": [{\"filter\": \"datum.team_penalty_cat == 'Oponente'\"}, {\"on\": \"sum_pen_season\", \"regression\": \"opp_points_season\", \"groupby\": [\"penalty_side\"], \"method\": \"linear\"}], \"width\": 700}], \"data\": {\"name\": \"data-844fe6c1fa95f0f019730b07b57f2e5f\"}}, {\"data\": {\"name\": \"data-98df698f10da424b039ed1e6e2d35d23\"}, \"mark\": {\"type\": \"text\", \"align\": \"left\", \"baseline\": \"middle\", \"dx\": 10, \"font\": \"Courier\", \"size\": 10}, \"encoding\": {\"color\": {\"type\": \"nominal\", \"field\": \"penalty_side\"}, \"text\": {\"type\": \"nominal\", \"field\": \"season\"}, \"x\": {\"type\": \"quantitative\", \"field\": \"sum_pen_season\", \"title\": \"Castigos\"}, \"y\": {\"type\": \"quantitative\", \"field\": \"opp_points_season\", \"title\": \"Puntos\"}}}]}, {\"data\": {\"name\": \"data-f247de6bb35cba63cff5435e326416d6\"}, \"mark\": {\"type\": \"text\", \"color\": \"#08415C\", \"dx\": 340, \"dy\": 5, \"font\": \"Courier\", \"size\": 10, \"text\": \"@nerudista\"}, \"height\": 20, \"width\": 700}], \"title\": \"Castigos de Contrarios en los 5 min Finales\", \"$schema\": \"https://vega.github.io/schema/vega-lite/v4.0.0.json\", \"datasets\": {\"data-844fe6c1fa95f0f019730b07b57f2e5f\": [{\"season\": \"2009\", \"penalty_side\": \"Castigo Defensivo\", \"team_penalty_cat\": \"NE\", \"sum_pen_season\": 30, \"opp_points_season\": 256}, {\"season\": \"2009\", \"penalty_side\": \"Castigo Defensivo\", \"team_penalty_cat\": \"Oponente\", \"sum_pen_season\": 50, \"opp_points_season\": 276}, {\"season\": \"2009\", \"penalty_side\": \"Castigo Ofensivo\", \"team_penalty_cat\": \"NE\", \"sum_pen_season\": 57, \"opp_points_season\": 280}, {\"season\": \"2009\", \"penalty_side\": \"Castigo Ofensivo\", \"team_penalty_cat\": \"Oponente\", \"sum_pen_season\": 44, \"opp_points_season\": 296}, {\"season\": \"2010\", \"penalty_side\": \"Castigo Defensivo\", \"team_penalty_cat\": \"NE\", \"sum_pen_season\": 33, \"opp_points_season\": 274}, {\"season\": \"2010\", \"penalty_side\": \"Castigo Defensivo\", \"team_penalty_cat\": \"Oponente\", \"sum_pen_season\": 41, \"opp_points_season\": 299}, {\"season\": \"2010\", \"penalty_side\": \"Castigo Ofensivo\", \"team_penalty_cat\": \"NE\", \"sum_pen_season\": 55, \"opp_points_season\": 313}, {\"season\": \"2010\", \"penalty_side\": \"Castigo Ofensivo\", \"team_penalty_cat\": \"Oponente\", \"sum_pen_season\": 46, \"opp_points_season\": 314}, {\"season\": \"2011\", \"penalty_side\": \"Castigo Defensivo\", \"team_penalty_cat\": \"NE\", \"sum_pen_season\": 41, \"opp_points_season\": 390}, {\"season\": \"2011\", \"penalty_side\": \"Castigo Defensivo\", \"team_penalty_cat\": \"Oponente\", \"sum_pen_season\": 64, \"opp_points_season\": 393}, {\"season\": \"2011\", \"penalty_side\": \"Castigo Ofensivo\", \"team_penalty_cat\": \"NE\", \"sum_pen_season\": 54, \"opp_points_season\": 363}, {\"season\": \"2011\", \"penalty_side\": \"Castigo Ofensivo\", \"team_penalty_cat\": \"Oponente\", \"sum_pen_season\": 65, \"opp_points_season\": 393}, {\"season\": \"2012\", \"penalty_side\": \"Castigo Defensivo\", \"team_penalty_cat\": \"NE\", \"sum_pen_season\": 60, \"opp_points_season\": 387}, {\"season\": \"2012\", \"penalty_side\": \"Castigo Defensivo\", \"team_penalty_cat\": \"Oponente\", \"sum_pen_season\": 61, \"opp_points_season\": 363}, {\"season\": \"2012\", \"penalty_side\": \"Castigo Ofensivo\", \"team_penalty_cat\": \"NE\", \"sum_pen_season\": 46, \"opp_points_season\": 346}, {\"season\": \"2012\", \"penalty_side\": \"Castigo Ofensivo\", \"team_penalty_cat\": \"Oponente\", \"sum_pen_season\": 49, \"opp_points_season\": 366}, {\"season\": \"2013\", \"penalty_side\": \"Castigo Defensivo\", \"team_penalty_cat\": \"NE\", \"sum_pen_season\": 36, \"opp_points_season\": 342}, {\"season\": \"2013\", \"penalty_side\": \"Castigo Defensivo\", \"team_penalty_cat\": \"Oponente\", \"sum_pen_season\": 67, \"opp_points_season\": 386}, {\"season\": \"2013\", \"penalty_side\": \"Castigo Ofensivo\", \"team_penalty_cat\": \"NE\", \"sum_pen_season\": 39, \"opp_points_season\": 318}, {\"season\": \"2013\", \"penalty_side\": \"Castigo Ofensivo\", \"team_penalty_cat\": \"Oponente\", \"sum_pen_season\": 48, \"opp_points_season\": 362}, {\"season\": \"2014\", \"penalty_side\": \"Castigo Defensivo\", \"team_penalty_cat\": \"NE\", \"sum_pen_season\": 73, \"opp_points_season\": 375}, {\"season\": \"2014\", \"penalty_side\": \"Castigo Defensivo\", \"team_penalty_cat\": \"Oponente\", \"sum_pen_season\": 62, \"opp_points_season\": 375}, {\"season\": \"2014\", \"penalty_side\": \"Castigo Ofensivo\", \"team_penalty_cat\": \"NE\", \"sum_pen_season\": 65, \"opp_points_season\": 375}, {\"season\": \"2014\", \"penalty_side\": \"Castigo Ofensivo\", \"team_penalty_cat\": \"Oponente\", \"sum_pen_season\": 47, \"opp_points_season\": 375}, {\"season\": \"2015\", \"penalty_side\": \"Castigo Defensivo\", \"team_penalty_cat\": \"NE\", \"sum_pen_season\": 44, \"opp_points_season\": 355}, {\"season\": \"2015\", \"penalty_side\": \"Castigo Defensivo\", \"team_penalty_cat\": \"Oponente\", \"sum_pen_season\": 60, \"opp_points_season\": 332}, {\"season\": \"2015\", \"penalty_side\": \"Castigo Ofensivo\", \"team_penalty_cat\": \"NE\", \"sum_pen_season\": 65, \"opp_points_season\": 329}, {\"season\": \"2015\", \"penalty_side\": \"Castigo Ofensivo\", \"team_penalty_cat\": \"Oponente\", \"sum_pen_season\": 64, \"opp_points_season\": 355}, {\"season\": \"2016\", \"penalty_side\": \"Castigo Defensivo\", \"team_penalty_cat\": \"NE\", \"sum_pen_season\": 44, \"opp_points_season\": 311}, {\"season\": \"2016\", \"penalty_side\": \"Castigo Defensivo\", \"team_penalty_cat\": \"Oponente\", \"sum_pen_season\": 67, \"opp_points_season\": 311}, {\"season\": \"2016\", \"penalty_side\": \"Castigo Ofensivo\", \"team_penalty_cat\": \"NE\", \"sum_pen_season\": 62, \"opp_points_season\": 294}, {\"season\": \"2016\", \"penalty_side\": \"Castigo Ofensivo\", \"team_penalty_cat\": \"Oponente\", \"sum_pen_season\": 62, \"opp_points_season\": 311}, {\"season\": \"2017\", \"penalty_side\": \"Castigo Defensivo\", \"team_penalty_cat\": \"NE\", \"sum_pen_season\": 45, \"opp_points_season\": 306}, {\"season\": \"2017\", \"penalty_side\": \"Castigo Defensivo\", \"team_penalty_cat\": \"Oponente\", \"sum_pen_season\": 78, \"opp_points_season\": 371}, {\"season\": \"2017\", \"penalty_side\": \"Castigo Ofensivo\", \"team_penalty_cat\": \"NE\", \"sum_pen_season\": 56, \"opp_points_season\": 311}, {\"season\": \"2017\", \"penalty_side\": \"Castigo Ofensivo\", \"team_penalty_cat\": \"Oponente\", \"sum_pen_season\": 54, \"opp_points_season\": 331}, {\"season\": \"2018\", \"penalty_side\": \"Castigo Defensivo\", \"team_penalty_cat\": \"NE\", \"sum_pen_season\": 37, \"opp_points_season\": 282}, {\"season\": \"2018\", \"penalty_side\": \"Castigo Defensivo\", \"team_penalty_cat\": \"Oponente\", \"sum_pen_season\": 45, \"opp_points_season\": 325}, {\"season\": \"2018\", \"penalty_side\": \"Castigo Ofensivo\", \"team_penalty_cat\": \"NE\", \"sum_pen_season\": 56, \"opp_points_season\": 237}, {\"season\": \"2018\", \"penalty_side\": \"Castigo Ofensivo\", \"team_penalty_cat\": \"Oponente\", \"sum_pen_season\": 46, \"opp_points_season\": 325}, {\"season\": \"2019\", \"penalty_side\": \"Castigo Defensivo\", \"team_penalty_cat\": \"NE\", \"sum_pen_season\": 42, \"opp_points_season\": 181}, {\"season\": \"2019\", \"penalty_side\": \"Castigo Defensivo\", \"team_penalty_cat\": \"Oponente\", \"sum_pen_season\": 36, \"opp_points_season\": 181}, {\"season\": \"2019\", \"penalty_side\": \"Castigo Ofensivo\", \"team_penalty_cat\": \"NE\", \"sum_pen_season\": 43, \"opp_points_season\": 181}, {\"season\": \"2019\", \"penalty_side\": \"Castigo Ofensivo\", \"team_penalty_cat\": \"Oponente\", \"sum_pen_season\": 60, \"opp_points_season\": 181}], \"data-98df698f10da424b039ed1e6e2d35d23\": [{\"season\": \"2009\", \"penalty_side\": \"Castigo Defensivo\", \"team_penalty_cat\": \"Oponente\", \"sum_pen_season\": 50, \"opp_points_season\": 276}, {\"season\": \"2009\", \"penalty_side\": \"Castigo Ofensivo\", \"team_penalty_cat\": \"Oponente\", \"sum_pen_season\": 44, \"opp_points_season\": 296}, {\"season\": \"2010\", \"penalty_side\": \"Castigo Defensivo\", \"team_penalty_cat\": \"Oponente\", \"sum_pen_season\": 41, \"opp_points_season\": 299}, {\"season\": \"2010\", \"penalty_side\": \"Castigo Ofensivo\", \"team_penalty_cat\": \"Oponente\", \"sum_pen_season\": 46, \"opp_points_season\": 314}, {\"season\": \"2011\", \"penalty_side\": \"Castigo Defensivo\", \"team_penalty_cat\": \"Oponente\", \"sum_pen_season\": 64, \"opp_points_season\": 393}, {\"season\": \"2011\", \"penalty_side\": \"Castigo Ofensivo\", \"team_penalty_cat\": \"Oponente\", \"sum_pen_season\": 65, \"opp_points_season\": 393}, {\"season\": \"2012\", \"penalty_side\": \"Castigo Defensivo\", \"team_penalty_cat\": \"Oponente\", \"sum_pen_season\": 61, \"opp_points_season\": 363}, {\"season\": \"2012\", \"penalty_side\": \"Castigo Ofensivo\", \"team_penalty_cat\": \"Oponente\", \"sum_pen_season\": 49, \"opp_points_season\": 366}, {\"season\": \"2013\", \"penalty_side\": \"Castigo Defensivo\", \"team_penalty_cat\": \"Oponente\", \"sum_pen_season\": 67, \"opp_points_season\": 386}, {\"season\": \"2013\", \"penalty_side\": \"Castigo Ofensivo\", \"team_penalty_cat\": \"Oponente\", \"sum_pen_season\": 48, \"opp_points_season\": 362}, {\"season\": \"2014\", \"penalty_side\": \"Castigo Defensivo\", \"team_penalty_cat\": \"Oponente\", \"sum_pen_season\": 62, \"opp_points_season\": 375}, {\"season\": \"2014\", \"penalty_side\": \"Castigo Ofensivo\", \"team_penalty_cat\": \"Oponente\", \"sum_pen_season\": 47, \"opp_points_season\": 375}, {\"season\": \"2015\", \"penalty_side\": \"Castigo Defensivo\", \"team_penalty_cat\": \"Oponente\", \"sum_pen_season\": 60, \"opp_points_season\": 332}, {\"season\": \"2015\", \"penalty_side\": \"Castigo Ofensivo\", \"team_penalty_cat\": \"Oponente\", \"sum_pen_season\": 64, \"opp_points_season\": 355}, {\"season\": \"2016\", \"penalty_side\": \"Castigo Defensivo\", \"team_penalty_cat\": \"Oponente\", \"sum_pen_season\": 67, \"opp_points_season\": 311}, {\"season\": \"2016\", \"penalty_side\": \"Castigo Ofensivo\", \"team_penalty_cat\": \"Oponente\", \"sum_pen_season\": 62, \"opp_points_season\": 311}, {\"season\": \"2017\", \"penalty_side\": \"Castigo Defensivo\", \"team_penalty_cat\": \"Oponente\", \"sum_pen_season\": 78, \"opp_points_season\": 371}, {\"season\": \"2017\", \"penalty_side\": \"Castigo Ofensivo\", \"team_penalty_cat\": \"Oponente\", \"sum_pen_season\": 54, \"opp_points_season\": 331}, {\"season\": \"2018\", \"penalty_side\": \"Castigo Defensivo\", \"team_penalty_cat\": \"Oponente\", \"sum_pen_season\": 45, \"opp_points_season\": 325}, {\"season\": \"2018\", \"penalty_side\": \"Castigo Ofensivo\", \"team_penalty_cat\": \"Oponente\", \"sum_pen_season\": 46, \"opp_points_season\": 325}, {\"season\": \"2019\", \"penalty_side\": \"Castigo Defensivo\", \"team_penalty_cat\": \"Oponente\", \"sum_pen_season\": 36, \"opp_points_season\": 181}, {\"season\": \"2019\", \"penalty_side\": \"Castigo Ofensivo\", \"team_penalty_cat\": \"Oponente\", \"sum_pen_season\": 60, \"opp_points_season\": 181}], \"data-f247de6bb35cba63cff5435e326416d6\": [{\"game_winner_cat\": \"NE\", \"team_penalty_cat\": \"NE\", \"penalty_side\": \"Castigo Defensivo\", \"mean_yds\": 28.7}, {\"game_winner_cat\": \"NE\", \"team_penalty_cat\": \"NE\", \"penalty_side\": \"Castigo Ofensivo\", \"mean_yds\": 28.4}, {\"game_winner_cat\": \"NE\", \"team_penalty_cat\": \"Oponente\", \"penalty_side\": \"Castigo Defensivo\", \"mean_yds\": 34.5}, {\"game_winner_cat\": \"NE\", \"team_penalty_cat\": \"Oponente\", \"penalty_side\": \"Castigo Ofensivo\", \"mean_yds\": 26.3}, {\"game_winner_cat\": \"Oponente\", \"team_penalty_cat\": \"NE\", \"penalty_side\": \"Castigo Defensivo\", \"mean_yds\": 31.1}, {\"game_winner_cat\": \"Oponente\", \"team_penalty_cat\": \"NE\", \"penalty_side\": \"Castigo Ofensivo\", \"mean_yds\": 27.5}, {\"game_winner_cat\": \"Oponente\", \"team_penalty_cat\": \"Oponente\", \"penalty_side\": \"Castigo Defensivo\", \"mean_yds\": 36.1}, {\"game_winner_cat\": \"Oponente\", \"team_penalty_cat\": \"Oponente\", \"penalty_side\": \"Castigo Ofensivo\", \"mean_yds\": 22.7}]}}, {\"mode\": \"vega-lite\"});\n",
       "</script>"
      ],
      "text/plain": [
       "alt.VConcatChart(...)"
      ]
     },
     "execution_count": 37,
     "metadata": {},
     "output_type": "execute_result"
    }
   ],
   "source": [
    "final_temporada_help= alt.vconcat( \n",
    "             #subtitle,\n",
    "             base_temporada_help,\n",
    "             caption_chart).properties(\n",
    "   title=\"Castigos de Contrarios en los 5 min Finales\"  )\n",
    "\n",
    "#Guardar imagen\n",
    "#final_temporada_help.save('./graficas/Altair/AltairCastigosVSYardas.png', scale_factor=1.0)\n",
    "\n",
    "final_temporada_help"
   ]
  },
  {
   "cell_type": "markdown",
   "metadata": {},
   "source": [
    "########################################\n",
    "  ### VER CASTIGOS POR TEMPORADA, OFENSIVOS Y DEFENSIVOS\n",
    "  ### HECHOS POR TODOS\n",
    "  ########################################"
   ]
  },
  {
   "cell_type": "code",
   "execution_count": 136,
   "metadata": {},
   "outputs": [
    {
     "data": {
      "text/plain": [
       "season               object\n",
       "penalty_side         object\n",
       "team_penalty_cat     object\n",
       "sum_pen_season        int64\n",
       "opp_points_season     int64\n",
       "dtype: object"
      ]
     },
     "execution_count": 136,
     "metadata": {},
     "output_type": "execute_result"
    }
   ],
   "source": [
    "df_temporada_help = data.groupby([\"season\",\"week\",\"team_penalty_cat\",\"penalty_side\",\"game_type\"]).agg(\\\n",
    "                                                                              pats_points_game = ('pats_points','mean'),\n",
    "                                                                              opp_points_game = ('opps_points','mean'),\n",
    "                                                                              cnt_pen_game = ('opps_points','count'),                                                                                                          \n",
    "                                     ).reset_index().groupby([\"season\",\"penalty_side\",\"team_penalty_cat\"]).agg(\\\n",
    "                                                                                                          sum_pen_season = ('cnt_pen_game','sum'),\n",
    "                                                                                                          opp_points_season= ('opp_points_game','sum')\n",
    "                                                                                                  ).reset_index()\n",
    "\n",
    "df_temporada_help[:3]\n",
    "df_temporada_help.dtypes"
   ]
  },
  {
   "cell_type": "code",
   "execution_count": 148,
   "metadata": {},
   "outputs": [
    {
     "data": {
      "text/html": [
       "<div>\n",
       "<style scoped>\n",
       "    .dataframe tbody tr th:only-of-type {\n",
       "        vertical-align: middle;\n",
       "    }\n",
       "\n",
       "    .dataframe tbody tr th {\n",
       "        vertical-align: top;\n",
       "    }\n",
       "\n",
       "    .dataframe thead th {\n",
       "        text-align: right;\n",
       "    }\n",
       "</style>\n",
       "<table border=\"1\" class=\"dataframe\">\n",
       "  <thead>\n",
       "    <tr style=\"text-align: right;\">\n",
       "      <th></th>\n",
       "      <th>season</th>\n",
       "      <th>penalty_side</th>\n",
       "      <th>team_penalty_cat</th>\n",
       "      <th>sum_pen_season</th>\n",
       "      <th>opp_points_season</th>\n",
       "      <th>cat_made</th>\n",
       "    </tr>\n",
       "  </thead>\n",
       "  <tbody>\n",
       "    <tr>\n",
       "      <th>0</th>\n",
       "      <td>2009</td>\n",
       "      <td>Castigo Defensivo</td>\n",
       "      <td>NE</td>\n",
       "      <td>30</td>\n",
       "      <td>256</td>\n",
       "      <td>NE Castigo Defensivo</td>\n",
       "    </tr>\n",
       "    <tr>\n",
       "      <th>1</th>\n",
       "      <td>2009</td>\n",
       "      <td>Castigo Defensivo</td>\n",
       "      <td>Oponente</td>\n",
       "      <td>50</td>\n",
       "      <td>276</td>\n",
       "      <td>Oponente Castigo Defensivo</td>\n",
       "    </tr>\n",
       "    <tr>\n",
       "      <th>2</th>\n",
       "      <td>2009</td>\n",
       "      <td>Castigo Ofensivo</td>\n",
       "      <td>NE</td>\n",
       "      <td>57</td>\n",
       "      <td>280</td>\n",
       "      <td>NE Castigo Ofensivo</td>\n",
       "    </tr>\n",
       "  </tbody>\n",
       "</table>\n",
       "</div>"
      ],
      "text/plain": [
       "  season       penalty_side team_penalty_cat  sum_pen_season  \\\n",
       "0   2009  Castigo Defensivo               NE              30   \n",
       "1   2009  Castigo Defensivo         Oponente              50   \n",
       "2   2009   Castigo Ofensivo               NE              57   \n",
       "\n",
       "   opp_points_season                    cat_made  \n",
       "0                256        NE Castigo Defensivo  \n",
       "1                276  Oponente Castigo Defensivo  \n",
       "2                280         NE Castigo Ofensivo  "
      ]
     },
     "execution_count": 148,
     "metadata": {},
     "output_type": "execute_result"
    }
   ],
   "source": [
    "#Crear columna para unir el tipo de castigo y quién lo hizo\n",
    "df_temporada_help[\"cat_made\"]=df_temporada_help[\"team_penalty_cat\"]+' '+df_temporada_help[\"penalty_side\"]\n",
    "df_temporada_help[:3]\n"
   ]
  },
  {
   "cell_type": "code",
   "execution_count": 198,
   "metadata": {},
   "outputs": [
    {
     "data": {
      "text/html": [
       "\n",
       "<div id=\"altair-viz-122\"></div>\n",
       "<script type=\"text/javascript\">\n",
       "  (function(spec, embedOpt){\n",
       "    const outputDiv = document.getElementById(\"altair-viz-122\");\n",
       "    const paths = {\n",
       "      \"vega\": \"https://cdn.jsdelivr.net/npm//vega@5?noext\",\n",
       "      \"vega-lib\": \"https://cdn.jsdelivr.net/npm//vega-lib?noext\",\n",
       "      \"vega-lite\": \"https://cdn.jsdelivr.net/npm//vega-lite@4.0.0?noext\",\n",
       "      \"vega-embed\": \"https://cdn.jsdelivr.net/npm//vega-embed@6?noext\",\n",
       "    };\n",
       "\n",
       "    function loadScript(lib) {\n",
       "      return new Promise(function(resolve, reject) {\n",
       "        var s = document.createElement('script');\n",
       "        s.src = paths[lib];\n",
       "        s.async = true;\n",
       "        s.onload = () => resolve(paths[lib]);\n",
       "        s.onerror = () => reject(`Error loading script: ${paths[lib]}`);\n",
       "        document.getElementsByTagName(\"head\")[0].appendChild(s);\n",
       "      });\n",
       "    }\n",
       "\n",
       "    function showError(err) {\n",
       "      outputDiv.innerHTML = `<div class=\"error\" style=\"color:red;\">${err}</div>`;\n",
       "      throw err;\n",
       "    }\n",
       "\n",
       "    function displayChart(vegaEmbed) {\n",
       "      vegaEmbed(outputDiv, spec, embedOpt)\n",
       "        .catch(err => showError(`Javascript Error: ${err.message}<br>This usually means there's a typo in your chart specification. See the javascript console for the full traceback.`));\n",
       "    }\n",
       "\n",
       "    if(typeof define === \"function\" && define.amd) {\n",
       "      requirejs.config({paths});\n",
       "      require([\"vega-embed\"], displayChart, err => showError(`Error loading script: ${err.message}`));\n",
       "    } else if (typeof vegaEmbed === \"function\") {\n",
       "      displayChart(vegaEmbed);\n",
       "    } else {\n",
       "      loadScript(\"vega\")\n",
       "        .then(() => loadScript(\"vega-lite\"))\n",
       "        .then(() => loadScript(\"vega-embed\"))\n",
       "        .catch(showError)\n",
       "        .then(() => displayChart(vegaEmbed));\n",
       "    }\n",
       "  })({\"config\": {\"title\": {\"fontSize\": 22, \"font\": [\"Courier\"], \"anchor\": \"middle\", \"color\": \"#08415C\"}, \"axisX\": {\"labelFont\": \"Courier\", \"titleFont\": [\"Courier\"], \"titleFontSize\": 18, \"titleColor\": \"#08415C\", \"grid\": false}, \"axisY\": {\"axis\": null, \"labelFont\": \"Courier\", \"labelFontSize\": 12, \"titleFont\": [\"Courier\"], \"titleColor\": \"#08415C\", \"titleFontSize\": 16, \"grid\": false, \"ticks\": false, \"labels\": false}, \"legend\": {\"labelFont\": \"Courier\", \"labelFontSize\": 12, \"titleFont\": [\"Courier\"], \"titleFontSize\": 12, \"orient\": \"top\", \"title\": null}, \"range\": {\"category\": [\"#08415C\", \"#B0B7BC\"]}, \"view\": {\"stroke\": \"transparent\"}, \"facet\": {\"spacing\": 20}, \"header\": {\"labelColor\": \"#08415C\", \"labelSize\": 10}}, \"data\": {\"name\": \"data-32442ed68dc780b7008d83d3d54870d5\"}, \"mark\": \"trail\", \"encoding\": {\"color\": {\"type\": \"nominal\", \"field\": \"cat_made\", \"legend\": null, \"scale\": {\"domain\": [\"NE Castigo Defensivo\", \"NE Castigo Ofensivo\", \"Oponente Castigo Defensivo\", \"Oponente Castigo Ofensivo\"], \"range\": [\"#08415C\", \"#a5b9c3\", \"#d23051\", \"#eba3b1\"]}}, \"size\": {\"type\": \"quantitative\", \"field\": \"sum_pen_season\", \"legend\": null, \"scale\": {\"domain\": [30, 100], \"range\": [1, 18]}}, \"x\": {\"type\": \"nominal\", \"axis\": {\"labelAngle\": 0, \"labels\": true, \"ticks\": false}, \"field\": \"season\", \"title\": \"Temporada\"}, \"y\": {\"type\": \"quantitative\", \"axis\": {\"labels\": true, \"ticks\": false}, \"field\": \"sum_pen_season\", \"scale\": {\"zero\": false}, \"title\": \"Total de Castigos\"}}, \"height\": 400, \"width\": 700, \"$schema\": \"https://vega.github.io/schema/vega-lite/v4.0.0.json\", \"datasets\": {\"data-32442ed68dc780b7008d83d3d54870d5\": [{\"season\": \"2009\", \"penalty_side\": \"Castigo Defensivo\", \"team_penalty_cat\": \"NE\", \"sum_pen_season\": 30, \"opp_points_season\": 256, \"cat_made\": \"NE Castigo Defensivo\"}, {\"season\": \"2009\", \"penalty_side\": \"Castigo Defensivo\", \"team_penalty_cat\": \"Oponente\", \"sum_pen_season\": 50, \"opp_points_season\": 276, \"cat_made\": \"Oponente Castigo Defensivo\"}, {\"season\": \"2009\", \"penalty_side\": \"Castigo Ofensivo\", \"team_penalty_cat\": \"NE\", \"sum_pen_season\": 57, \"opp_points_season\": 280, \"cat_made\": \"NE Castigo Ofensivo\"}, {\"season\": \"2009\", \"penalty_side\": \"Castigo Ofensivo\", \"team_penalty_cat\": \"Oponente\", \"sum_pen_season\": 44, \"opp_points_season\": 296, \"cat_made\": \"Oponente Castigo Ofensivo\"}, {\"season\": \"2010\", \"penalty_side\": \"Castigo Defensivo\", \"team_penalty_cat\": \"NE\", \"sum_pen_season\": 33, \"opp_points_season\": 274, \"cat_made\": \"NE Castigo Defensivo\"}, {\"season\": \"2010\", \"penalty_side\": \"Castigo Defensivo\", \"team_penalty_cat\": \"Oponente\", \"sum_pen_season\": 41, \"opp_points_season\": 299, \"cat_made\": \"Oponente Castigo Defensivo\"}, {\"season\": \"2010\", \"penalty_side\": \"Castigo Ofensivo\", \"team_penalty_cat\": \"NE\", \"sum_pen_season\": 55, \"opp_points_season\": 313, \"cat_made\": \"NE Castigo Ofensivo\"}, {\"season\": \"2010\", \"penalty_side\": \"Castigo Ofensivo\", \"team_penalty_cat\": \"Oponente\", \"sum_pen_season\": 46, \"opp_points_season\": 314, \"cat_made\": \"Oponente Castigo Ofensivo\"}, {\"season\": \"2011\", \"penalty_side\": \"Castigo Defensivo\", \"team_penalty_cat\": \"NE\", \"sum_pen_season\": 41, \"opp_points_season\": 390, \"cat_made\": \"NE Castigo Defensivo\"}, {\"season\": \"2011\", \"penalty_side\": \"Castigo Defensivo\", \"team_penalty_cat\": \"Oponente\", \"sum_pen_season\": 64, \"opp_points_season\": 393, \"cat_made\": \"Oponente Castigo Defensivo\"}, {\"season\": \"2011\", \"penalty_side\": \"Castigo Ofensivo\", \"team_penalty_cat\": \"NE\", \"sum_pen_season\": 54, \"opp_points_season\": 363, \"cat_made\": \"NE Castigo Ofensivo\"}, {\"season\": \"2011\", \"penalty_side\": \"Castigo Ofensivo\", \"team_penalty_cat\": \"Oponente\", \"sum_pen_season\": 65, \"opp_points_season\": 393, \"cat_made\": \"Oponente Castigo Ofensivo\"}, {\"season\": \"2012\", \"penalty_side\": \"Castigo Defensivo\", \"team_penalty_cat\": \"NE\", \"sum_pen_season\": 60, \"opp_points_season\": 387, \"cat_made\": \"NE Castigo Defensivo\"}, {\"season\": \"2012\", \"penalty_side\": \"Castigo Defensivo\", \"team_penalty_cat\": \"Oponente\", \"sum_pen_season\": 61, \"opp_points_season\": 363, \"cat_made\": \"Oponente Castigo Defensivo\"}, {\"season\": \"2012\", \"penalty_side\": \"Castigo Ofensivo\", \"team_penalty_cat\": \"NE\", \"sum_pen_season\": 46, \"opp_points_season\": 346, \"cat_made\": \"NE Castigo Ofensivo\"}, {\"season\": \"2012\", \"penalty_side\": \"Castigo Ofensivo\", \"team_penalty_cat\": \"Oponente\", \"sum_pen_season\": 49, \"opp_points_season\": 366, \"cat_made\": \"Oponente Castigo Ofensivo\"}, {\"season\": \"2013\", \"penalty_side\": \"Castigo Defensivo\", \"team_penalty_cat\": \"NE\", \"sum_pen_season\": 36, \"opp_points_season\": 342, \"cat_made\": \"NE Castigo Defensivo\"}, {\"season\": \"2013\", \"penalty_side\": \"Castigo Defensivo\", \"team_penalty_cat\": \"Oponente\", \"sum_pen_season\": 67, \"opp_points_season\": 386, \"cat_made\": \"Oponente Castigo Defensivo\"}, {\"season\": \"2013\", \"penalty_side\": \"Castigo Ofensivo\", \"team_penalty_cat\": \"NE\", \"sum_pen_season\": 39, \"opp_points_season\": 318, \"cat_made\": \"NE Castigo Ofensivo\"}, {\"season\": \"2013\", \"penalty_side\": \"Castigo Ofensivo\", \"team_penalty_cat\": \"Oponente\", \"sum_pen_season\": 48, \"opp_points_season\": 362, \"cat_made\": \"Oponente Castigo Ofensivo\"}, {\"season\": \"2014\", \"penalty_side\": \"Castigo Defensivo\", \"team_penalty_cat\": \"NE\", \"sum_pen_season\": 73, \"opp_points_season\": 375, \"cat_made\": \"NE Castigo Defensivo\"}, {\"season\": \"2014\", \"penalty_side\": \"Castigo Defensivo\", \"team_penalty_cat\": \"Oponente\", \"sum_pen_season\": 62, \"opp_points_season\": 375, \"cat_made\": \"Oponente Castigo Defensivo\"}, {\"season\": \"2014\", \"penalty_side\": \"Castigo Ofensivo\", \"team_penalty_cat\": \"NE\", \"sum_pen_season\": 65, \"opp_points_season\": 375, \"cat_made\": \"NE Castigo Ofensivo\"}, {\"season\": \"2014\", \"penalty_side\": \"Castigo Ofensivo\", \"team_penalty_cat\": \"Oponente\", \"sum_pen_season\": 47, \"opp_points_season\": 375, \"cat_made\": \"Oponente Castigo Ofensivo\"}, {\"season\": \"2015\", \"penalty_side\": \"Castigo Defensivo\", \"team_penalty_cat\": \"NE\", \"sum_pen_season\": 44, \"opp_points_season\": 355, \"cat_made\": \"NE Castigo Defensivo\"}, {\"season\": \"2015\", \"penalty_side\": \"Castigo Defensivo\", \"team_penalty_cat\": \"Oponente\", \"sum_pen_season\": 60, \"opp_points_season\": 332, \"cat_made\": \"Oponente Castigo Defensivo\"}, {\"season\": \"2015\", \"penalty_side\": \"Castigo Ofensivo\", \"team_penalty_cat\": \"NE\", \"sum_pen_season\": 65, \"opp_points_season\": 329, \"cat_made\": \"NE Castigo Ofensivo\"}, {\"season\": \"2015\", \"penalty_side\": \"Castigo Ofensivo\", \"team_penalty_cat\": \"Oponente\", \"sum_pen_season\": 64, \"opp_points_season\": 355, \"cat_made\": \"Oponente Castigo Ofensivo\"}, {\"season\": \"2016\", \"penalty_side\": \"Castigo Defensivo\", \"team_penalty_cat\": \"NE\", \"sum_pen_season\": 44, \"opp_points_season\": 311, \"cat_made\": \"NE Castigo Defensivo\"}, {\"season\": \"2016\", \"penalty_side\": \"Castigo Defensivo\", \"team_penalty_cat\": \"Oponente\", \"sum_pen_season\": 67, \"opp_points_season\": 311, \"cat_made\": \"Oponente Castigo Defensivo\"}, {\"season\": \"2016\", \"penalty_side\": \"Castigo Ofensivo\", \"team_penalty_cat\": \"NE\", \"sum_pen_season\": 62, \"opp_points_season\": 294, \"cat_made\": \"NE Castigo Ofensivo\"}, {\"season\": \"2016\", \"penalty_side\": \"Castigo Ofensivo\", \"team_penalty_cat\": \"Oponente\", \"sum_pen_season\": 62, \"opp_points_season\": 311, \"cat_made\": \"Oponente Castigo Ofensivo\"}, {\"season\": \"2017\", \"penalty_side\": \"Castigo Defensivo\", \"team_penalty_cat\": \"NE\", \"sum_pen_season\": 45, \"opp_points_season\": 306, \"cat_made\": \"NE Castigo Defensivo\"}, {\"season\": \"2017\", \"penalty_side\": \"Castigo Defensivo\", \"team_penalty_cat\": \"Oponente\", \"sum_pen_season\": 78, \"opp_points_season\": 371, \"cat_made\": \"Oponente Castigo Defensivo\"}, {\"season\": \"2017\", \"penalty_side\": \"Castigo Ofensivo\", \"team_penalty_cat\": \"NE\", \"sum_pen_season\": 56, \"opp_points_season\": 311, \"cat_made\": \"NE Castigo Ofensivo\"}, {\"season\": \"2017\", \"penalty_side\": \"Castigo Ofensivo\", \"team_penalty_cat\": \"Oponente\", \"sum_pen_season\": 54, \"opp_points_season\": 331, \"cat_made\": \"Oponente Castigo Ofensivo\"}, {\"season\": \"2018\", \"penalty_side\": \"Castigo Defensivo\", \"team_penalty_cat\": \"NE\", \"sum_pen_season\": 37, \"opp_points_season\": 282, \"cat_made\": \"NE Castigo Defensivo\"}, {\"season\": \"2018\", \"penalty_side\": \"Castigo Defensivo\", \"team_penalty_cat\": \"Oponente\", \"sum_pen_season\": 45, \"opp_points_season\": 325, \"cat_made\": \"Oponente Castigo Defensivo\"}, {\"season\": \"2018\", \"penalty_side\": \"Castigo Ofensivo\", \"team_penalty_cat\": \"NE\", \"sum_pen_season\": 56, \"opp_points_season\": 237, \"cat_made\": \"NE Castigo Ofensivo\"}, {\"season\": \"2018\", \"penalty_side\": \"Castigo Ofensivo\", \"team_penalty_cat\": \"Oponente\", \"sum_pen_season\": 46, \"opp_points_season\": 325, \"cat_made\": \"Oponente Castigo Ofensivo\"}, {\"season\": \"2019\", \"penalty_side\": \"Castigo Defensivo\", \"team_penalty_cat\": \"NE\", \"sum_pen_season\": 42, \"opp_points_season\": 181, \"cat_made\": \"NE Castigo Defensivo\"}, {\"season\": \"2019\", \"penalty_side\": \"Castigo Defensivo\", \"team_penalty_cat\": \"Oponente\", \"sum_pen_season\": 36, \"opp_points_season\": 181, \"cat_made\": \"Oponente Castigo Defensivo\"}, {\"season\": \"2019\", \"penalty_side\": \"Castigo Ofensivo\", \"team_penalty_cat\": \"NE\", \"sum_pen_season\": 43, \"opp_points_season\": 181, \"cat_made\": \"NE Castigo Ofensivo\"}, {\"season\": \"2019\", \"penalty_side\": \"Castigo Ofensivo\", \"team_penalty_cat\": \"Oponente\", \"sum_pen_season\": 60, \"opp_points_season\": 181, \"cat_made\": \"Oponente Castigo Ofensivo\"}]}}, {\"mode\": \"vega-lite\"});\n",
       "</script>"
      ],
      "text/plain": [
       "alt.Chart(...)"
      ]
     },
     "execution_count": 198,
     "metadata": {},
     "output_type": "execute_result"
    }
   ],
   "source": [
    "domain=[\"NE Castigo Defensivo\",\"NE Castigo Ofensivo\",\"Oponente Castigo Defensivo\",\"Oponente Castigo Ofensivo\"]\n",
    "range_=[\"#08415C\",\"#a5b9c3\",\"#d23051\",\"#eba3b1\"]\n",
    "#line_temporada_all\n",
    "base_temporada_all = alt.Chart(df_temporada_help).mark_trail().encode(   #trail y no line para poder cambiar el ancho de la línea\n",
    "    x = alt.X(\"season:N\",\n",
    "              title=\"Temporada\",\n",
    "              axis = alt.Axis(ticks=False, labels=True, labelAngle=0)), \n",
    "    y = alt.Y(\"sum_pen_season:Q\",\n",
    "               title=\"Total de Castigos\",\n",
    "               axis = alt.Axis(ticks=False, labels=True),\n",
    "               scale = alt.Scale (zero=False,)\n",
    "               ),\n",
    "    color = alt.Color(\"cat_made:N\", \n",
    "                      scale = alt.Scale(domain=domain, range=range_),\n",
    "                      legend= None),\n",
    "    size= alt.Size(\"sum_pen_season:Q\", legend=None,\n",
    "                   scale= alt.Scale(domain=[30,100], range=[1,18])\n",
    "                  )\n",
    ").properties(\n",
    "    width = 700,\n",
    "    height = 400\n",
    ")\n",
    "\n",
    "\n",
    "base_temporada_all"
   ]
  },
  {
   "cell_type": "code",
   "execution_count": 199,
   "metadata": {},
   "outputs": [
    {
     "data": {
      "text/html": [
       "\n",
       "<div id=\"altair-viz-123\"></div>\n",
       "<script type=\"text/javascript\">\n",
       "  (function(spec, embedOpt){\n",
       "    const outputDiv = document.getElementById(\"altair-viz-123\");\n",
       "    const paths = {\n",
       "      \"vega\": \"https://cdn.jsdelivr.net/npm//vega@5?noext\",\n",
       "      \"vega-lib\": \"https://cdn.jsdelivr.net/npm//vega-lib?noext\",\n",
       "      \"vega-lite\": \"https://cdn.jsdelivr.net/npm//vega-lite@4.0.0?noext\",\n",
       "      \"vega-embed\": \"https://cdn.jsdelivr.net/npm//vega-embed@6?noext\",\n",
       "    };\n",
       "\n",
       "    function loadScript(lib) {\n",
       "      return new Promise(function(resolve, reject) {\n",
       "        var s = document.createElement('script');\n",
       "        s.src = paths[lib];\n",
       "        s.async = true;\n",
       "        s.onload = () => resolve(paths[lib]);\n",
       "        s.onerror = () => reject(`Error loading script: ${paths[lib]}`);\n",
       "        document.getElementsByTagName(\"head\")[0].appendChild(s);\n",
       "      });\n",
       "    }\n",
       "\n",
       "    function showError(err) {\n",
       "      outputDiv.innerHTML = `<div class=\"error\" style=\"color:red;\">${err}</div>`;\n",
       "      throw err;\n",
       "    }\n",
       "\n",
       "    function displayChart(vegaEmbed) {\n",
       "      vegaEmbed(outputDiv, spec, embedOpt)\n",
       "        .catch(err => showError(`Javascript Error: ${err.message}<br>This usually means there's a typo in your chart specification. See the javascript console for the full traceback.`));\n",
       "    }\n",
       "\n",
       "    if(typeof define === \"function\" && define.amd) {\n",
       "      requirejs.config({paths});\n",
       "      require([\"vega-embed\"], displayChart, err => showError(`Error loading script: ${err.message}`));\n",
       "    } else if (typeof vegaEmbed === \"function\") {\n",
       "      displayChart(vegaEmbed);\n",
       "    } else {\n",
       "      loadScript(\"vega\")\n",
       "        .then(() => loadScript(\"vega-lite\"))\n",
       "        .then(() => loadScript(\"vega-embed\"))\n",
       "        .catch(showError)\n",
       "        .then(() => displayChart(vegaEmbed));\n",
       "    }\n",
       "  })({\"config\": {\"title\": {\"fontSize\": 22, \"font\": [\"Courier\"], \"anchor\": \"middle\", \"color\": \"#08415C\"}, \"axisX\": {\"labelFont\": \"Courier\", \"titleFont\": [\"Courier\"], \"titleFontSize\": 18, \"titleColor\": \"#08415C\", \"grid\": false}, \"axisY\": {\"axis\": null, \"labelFont\": \"Courier\", \"labelFontSize\": 12, \"titleFont\": [\"Courier\"], \"titleColor\": \"#08415C\", \"titleFontSize\": 16, \"grid\": false, \"ticks\": false, \"labels\": false}, \"legend\": {\"labelFont\": \"Courier\", \"labelFontSize\": 12, \"titleFont\": [\"Courier\"], \"titleFontSize\": 12, \"orient\": \"top\", \"title\": null}, \"range\": {\"category\": [\"#08415C\", \"#B0B7BC\"]}, \"view\": {\"stroke\": \"transparent\"}, \"facet\": {\"spacing\": 20}, \"header\": {\"labelColor\": \"#08415C\", \"labelSize\": 10}}, \"vconcat\": [{\"data\": {\"name\": \"data-32442ed68dc780b7008d83d3d54870d5\"}, \"mark\": \"trail\", \"encoding\": {\"color\": {\"type\": \"nominal\", \"field\": \"cat_made\", \"legend\": null, \"scale\": {\"domain\": [\"NE Castigo Defensivo\", \"NE Castigo Ofensivo\", \"Oponente Castigo Defensivo\", \"Oponente Castigo Ofensivo\"], \"range\": [\"#08415C\", \"#a5b9c3\", \"#d23051\", \"#eba3b1\"]}}, \"size\": {\"type\": \"quantitative\", \"field\": \"sum_pen_season\", \"legend\": null, \"scale\": {\"domain\": [30, 100], \"range\": [1, 18]}}, \"x\": {\"type\": \"nominal\", \"axis\": {\"labelAngle\": 0, \"labels\": true, \"ticks\": false}, \"field\": \"season\", \"title\": \"Temporada\"}, \"y\": {\"type\": \"quantitative\", \"axis\": {\"labels\": true, \"ticks\": false}, \"field\": \"sum_pen_season\", \"scale\": {\"zero\": false}, \"title\": \"Total de Castigos\"}}, \"height\": 400, \"width\": 700}, {\"data\": {\"name\": \"data-f247de6bb35cba63cff5435e326416d6\"}, \"mark\": {\"type\": \"text\", \"color\": \"#08415C\", \"dx\": 340, \"dy\": 5, \"font\": \"Courier\", \"size\": 10, \"text\": \"@nerudista\"}, \"height\": 20, \"width\": 700}], \"title\": \"Castigos Por Temporada\", \"$schema\": \"https://vega.github.io/schema/vega-lite/v4.0.0.json\", \"datasets\": {\"data-32442ed68dc780b7008d83d3d54870d5\": [{\"season\": \"2009\", \"penalty_side\": \"Castigo Defensivo\", \"team_penalty_cat\": \"NE\", \"sum_pen_season\": 30, \"opp_points_season\": 256, \"cat_made\": \"NE Castigo Defensivo\"}, {\"season\": \"2009\", \"penalty_side\": \"Castigo Defensivo\", \"team_penalty_cat\": \"Oponente\", \"sum_pen_season\": 50, \"opp_points_season\": 276, \"cat_made\": \"Oponente Castigo Defensivo\"}, {\"season\": \"2009\", \"penalty_side\": \"Castigo Ofensivo\", \"team_penalty_cat\": \"NE\", \"sum_pen_season\": 57, \"opp_points_season\": 280, \"cat_made\": \"NE Castigo Ofensivo\"}, {\"season\": \"2009\", \"penalty_side\": \"Castigo Ofensivo\", \"team_penalty_cat\": \"Oponente\", \"sum_pen_season\": 44, \"opp_points_season\": 296, \"cat_made\": \"Oponente Castigo Ofensivo\"}, {\"season\": \"2010\", \"penalty_side\": \"Castigo Defensivo\", \"team_penalty_cat\": \"NE\", \"sum_pen_season\": 33, \"opp_points_season\": 274, \"cat_made\": \"NE Castigo Defensivo\"}, {\"season\": \"2010\", \"penalty_side\": \"Castigo Defensivo\", \"team_penalty_cat\": \"Oponente\", \"sum_pen_season\": 41, \"opp_points_season\": 299, \"cat_made\": \"Oponente Castigo Defensivo\"}, {\"season\": \"2010\", \"penalty_side\": \"Castigo Ofensivo\", \"team_penalty_cat\": \"NE\", \"sum_pen_season\": 55, \"opp_points_season\": 313, \"cat_made\": \"NE Castigo Ofensivo\"}, {\"season\": \"2010\", \"penalty_side\": \"Castigo Ofensivo\", \"team_penalty_cat\": \"Oponente\", \"sum_pen_season\": 46, \"opp_points_season\": 314, \"cat_made\": \"Oponente Castigo Ofensivo\"}, {\"season\": \"2011\", \"penalty_side\": \"Castigo Defensivo\", \"team_penalty_cat\": \"NE\", \"sum_pen_season\": 41, \"opp_points_season\": 390, \"cat_made\": \"NE Castigo Defensivo\"}, {\"season\": \"2011\", \"penalty_side\": \"Castigo Defensivo\", \"team_penalty_cat\": \"Oponente\", \"sum_pen_season\": 64, \"opp_points_season\": 393, \"cat_made\": \"Oponente Castigo Defensivo\"}, {\"season\": \"2011\", \"penalty_side\": \"Castigo Ofensivo\", \"team_penalty_cat\": \"NE\", \"sum_pen_season\": 54, \"opp_points_season\": 363, \"cat_made\": \"NE Castigo Ofensivo\"}, {\"season\": \"2011\", \"penalty_side\": \"Castigo Ofensivo\", \"team_penalty_cat\": \"Oponente\", \"sum_pen_season\": 65, \"opp_points_season\": 393, \"cat_made\": \"Oponente Castigo Ofensivo\"}, {\"season\": \"2012\", \"penalty_side\": \"Castigo Defensivo\", \"team_penalty_cat\": \"NE\", \"sum_pen_season\": 60, \"opp_points_season\": 387, \"cat_made\": \"NE Castigo Defensivo\"}, {\"season\": \"2012\", \"penalty_side\": \"Castigo Defensivo\", \"team_penalty_cat\": \"Oponente\", \"sum_pen_season\": 61, \"opp_points_season\": 363, \"cat_made\": \"Oponente Castigo Defensivo\"}, {\"season\": \"2012\", \"penalty_side\": \"Castigo Ofensivo\", \"team_penalty_cat\": \"NE\", \"sum_pen_season\": 46, \"opp_points_season\": 346, \"cat_made\": \"NE Castigo Ofensivo\"}, {\"season\": \"2012\", \"penalty_side\": \"Castigo Ofensivo\", \"team_penalty_cat\": \"Oponente\", \"sum_pen_season\": 49, \"opp_points_season\": 366, \"cat_made\": \"Oponente Castigo Ofensivo\"}, {\"season\": \"2013\", \"penalty_side\": \"Castigo Defensivo\", \"team_penalty_cat\": \"NE\", \"sum_pen_season\": 36, \"opp_points_season\": 342, \"cat_made\": \"NE Castigo Defensivo\"}, {\"season\": \"2013\", \"penalty_side\": \"Castigo Defensivo\", \"team_penalty_cat\": \"Oponente\", \"sum_pen_season\": 67, \"opp_points_season\": 386, \"cat_made\": \"Oponente Castigo Defensivo\"}, {\"season\": \"2013\", \"penalty_side\": \"Castigo Ofensivo\", \"team_penalty_cat\": \"NE\", \"sum_pen_season\": 39, \"opp_points_season\": 318, \"cat_made\": \"NE Castigo Ofensivo\"}, {\"season\": \"2013\", \"penalty_side\": \"Castigo Ofensivo\", \"team_penalty_cat\": \"Oponente\", \"sum_pen_season\": 48, \"opp_points_season\": 362, \"cat_made\": \"Oponente Castigo Ofensivo\"}, {\"season\": \"2014\", \"penalty_side\": \"Castigo Defensivo\", \"team_penalty_cat\": \"NE\", \"sum_pen_season\": 73, \"opp_points_season\": 375, \"cat_made\": \"NE Castigo Defensivo\"}, {\"season\": \"2014\", \"penalty_side\": \"Castigo Defensivo\", \"team_penalty_cat\": \"Oponente\", \"sum_pen_season\": 62, \"opp_points_season\": 375, \"cat_made\": \"Oponente Castigo Defensivo\"}, {\"season\": \"2014\", \"penalty_side\": \"Castigo Ofensivo\", \"team_penalty_cat\": \"NE\", \"sum_pen_season\": 65, \"opp_points_season\": 375, \"cat_made\": \"NE Castigo Ofensivo\"}, {\"season\": \"2014\", \"penalty_side\": \"Castigo Ofensivo\", \"team_penalty_cat\": \"Oponente\", \"sum_pen_season\": 47, \"opp_points_season\": 375, \"cat_made\": \"Oponente Castigo Ofensivo\"}, {\"season\": \"2015\", \"penalty_side\": \"Castigo Defensivo\", \"team_penalty_cat\": \"NE\", \"sum_pen_season\": 44, \"opp_points_season\": 355, \"cat_made\": \"NE Castigo Defensivo\"}, {\"season\": \"2015\", \"penalty_side\": \"Castigo Defensivo\", \"team_penalty_cat\": \"Oponente\", \"sum_pen_season\": 60, \"opp_points_season\": 332, \"cat_made\": \"Oponente Castigo Defensivo\"}, {\"season\": \"2015\", \"penalty_side\": \"Castigo Ofensivo\", \"team_penalty_cat\": \"NE\", \"sum_pen_season\": 65, \"opp_points_season\": 329, \"cat_made\": \"NE Castigo Ofensivo\"}, {\"season\": \"2015\", \"penalty_side\": \"Castigo Ofensivo\", \"team_penalty_cat\": \"Oponente\", \"sum_pen_season\": 64, \"opp_points_season\": 355, \"cat_made\": \"Oponente Castigo Ofensivo\"}, {\"season\": \"2016\", \"penalty_side\": \"Castigo Defensivo\", \"team_penalty_cat\": \"NE\", \"sum_pen_season\": 44, \"opp_points_season\": 311, \"cat_made\": \"NE Castigo Defensivo\"}, {\"season\": \"2016\", \"penalty_side\": \"Castigo Defensivo\", \"team_penalty_cat\": \"Oponente\", \"sum_pen_season\": 67, \"opp_points_season\": 311, \"cat_made\": \"Oponente Castigo Defensivo\"}, {\"season\": \"2016\", \"penalty_side\": \"Castigo Ofensivo\", \"team_penalty_cat\": \"NE\", \"sum_pen_season\": 62, \"opp_points_season\": 294, \"cat_made\": \"NE Castigo Ofensivo\"}, {\"season\": \"2016\", \"penalty_side\": \"Castigo Ofensivo\", \"team_penalty_cat\": \"Oponente\", \"sum_pen_season\": 62, \"opp_points_season\": 311, \"cat_made\": \"Oponente Castigo Ofensivo\"}, {\"season\": \"2017\", \"penalty_side\": \"Castigo Defensivo\", \"team_penalty_cat\": \"NE\", \"sum_pen_season\": 45, \"opp_points_season\": 306, \"cat_made\": \"NE Castigo Defensivo\"}, {\"season\": \"2017\", \"penalty_side\": \"Castigo Defensivo\", \"team_penalty_cat\": \"Oponente\", \"sum_pen_season\": 78, \"opp_points_season\": 371, \"cat_made\": \"Oponente Castigo Defensivo\"}, {\"season\": \"2017\", \"penalty_side\": \"Castigo Ofensivo\", \"team_penalty_cat\": \"NE\", \"sum_pen_season\": 56, \"opp_points_season\": 311, \"cat_made\": \"NE Castigo Ofensivo\"}, {\"season\": \"2017\", \"penalty_side\": \"Castigo Ofensivo\", \"team_penalty_cat\": \"Oponente\", \"sum_pen_season\": 54, \"opp_points_season\": 331, \"cat_made\": \"Oponente Castigo Ofensivo\"}, {\"season\": \"2018\", \"penalty_side\": \"Castigo Defensivo\", \"team_penalty_cat\": \"NE\", \"sum_pen_season\": 37, \"opp_points_season\": 282, \"cat_made\": \"NE Castigo Defensivo\"}, {\"season\": \"2018\", \"penalty_side\": \"Castigo Defensivo\", \"team_penalty_cat\": \"Oponente\", \"sum_pen_season\": 45, \"opp_points_season\": 325, \"cat_made\": \"Oponente Castigo Defensivo\"}, {\"season\": \"2018\", \"penalty_side\": \"Castigo Ofensivo\", \"team_penalty_cat\": \"NE\", \"sum_pen_season\": 56, \"opp_points_season\": 237, \"cat_made\": \"NE Castigo Ofensivo\"}, {\"season\": \"2018\", \"penalty_side\": \"Castigo Ofensivo\", \"team_penalty_cat\": \"Oponente\", \"sum_pen_season\": 46, \"opp_points_season\": 325, \"cat_made\": \"Oponente Castigo Ofensivo\"}, {\"season\": \"2019\", \"penalty_side\": \"Castigo Defensivo\", \"team_penalty_cat\": \"NE\", \"sum_pen_season\": 42, \"opp_points_season\": 181, \"cat_made\": \"NE Castigo Defensivo\"}, {\"season\": \"2019\", \"penalty_side\": \"Castigo Defensivo\", \"team_penalty_cat\": \"Oponente\", \"sum_pen_season\": 36, \"opp_points_season\": 181, \"cat_made\": \"Oponente Castigo Defensivo\"}, {\"season\": \"2019\", \"penalty_side\": \"Castigo Ofensivo\", \"team_penalty_cat\": \"NE\", \"sum_pen_season\": 43, \"opp_points_season\": 181, \"cat_made\": \"NE Castigo Ofensivo\"}, {\"season\": \"2019\", \"penalty_side\": \"Castigo Ofensivo\", \"team_penalty_cat\": \"Oponente\", \"sum_pen_season\": 60, \"opp_points_season\": 181, \"cat_made\": \"Oponente Castigo Ofensivo\"}], \"data-f247de6bb35cba63cff5435e326416d6\": [{\"game_winner_cat\": \"NE\", \"team_penalty_cat\": \"NE\", \"penalty_side\": \"Castigo Defensivo\", \"mean_yds\": 28.7}, {\"game_winner_cat\": \"NE\", \"team_penalty_cat\": \"NE\", \"penalty_side\": \"Castigo Ofensivo\", \"mean_yds\": 28.4}, {\"game_winner_cat\": \"NE\", \"team_penalty_cat\": \"Oponente\", \"penalty_side\": \"Castigo Defensivo\", \"mean_yds\": 34.5}, {\"game_winner_cat\": \"NE\", \"team_penalty_cat\": \"Oponente\", \"penalty_side\": \"Castigo Ofensivo\", \"mean_yds\": 26.3}, {\"game_winner_cat\": \"Oponente\", \"team_penalty_cat\": \"NE\", \"penalty_side\": \"Castigo Defensivo\", \"mean_yds\": 31.1}, {\"game_winner_cat\": \"Oponente\", \"team_penalty_cat\": \"NE\", \"penalty_side\": \"Castigo Ofensivo\", \"mean_yds\": 27.5}, {\"game_winner_cat\": \"Oponente\", \"team_penalty_cat\": \"Oponente\", \"penalty_side\": \"Castigo Defensivo\", \"mean_yds\": 36.1}, {\"game_winner_cat\": \"Oponente\", \"team_penalty_cat\": \"Oponente\", \"penalty_side\": \"Castigo Ofensivo\", \"mean_yds\": 22.7}]}}, {\"mode\": \"vega-lite\"});\n",
       "</script>"
      ],
      "text/plain": [
       "alt.VConcatChart(...)"
      ]
     },
     "execution_count": 199,
     "metadata": {},
     "output_type": "execute_result"
    }
   ],
   "source": [
    "base_temporada_all= alt.vconcat( \n",
    "             #subtitle,\n",
    "             base_temporada_all,\n",
    "             caption_chart).properties(\n",
    "   title=\"Castigos Por Temporada\"  )\n",
    "\n",
    "#Guardar imagen\n",
    "base_temporada_all.save('./graficas/Altair/AltairCastigosAllSeason.png', scale_factor=1.0)\n",
    "\n",
    "base_temporada_all"
   ]
  },
  {
   "cell_type": "code",
   "execution_count": null,
   "metadata": {},
   "outputs": [],
   "source": []
  }
 ],
 "metadata": {
  "kernelspec": {
   "display_name": "Python 3",
   "language": "python",
   "name": "python3"
  },
  "language_info": {
   "codemirror_mode": {
    "name": "ipython",
    "version": 3
   },
   "file_extension": ".py",
   "mimetype": "text/x-python",
   "name": "python",
   "nbconvert_exporter": "python",
   "pygments_lexer": "ipython3",
   "version": "3.7.1"
  }
 },
 "nbformat": 4,
 "nbformat_minor": 4
}
